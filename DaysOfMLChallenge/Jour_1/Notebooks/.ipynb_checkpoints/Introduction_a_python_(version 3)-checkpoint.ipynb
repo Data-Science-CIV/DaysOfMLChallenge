{
 "cells": [
  {
   "cell_type": "markdown",
   "metadata": {},
   "source": [
    "# JOUR: 1 Introduction à python 3.x"
   ]
  },
  {
   "cell_type": "markdown",
   "metadata": {},
   "source": [
    "### Affichage d'un message"
   ]
  },
  {
   "cell_type": "code",
   "execution_count": 1,
   "metadata": {},
   "outputs": [
    {
     "name": "stdout",
     "output_type": "stream",
     "text": [
      "Bonjour le monde ! \n"
     ]
    }
   ],
   "source": [
    "print(\"Bonjour le monde ! \")"
   ]
  },
  {
   "cell_type": "markdown",
   "metadata": {},
   "source": [
    "### Les variables et les constantes\n",
    "* Déclaration \n",
    "* Types de base en python\n",
    "    * entier \n",
    "    * réel\n",
    "    * caractère ou chaîne de caractère\n",
    "    \n",
    "* Quelques opérations \n",
    "    * Opérations mathématiques (somme (+), soustractiion (-), produit(*), division(/))\n",
    "    * Opérations sur les chaînes\n",
    "    \n",
    "* Casting ou transtypage"
   ]
  },
  {
   "cell_type": "code",
   "execution_count": 19,
   "metadata": {},
   "outputs": [
    {
     "name": "stdout",
     "output_type": "stream",
     "text": [
      "\n",
      "declarer un entier \n",
      "10\n",
      "<class 'int'>\n",
      "\n",
      "declarer un reel\n",
      "3.5\n",
      "<class 'float'>\n",
      "\n",
      "declarer un caratère ou une chaîne de caractère\n",
      "a\n",
      "<class 'str'>\n",
      "Hala Madrid !\n",
      "<class 'str'>\n",
      "\n",
      "Quelques opérations\n",
      "13.5\n",
      "<class 'float'>\n",
      "20\n",
      "<class 'int'>\n",
      "a Hala Madrid !\n",
      "<class 'str'>\n",
      "aaaa\n",
      "<class 'str'>\n",
      "\n",
      "Casting\n",
      "10.0\n",
      "<class 'float'>\n"
     ]
    }
   ],
   "source": [
    "# declarer un entier \n",
    "print(\"\\ndeclarer un entier \")\n",
    "x = 10\n",
    "print(x)\n",
    "print(type(x))\n",
    "\n",
    "# declarer un reel\n",
    "print('\\ndeclarer un reel')\n",
    "y = 3.5\n",
    "print(y)\n",
    "print(type(y))\n",
    "\n",
    "# declarer un caratère ou une chaîne de caractère\n",
    "print('\\ndeclarer un caratère ou une chaîne de caractère')\n",
    "z = \"a\"\n",
    "print(z)\n",
    "print(type(z))\n",
    "\n",
    "\n",
    "t = 'Hala Madrid !'\n",
    "print(t)\n",
    "print(type(t))\n",
    "\n",
    "\n",
    "# Quelques opérations\n",
    "print(\"\\nQuelques opérations\")\n",
    "\n",
    "resultat1 = x+y\n",
    "print(resultat1)\n",
    "print(type(resultat1))\n",
    "\n",
    "resultat2 = 2*x\n",
    "print(resultat2)\n",
    "print(type(resultat2))\n",
    "\n",
    "\n",
    "resultat3 = z + ' ' + t\n",
    "print(resultat3)\n",
    "print(type(resultat3))\n",
    "\n",
    "resultat4 = 4*z\n",
    "print(resultat4)\n",
    "print(type(resultat4))\n",
    "\n",
    "# Casting\n",
    "print(\"\\nCasting\")\n",
    "n = float(x)\n",
    "print(n)\n",
    "print(type(n))\n"
   ]
  },
  {
   "cell_type": "markdown",
   "metadata": {},
   "source": [
    "### Afficher une variable dans un flux de sortie \n",
    "* la fonction *format ou f*"
   ]
  },
  {
   "cell_type": "code",
   "execution_count": 6,
   "metadata": {},
   "outputs": [
    {
     "name": "stdout",
     "output_type": "stream",
     "text": [
      "La valeur de x est : 10\n",
      "La valeur de t est : Hala Madrid !\n"
     ]
    }
   ],
   "source": [
    "print(\"La valeur de x est : {}\".format(x))\n",
    "\n",
    "print(f\"La valeur de t est : {t}\")"
   ]
  },
  {
   "cell_type": "markdown",
   "metadata": {},
   "source": [
    "### Quelques structures de données simples\n",
    "* Les listes\n",
    "* Les dictionnaires\n",
    "* Les tuples\n",
    "* Les fichiers\n",
    "\n",
    "* Déclaration de listes et dictionnaires en compréhension"
   ]
  },
  {
   "cell_type": "markdown",
   "metadata": {},
   "source": [
    "##### Listes"
   ]
  },
  {
   "cell_type": "code",
   "execution_count": 158,
   "metadata": {},
   "outputs": [
    {
     "name": "stdout",
     "output_type": "stream",
     "text": [
      "\n",
      "La liste de nombres est : [0.1, 10, 15, 6, -4, 8]\n",
      "Cette  liste est de type : <class 'list'>\n",
      "sa taille est : 6\n",
      "\n",
      "La liste de nombres est : ['c', \"j'aime la data science\", 'La vie est belle']\n",
      "\n",
      "Cette  liste est de type : <class 'list'>\n",
      "sa taille est : 3\n",
      "\n",
      "association/concatenation : [0.1, 10, 15, 6, -4, 8, 0.1, 10, 15, 6, -4, 8]\n",
      "\n",
      "association/concatenation : ['c', \"j'aime la data science\", 'La vie est belle', 'c', \"j'aime la data science\", 'La vie est belle', 'c', \"j'aime la data science\", 'La vie est belle']\n",
      "\n",
      "La nouvelle liste de nombres est : [0.1, 10, 15, 6, -4, 8, -2]\n",
      "\n",
      "La nouvelle liste de str est : [\"j'aime la data science\", 'La vie est belle']\n",
      "\n",
      "La nouvelle liste de str est : [\"j'aime la data science\", 'La vie est belle', 'Barça']\n",
      "\n",
      "L'élément 10 est à la position 1 de la liste\n"
     ]
    }
   ],
   "source": [
    "# declaration en extension\n",
    "liste_de_nombres = [0.1, 10, 15, 6, -4, 8]\n",
    "liste_de_str = list([\"c\", \"j'aime la data science\", 'La vie est belle'])\n",
    "\n",
    "print(f'\\nLa liste de nombres est : {liste_de_nombres}')\n",
    "print(f'Cette  liste est de type : {type(liste_de_nombres)}')\n",
    "print(f'sa taille est : {len(liste_de_nombres)}')\n",
    "\n",
    "print(f'\\nLa liste de nombres est : {liste_de_str}')\n",
    "print(f'\\nCette  liste est de type : {type(liste_de_str)}')\n",
    "print(f'sa taille est : {len(liste_de_str)}')\n",
    "\n",
    "\n",
    "\n",
    "### Quelques opérations sur les listes\n",
    "# association ou concatenation \n",
    "\n",
    "asso = liste_de_nombres + liste_de_nombres\n",
    "print(f\"\\nassociation/concatenation : {asso}\")\n",
    "\n",
    "asso1 = liste_de_str * 3\n",
    "print(f\"\\nassociation/concatenation : {asso1}\")\n",
    "\n",
    "# ajouter un élément à la fin\n",
    "liste_de_nombres.append(-2)\n",
    "print(f'\\nLa nouvelle liste de nombres est : {liste_de_nombres}')\n",
    "\n",
    "# returer un élément \n",
    "liste_de_str.remove('c')\n",
    "print(f'\\nLa nouvelle liste de str est : {liste_de_str}')\n",
    "\n",
    "# ajouter un élément à une position précise\n",
    "liste_de_str.insert(3, \"Barça\")\n",
    "print(f'\\nLa nouvelle liste de str est : {liste_de_str}')\n",
    "\n",
    "\n",
    "# obtenir la position d'un élémént\n",
    "idx = liste_de_nombres.index(10)\n",
    "print(f\"\\nL'élément 10 est à la position {idx} de la liste\")\n"
   ]
  },
  {
   "cell_type": "markdown",
   "metadata": {},
   "source": [
    "##### Dictionnaires\n",
    "    {cle : valeur}"
   ]
  },
  {
   "cell_type": "code",
   "execution_count": 47,
   "metadata": {},
   "outputs": [
    {
     "name": "stdout",
     "output_type": "stream",
     "text": [
      "\n",
      "La variable dico = {} est un dictionnaire\n",
      "\n",
      "Nouveau dictionnaire : {'x': 4, 'y': 13.7}\n",
      "\n",
      "Les clés : dict_keys(['x', 'y'])\n",
      "\n",
      "Les valeurs : dict_values([4, 13.7])\n",
      "\n",
      "Les entrées : dict_items([('x', 4), ('y', 13.7)])\n"
     ]
    }
   ],
   "source": [
    "dico = dict()\n",
    "# ou alors \n",
    "dicti = {} # c'est pareil\n",
    "\n",
    "print(f\"\\nLa variable dico = {dico} est un dictionnaire\")\n",
    "\n",
    "# ajout d'un élément \n",
    "dico[\"x\"] = 4\n",
    "dico[\"y\"] = 13.7\n",
    "print(f\"\\nNouveau dictionnaire : {dico}\")\n",
    "\n",
    "print(f\"\\nLes clés : {dico.keys()}\")\n",
    "print(f\"\\nLes valeurs : {dico.values()}\")\n",
    "print(f\"\\nLes entrées : {dico.items()}\")\n"
   ]
  },
  {
   "cell_type": "code",
   "execution_count": null,
   "metadata": {},
   "outputs": [],
   "source": []
  },
  {
   "cell_type": "markdown",
   "metadata": {},
   "source": [
    "##### Tuples"
   ]
  },
  {
   "cell_type": "code",
   "execution_count": 62,
   "metadata": {},
   "outputs": [
    {
     "name": "stdout",
     "output_type": "stream",
     "text": [
      "tup : (3, 4, -1, -7, -1) est de type <class 'tuple'>\n"
     ]
    }
   ],
   "source": [
    "tup = (3, 4, -1, -7, -1)\n",
    "print(f'tup : {tup} est de type {type(tup)}')"
   ]
  },
  {
   "cell_type": "code",
   "execution_count": 63,
   "metadata": {},
   "outputs": [
    {
     "data": {
      "text/plain": [
       "0"
      ]
     },
     "execution_count": 63,
     "metadata": {},
     "output_type": "execute_result"
    }
   ],
   "source": [
    "tup.index(3)"
   ]
  },
  {
   "cell_type": "code",
   "execution_count": 64,
   "metadata": {},
   "outputs": [
    {
     "data": {
      "text/plain": [
       "2"
      ]
     },
     "execution_count": 64,
     "metadata": {},
     "output_type": "execute_result"
    }
   ],
   "source": [
    "tup.count(-1)"
   ]
  },
  {
   "cell_type": "markdown",
   "metadata": {},
   "source": [
    "##### Fichiers\n",
    "- creation \n",
    "- ecriture\n",
    "- sauvegarde\n",
    "- lecture"
   ]
  },
  {
   "cell_type": "code",
   "execution_count": 74,
   "metadata": {},
   "outputs": [],
   "source": [
    "mon_fichier = 'jour1.txt'\n",
    "\n",
    "# creation du fichier et ecriture à l'intérieur\n",
    "# le fichier sera créé dans le m^me dossier que le script si aucun \n",
    "# chemin n'est spécidié\n",
    "with open(mon_fichier, 'w') as fic:\n",
    "    fic.writelines([\"\\nMariam joue à la balle\\n\", \n",
    "                    \"La vie est beeeelle\\n\", \"python c'est top !\\n\"])\n",
    "    fic.close()# ne jamais oublier de ferer le fichier"
   ]
  },
  {
   "cell_type": "code",
   "execution_count": 75,
   "metadata": {},
   "outputs": [
    {
     "name": "stdout",
     "output_type": "stream",
     "text": [
      "['\\n', 'Mariam joue à la balle\\n', 'La vie est beeeelle\\n', \"python c'est top !\\n\"]\n",
      "\n",
      "\n",
      "Mariam joue à la balle\n",
      "\n",
      "La vie est beeeelle\n",
      "\n",
      "python c'est top !\n",
      "\n"
     ]
    }
   ],
   "source": [
    "# lecture du fichier\n",
    "with open(mon_fichier, 'r') as fic:\n",
    "    lignes = fic.readlines()\n",
    "    print(lignes)\n",
    "    for ligne in lignes:\n",
    "        print(ligne)\n",
    "    fic.close()"
   ]
  },
  {
   "cell_type": "code",
   "execution_count": null,
   "metadata": {},
   "outputs": [],
   "source": []
  },
  {
   "cell_type": "markdown",
   "metadata": {},
   "source": [
    "### Les structures de contrôle\n",
    "* Les stuctures conditionnelles (if elif else)\n",
    "* Les boucles (for & while)"
   ]
  },
  {
   "cell_type": "code",
   "execution_count": 92,
   "metadata": {},
   "outputs": [
    {
     "name": "stdout",
     "output_type": "stream",
     "text": [
      "Saisissez une valeur : -14\n",
      "Vous avez saisi -14.0 qui est un nombre negatif de type : <class 'float'>\n"
     ]
    }
   ],
   "source": [
    "val = input(\"Saisissez une valeur : \")\n",
    "# la fonction input retourne une chaine de caractère\n",
    "\n",
    "\n",
    "# convertir la valeur str en nombre\n",
    "val = float(val)\n",
    "\n",
    "if val > 0:\n",
    "    print(f\"Vous avez saisi {val} qui est un nombre positif de type : {type(val)}\")\n",
    "else:\n",
    "    print(f\"Vous avez saisi {val} qui est un nombre negatif de type : {type(val)}\")\n"
   ]
  },
  {
   "cell_type": "code",
   "execution_count": 142,
   "metadata": {},
   "outputs": [
    {
     "name": "stdout",
     "output_type": "stream",
     "text": [
      "indice : 0 => element : 0.1\n",
      "indice : 1 => element : 10\n",
      "indice : 2 => element : 15\n",
      "indice : 3 => element : 6\n",
      "indice : 4 => element : -4\n",
      "indice : 5 => element : 8\n",
      "indice : 6 => element : -2\n"
     ]
    }
   ],
   "source": [
    "# la boucle for\n",
    "# afficher chaque élément de la liste de nombres\n",
    "\n",
    "for indice, elt in enumerate(liste_de_nombres):\n",
    "    print(f\"indice : {indice} => element : {elt}\")\n"
   ]
  },
  {
   "cell_type": "code",
   "execution_count": 168,
   "metadata": {},
   "outputs": [
    {
     "name": "stdout",
     "output_type": "stream",
     "text": [
      "indice actuel : 0 => element : 0.1\n",
      "indice suivant : 1 \n",
      "\n",
      "indice actuel : 1 => element : 10\n",
      "indice suivant : 2 \n",
      "\n",
      "indice actuel : 2 => element : 15\n",
      "indice suivant : 3 \n",
      "\n",
      "indice actuel : 3 => element : 6\n",
      "indice suivant : 4 \n",
      "\n",
      "indice actuel : 4 => element : -4\n",
      "indice suivant : 5 \n",
      "\n",
      "indice actuel : 5 => element : 8\n",
      "indice suivant : 6 \n",
      "\n",
      "indice actuel : 6 => element : -2\n",
      "indice suivant : 7 \n",
      "\n"
     ]
    }
   ],
   "source": [
    "# la boucle while \n",
    "# afficher chaque élément de la liste de nombres\n",
    "\n",
    "# on doit initialiser le debut\n",
    "# et donner un critère d'arrêt sinon... la boucle ne va jamais s'arreter\n",
    "# et ça .... bah c'est pas top\n",
    "\n",
    "# on choist le premier element de la liste\n",
    "indice = 0\n",
    "\n",
    "# puis on parcours la liste jusqu'à atteindre la fin (l'élément avec l'indice len(liste_de_nombres)-1)\n",
    "# car les indice vont de 0 à (len(liste_de_nombre)-1)\n",
    "\n",
    "while indice != len(liste_de_nombres):\n",
    "    # on affiche le nombre\n",
    "    print(f\"indice actuel : {indice} => element : {liste_de_nombres[indice]}\")\n",
    "    \n",
    "    # on passe à l'indice suivant\n",
    "    indice = indice + 1\n",
    "    print(f'indice suivant : {indice} \\n')\n"
   ]
  },
  {
   "cell_type": "code",
   "execution_count": 169,
   "metadata": {},
   "outputs": [
    {
     "name": "stdout",
     "output_type": "stream",
     "text": [
      "[0, 1, 2, 3, 4, 5, 6, 7, 8, 9]\n"
     ]
    }
   ],
   "source": [
    "# liste en comprehension\n",
    "# une liste de valeurs allant de 0 à 9\n",
    "ll = [x for x in range(10)]\n",
    "print(ll)"
   ]
  },
  {
   "cell_type": "code",
   "execution_count": 173,
   "metadata": {},
   "outputs": [
    {
     "data": {
      "text/plain": [
       "{'a': 97,\n",
       " 'b': 98,\n",
       " 'c': 99,\n",
       " 'd': 100,\n",
       " 'e': 101,\n",
       " 'f': 102,\n",
       " 'g': 103,\n",
       " 'h': 104,\n",
       " 'i': 105,\n",
       " 'j': 106,\n",
       " 'k': 107,\n",
       " 'l': 108,\n",
       " 'm': 109,\n",
       " 'n': 110,\n",
       " 'o': 111,\n",
       " 'p': 112,\n",
       " 'q': 113,\n",
       " 'r': 114,\n",
       " 's': 115,\n",
       " 't': 116,\n",
       " 'u': 117,\n",
       " 'v': 118,\n",
       " 'w': 119,\n",
       " 'x': 120,\n",
       " 'y': 121,\n",
       " 'z': 122}"
      ]
     },
     "execution_count": 173,
     "metadata": {},
     "output_type": "execute_result"
    }
   ],
   "source": [
    "# dictionnaires en comprehension\n",
    " \n",
    "soft_dict = {chr(x) : x  for x in range(97, 123)}\n",
    "soft_dict"
   ]
  },
  {
   "cell_type": "markdown",
   "metadata": {},
   "source": [
    "### Les fonctions et les procédures\n",
    "* fonctions simples \n",
    "* fonctions de type Lambda\n",
    "* procédures"
   ]
  },
  {
   "cell_type": "code",
   "execution_count": 99,
   "metadata": {},
   "outputs": [
    {
     "name": "stdout",
     "output_type": "stream",
     "text": [
      "4\n",
      "4\n",
      "4\n"
     ]
    }
   ],
   "source": [
    "# fonctions\n",
    "def carre(x):\n",
    "    return x*x\n",
    "\n",
    "def carre1(x):\n",
    "    return pow(x, 2)\n",
    "\n",
    "def carre2(x):\n",
    "    return x**2\n",
    "    \n",
    "print(carre(2))\n",
    "print(carre1(2))\n",
    "print(carre2(2))"
   ]
  },
  {
   "cell_type": "code",
   "execution_count": 100,
   "metadata": {},
   "outputs": [],
   "source": [
    "# fonction de type lambda\n",
    "f = lambda x: 'positif' if x>0 else 'negatif'"
   ]
  },
  {
   "cell_type": "code",
   "execution_count": 101,
   "metadata": {},
   "outputs": [
    {
     "data": {
      "text/plain": [
       "'negatif'"
      ]
     },
     "execution_count": 101,
     "metadata": {},
     "output_type": "execute_result"
    }
   ],
   "source": [
    "f(-5.8)"
   ]
  },
  {
   "cell_type": "code",
   "execution_count": 102,
   "metadata": {},
   "outputs": [],
   "source": [
    "# procédures\n",
    "l = [4, 8, 9]\n",
    "\n",
    "def ajouter_liste(liste, valeur):\n",
    "    liste = list(liste)\n",
    "    print(f\"La liste  de base est : {liste}\")\n",
    "    liste.append(valeur)\n",
    "    print(f\"La nouvelle liste est : {liste}\")\n",
    "    "
   ]
  },
  {
   "cell_type": "code",
   "execution_count": 103,
   "metadata": {},
   "outputs": [
    {
     "name": "stdout",
     "output_type": "stream",
     "text": [
      "La liste  de base est : [4, 8, 9]\n",
      "La nouvelle liste est : [4, 8, 9, 'maman']\n"
     ]
    }
   ],
   "source": [
    "ajouter_liste(l, 'maman')"
   ]
  },
  {
   "cell_type": "markdown",
   "metadata": {},
   "source": [
    "### La Programmation Orientée Objet (POO)\n",
    "* Les classes\n",
    "* Les objets"
   ]
  },
  {
   "cell_type": "code",
   "execution_count": 118,
   "metadata": {},
   "outputs": [],
   "source": [
    "# definir une classe \n",
    "# une classe est un nouveau type qu'on définit\n",
    "class Joueur():\n",
    "    def __init__(self, nom, equipe, nationalite, genre, poste):\n",
    "        self.nom = nom\n",
    "        self.equipe = equipe\n",
    "        self.nationalite = nationalite\n",
    "        self.genre = genre\n",
    "        self.poste = poste\n",
    "    \n",
    "    # une methode\n",
    "    def estHomme(self):\n",
    "        return 'oui' if self.genre.lower() == 'h' else 'non'\n",
    "    \n",
    "    def presenter(self):\n",
    "        print(f\"Nom de joueur : {self.nom}\")\n",
    "        print(f\"Nationalité : {self.nationalite}\")\n",
    "        print(f\"Equipe : {self.equipe}\")\n",
    "        print(f\"Genre : {self.genre}\")\n",
    "        print(f\"Poste : {self.poste}\")"
   ]
  },
  {
   "cell_type": "code",
   "execution_count": 119,
   "metadata": {},
   "outputs": [
    {
     "data": {
      "text/plain": [
       "'oui'"
      ]
     },
     "execution_count": 119,
     "metadata": {},
     "output_type": "execute_result"
    }
   ],
   "source": [
    "# creer un objet de type joueur\n",
    "messi = Joueur(nom='MESSI', \n",
    "               equipe='FC Barcelonne', \n",
    "               nationalite='Argentine', \n",
    "               genre='H', \n",
    "               poste='attaquant')\n",
    "\n",
    "messi.estHomme()"
   ]
  },
  {
   "cell_type": "code",
   "execution_count": 110,
   "metadata": {},
   "outputs": [
    {
     "name": "stdout",
     "output_type": "stream",
     "text": [
      "Nom de joueur : MESSI\n",
      "Nationalité : Argentine\n",
      "Equipe : FC Barcelonne\n",
      "Genre : H\n",
      "Poste : attaquant\n"
     ]
    }
   ],
   "source": [
    "messi.presenter()"
   ]
  },
  {
   "cell_type": "markdown",
   "metadata": {},
   "source": [
    "### Aller plus loin... \n",
    "* Le module os"
   ]
  },
  {
   "cell_type": "code",
   "execution_count": 121,
   "metadata": {},
   "outputs": [
    {
     "name": "stdout",
     "output_type": "stream",
     "text": [
      "['.ipynb_checkpoints', 'Introduction_a_python_(version 3).ipynb', 'jour1.txt']\n"
     ]
    }
   ],
   "source": [
    "# importer un module \n",
    "import os \n",
    "\n",
    "# lister les fichiers présents à la racine (./) du script\n",
    "print(os.listdir('./'))"
   ]
  },
  {
   "cell_type": "code",
   "execution_count": 114,
   "metadata": {},
   "outputs": [],
   "source": [
    "# afficher les fonctions et procedures disponibles dans le module\n",
    "# pour cela on saisi le module suivi d'un point et on tape la touche \n",
    "# tabulation "
   ]
  },
  {
   "cell_type": "markdown",
   "metadata": {},
   "source": [
    "# ressources utiles :\n",
    "* **apprendre_python3_5 473P.pdf**\n",
    "*  Bonne lecture ;-) XOXO"
   ]
  }
 ],
 "metadata": {
  "kernelspec": {
   "display_name": "Python 3",
   "language": "python",
   "name": "python3"
  },
  "language_info": {
   "codemirror_mode": {
    "name": "ipython",
    "version": 3
   },
   "file_extension": ".py",
   "mimetype": "text/x-python",
   "name": "python",
   "nbconvert_exporter": "python",
   "pygments_lexer": "ipython3",
   "version": "3.7.6"
  }
 },
 "nbformat": 4,
 "nbformat_minor": 4
}
