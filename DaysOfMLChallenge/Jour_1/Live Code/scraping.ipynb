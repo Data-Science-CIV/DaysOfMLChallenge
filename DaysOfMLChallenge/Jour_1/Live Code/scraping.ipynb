{
 "cells": [
  {
   "cell_type": "markdown",
   "metadata": {},
   "source": [
    "# Bienvenue au Live Coding (Web Scraping) ***Data Science CI***\n",
    "\n",
    "<div align='center'>\n",
    "\n",
    "<img src=\"https://fiverr-res.cloudinary.com/images/q_auto,f_auto/gigs/134606170/original/fb4be771c30d6cb17fa9caee0322a7f6aeb843d0/do-data-mining-web-scraping-from-website-or-webpage-to-excel.png\" alt=\"logo web scraping\" >\n",
    "\n",
    "</div>\n",
    "Source : Google Images"
   ]
  },
  {
   "cell_type": "markdown",
   "metadata": {},
   "source": [
    "## Web Scraping\n",
    "**Description:** .\n",
    "\n",
    "**Utility:** ."
   ]
  },
  {
   "cell_type": "markdown",
   "metadata": {},
   "source": [
    "# Live Coding"
   ]
  },
  {
   "cell_type": "markdown",
   "metadata": {},
   "source": [
    "## Install and Import needed packages"
   ]
  },
  {
   "cell_type": "code",
   "execution_count": 1,
   "metadata": {},
   "outputs": [],
   "source": [
    "!pip install --quiet beautifulsoup4 # useful to manipulate web pages source code"
   ]
  },
  {
   "cell_type": "code",
   "execution_count": 2,
   "metadata": {},
   "outputs": [],
   "source": [
    "from bs4 import BeautifulSoup as bs\n",
    "import requests # useful to request web pages and get their source coded"
   ]
  },
  {
   "cell_type": "markdown",
   "metadata": {},
   "source": [
    "## Set url and request it"
   ]
  },
  {
   "cell_type": "code",
   "execution_count": 3,
   "metadata": {},
   "outputs": [],
   "source": [
    "# BBC Africa Sport page link\n",
    "page_url = 'https://www.bbc.com/afrique/topics/c404v54yrqyt' \n",
    "\n",
    "# We request the page to get the whole page code source\n",
    "response = requests.get(page_url)"
   ]
  },
  {
   "cell_type": "code",
   "execution_count": 5,
   "metadata": {},
   "outputs": [
    {
     "data": {
      "text/plain": [
       "200"
      ]
     },
     "execution_count": 5,
     "metadata": {},
     "output_type": "execute_result"
    }
   ],
   "source": [
    "## Check Status Code of request to see if the request was successful\n",
    "response.status_code # <></>"
   ]
  },
  {
   "cell_type": "markdown",
   "metadata": {},
   "source": [
    "<div align='center'>\n",
    "<p style='text-align:center'><b>Summary of HTTP request status codes</b></p>\n",
    "<img src=\"https://www.researchgate.net/profile/Vaibhav_Hemant_Dixit/publication/328327565/figure/tbl1/AS:682534392303619@1539740288388/HTTP-response-codes-and-inference.png\" alt=\"Table of HTTP request status codes\" >\n",
    "\n",
    "</div>\n",
    "\n",
    "Source : AIM-SDN: Attacking Information Mismanagement in SDN-datastores _found on Research Gate_\n",
    "\n",
    "\n",
    "\n"
   ]
  },
  {
   "cell_type": "markdown",
   "metadata": {},
   "source": [
    "## Show response text content and Parse the content to BeautifulSoup"
   ]
  },
  {
   "cell_type": "code",
   "execution_count": null,
   "metadata": {},
   "outputs": [],
   "source": [
    "# print(response.text [:788])"
   ]
  },
  {
   "cell_type": "raw",
   "metadata": {},
   "source": [
    "<!DOCTYPE html>\n",
    "<html lang=\"fr-002\" class=\"b-pw-1280\" id=\"responsive-news\">\n",
    "<head>\n",
    "    <meta name=\"viewport\" content=\"width=device-width, initial-scale=1, user-scalable=1\">\n",
    "    <meta name=\"robots\" content=\"NOODP,NOYDIR\" />\n",
    "    <meta charset=\"utf-8\">\n",
    "    <meta http-equiv=\"X-UA-Compatible\" content=\"IE=edge,chrome=1\">\n",
    "    <meta http-equiv=\"cleartype\" content=\"on\">\n",
    "    <link rel=\"preload\" as=\"script\" href=\"//fig.bbc.co.uk/frameworks/fig/2/fig.js?callback=orb.orb_fig\">\n",
    "    <link href=\"//static.bbc.co.uk\" rel=\"preconnect\" crossorigin>\n",
    "    <link href=\"//nav.files.bbci.co.uk\" rel=\"preconnect\" crossorigin>\n",
    "    <link href=\"//m.files.bbci.co.uk\" rel=\"preconnect\" crossorigin>\n",
    "    <link rel=\"dns-prefetch\" href=\"//mybbc.files.bbci.co.uk\">\n",
    "    <link rel=\"dns-prefetch\" href=\"//ssl.bbc.co.uk/\">"
   ]
  },
  {
   "cell_type": "code",
   "execution_count": 7,
   "metadata": {},
   "outputs": [],
   "source": [
    "# Parsing response to BeautifulSoup to handle it\n",
    "soup = bs(response.text)"
   ]
  },
  {
   "cell_type": "code",
   "execution_count": 8,
   "metadata": {},
   "outputs": [
    {
     "data": {
      "text/plain": [
       "bs4.BeautifulSoup"
      ]
     },
     "execution_count": 8,
     "metadata": {},
     "output_type": "execute_result"
    }
   ],
   "source": [
    "type(soup)"
   ]
  },
  {
   "cell_type": "code",
   "execution_count": 9,
   "metadata": {},
   "outputs": [],
   "source": [
    "#To get help in order to use the created soup variable from bs4.BeautifulSoup type\n",
    "\n",
    "# help(soup)"
   ]
  },
  {
   "cell_type": "raw",
   "metadata": {},
   "source": [
    "Help on BeautifulSoup in module bs4 object:\n",
    "\n",
    "class BeautifulSoup(bs4.element.Tag)\n",
    " |  BeautifulSoup(markup='', features=None, builder=None, parse_only=None, from_encoding=None, exclude_encodings=None, element_classes=None, **kwargs)\n",
    " |  \n",
    " |  A data structure..."
   ]
  },
  {
   "cell_type": "markdown",
   "metadata": {},
   "source": [
    "## Use the BeautifulSoup object to gather informations that we want"
   ]
  },
  {
   "cell_type": "markdown",
   "metadata": {},
   "source": [
    "> Here we want to get all informations about publications of the target web page.\n",
    "We use Browser inspector to do that.\n",
    "\n",
    "> We found that each publication is in `<li>` tag the whole in `<ol>` tag with attribute `class=\"gs-u-m0 gs-u-p0 lx-stream__feed qa-stream\"`. We'll use `BeautifulSoup` methods `find` and `find_all` to retrieve tags which contain useful data.\n",
    "\n",
    "\n",
    "<div align='center'>\n",
    "\n",
    "<img src=\"https://drive.google.com/uc?export=view&id=1EDKWf9Nt7nQ53T1JwupAOYqJ2CjrJFAe\" alt=\"BBC Africa Sport inspecting in Google Chrome\" >\n",
    "\n",
    "</div>\n",
    "Source : Emmanuel KOUPOH"
   ]
  },
  {
   "cell_type": "markdown",
   "metadata": {},
   "source": [
    "> After inpection, We found that there have two main types of publications :  `reading articles (containing image and text)` and `video reportages`. Then we'll follow the next steps to do our Scraping : \n",
    "\n",
    "1.   Isolate the tag `<ol>` which contains all publications ;\n",
    "1.   Gather each `<li>` which represents a publication ; \n",
    "1.   Make a prototype each of two main types of publications ; \n",
    "1.   Run a loop over all `<li>` of isolated the `<ol>`."
   ]
  },
  {
   "cell_type": "markdown",
   "metadata": {},
   "source": [
    "### Isolate the tag `<ol>` which contains all publications"
   ]
  },
  {
   "cell_type": "code",
   "execution_count": 20,
   "metadata": {},
   "outputs": [],
   "source": [
    "publications_container = soup.find(\"ol\", {\"class\" : \"gs-u-m0 gs-u-p0 lx-stream__feed qa-stream\"} )"
   ]
  },
  {
   "cell_type": "markdown",
   "metadata": {},
   "source": [
    "Just an info : find method return a tag that we have to handle like a BoutifulSoup object."
   ]
  },
  {
   "cell_type": "code",
   "execution_count": 21,
   "metadata": {},
   "outputs": [
    {
     "data": {
      "text/plain": [
       "<ol class=\"gs-u-m0 gs-u-p0 lx-stream__feed qa-stream\" data-reactid=\".zoekeinsdq.1.0.1.1\"><noscript data-reactid=\".zoekeinsdq.1.0.1.1.0\"></noscript><li class=\"lx-stream__post-container placeholder-animation-finished\" data-reactid=\".zoekeinsdq.1.0.1.1.1:$post-53279666\"><article aria-labelledby=\"title_53279666\" class=\"qa-post gs-u-pb-alt+ lx-stream-post gs-u-pt-alt+ gs-u-align-left\" data-reactid=\".zoekeinsdq.1.0.1.1.1:$post-53279666.0\" id=\"post_53279666\"><div class=\"gs-u-mb-\" data-reactid=\".zoekeinsdq.1.0.1.1.1:$post-53279666.0.0\"><time class=\"lx-stream-post__meta-time gs-u-align-middle gs-u-display-inline-block gs-u-mr0@m gs-u-mr gel-long-primer\" data-reactid=\".zoekeinsdq.1.0.1.1.1:$post-53279666.0.0.0\"><span class=\"gs-u-vh qa-visually-hidden-meta\" data-reactid=\".zoekeinsdq.1.0.1.1.1:$post-53279666.0.0.0.0\">Posté à 18:59 3 juillet 2020</span><span aria-hidden=\"true\" class=\"qa-post-auto-meta\" data-reactid=\".zoekeinsdq.1.0.1.1.1:$post-53279666.0.0.0.1\">18:59 3 juillet 2020</span></time></div><header class=\"lx-stream-post__header gs-o-media gs-u-mb-alt\" data-reactid=\".zoekeinsdq.1.0.1.1.1:$post-53279666.0.1\"><noscript data-reactid=\".zoekeinsdq.1.0.1.1.1:$post-53279666.0.1.0\"></noscript><div class=\"gs-o-media__body\" data-reactid=\".zoekeinsdq.1.0.1.1.1:$post-53279666.0.1.1\"><h3 class=\"lx-stream-post__header-title gel-great-primer-bold qa-post-title gs-u-mt0 gs-u-mb-\" data-reactid=\".zoekeinsdq.1.0.1.1.1:$post-53279666.0.1.1.0\"><noscript data-reactid=\".zoekeinsdq.1.0.1.1.1:$post-53279666.0.1.1.0.0\"></noscript><a class=\"qa-heading-link lx-stream-post__header-link\" data-reactid=\".zoekeinsdq.1.0.1.1.1:$post-53279666.0.1.1.0.1\" href=\"/afrique/media-53279666\"><span class=\"lx-stream-post__header-text gs-u-align-middle\" data-reactid=\".zoekeinsdq.1.0.1.1.1:$post-53279666.0.1.1.0.1.0\" id=\"title_53279666\">Rencontre avec l'enfant boxeur le plus rapide du monde</span></a></h3></div></header><noscript data-reactid=\".zoekeinsdq.1.0.1.1.1:$post-53279666.0.2\"></noscript><div class=\"gs-u-mb+ gel-body-copy qa-post-body\" data-reactid=\".zoekeinsdq.1.0.1.1.1:$post-53279666.0.3\"><div data-reactid=\".zoekeinsdq.1.0.1.1.1:$post-53279666.0.3.0\"><div class=\"gs-u-mb+\" data-reactid=\".zoekeinsdq.1.0.1.1.1:$post-53279666.0.3.0.0\"><figure class=\"lx-stream-post-body__media-asset lx-media-asset lx-media-asset--landscape lx-media-asset--smp qa-media-asset-smp\" data-reactid=\".zoekeinsdq.1.0.1.1.1:$post-53279666.0.3.0.0.0\"><h4 class=\"gs-u-vh qa-map-smp-accessible-title\" data-reactid=\".zoekeinsdq.1.0.1.1.1:$post-53279666.0.3.0.0.0.0\">Video content</h4><div class=\"lx-media-asset__body\" data-reactid=\".zoekeinsdq.1.0.1.1.1:$post-53279666.0.3.0.0.0.1\"><div class=\"gs-o-responsive-image gs-o-responsive-image--16by9\" data-reactid=\".zoekeinsdq.1.0.1.1.1:$post-53279666.0.3.0.0.0.1.0\"><div class=\"smp-embed\" data-reactid=\".zoekeinsdq.1.0.1.1.1:$post-53279666.0.3.0.0.0.1.0.0\"><div class=\"react-intersect\" data-reactid=\".zoekeinsdq.1.0.1.1.1:$post-53279666.0.3.0.0.0.1.0.0.0\"></div></div></div></div><figcaption class=\"lx-media-asset__caption gel-brevier\" data-reactid=\".zoekeinsdq.1.0.1.1.1:$post-53279666.0.3.0.0.0.2\"><span class=\"gs-u-vh qa-media-smp-accessible-caption-text\" data-reactid=\".zoekeinsdq.1.0.1.1.1:$post-53279666.0.3.0.0.0.2.0\">Video caption: j</span><span aria-hidden=\"true\" class=\"qa-media-smp-caption-text\" data-reactid=\".zoekeinsdq.1.0.1.1.1:$post-53279666.0.3.0.0.0.2.1\">j</span></figcaption></figure></div><noscript data-reactid=\".zoekeinsdq.1.0.1.1.1:$post-53279666.0.3.0.1\"></noscript></div></div><footer class=\"lx-stream-post__footer\" data-reactid=\".zoekeinsdq.1.0.1.1.1:$post-53279666.0.4\"><div class=\"lx-stream-post__footer-share\" data-reactid=\".zoekeinsdq.1.0.1.1.1:$post-53279666.0.4.1\"><span class=\"gs-u-vh qa-share-tools-heading\" data-reactid=\".zoekeinsdq.1.0.1.1.1:$post-53279666.0.4.1.0\" id=\"share-tools-title-53279666\">Article share tools</span><ul aria-labelledby=\"share-tools-title-53279666\" class=\"lx-share-tools__items lx-share-tools__items--align-left qa-share-tools\" data-reactid=\".zoekeinsdq.1.0.1.1.1:$post-53279666.0.4.1.1\"><li data-reactid=\".zoekeinsdq.1.0.1.1.1:$post-53279666.0.4.1.1.0\"><button aria-label=\"Share this post on Facebook\" class=\"qa-facebook-share lx-share-tools__cta gs-c-share-tools__button qa-share-button-facebook gs-u-p0\" data-reactid=\".zoekeinsdq.1.0.1.1.1:$post-53279666.0.4.1.1.0.0\"><span class=\"gs-o-bullet\" data-reactid=\".zoekeinsdq.1.0.1.1.1:$post-53279666.0.4.1.1.0.0.0\"><span class=\"qa-facebook-share lx-share-tools__cta gs-c-share-tools__button-icon gs-o-bullet__icon gel-icon gs-c-share-tools__button-icon--facebook gs-c-share-tools__button-icon--small\" data-reactid=\".zoekeinsdq.1.0.1.1.1:$post-53279666.0.4.1.1.0.0.0.0\"><svg data-reactid=\".zoekeinsdq.1.0.1.1.1:$post-53279666.0.4.1.1.0.0.0.0.0\" viewbox=\"0 0 266.89 266.89\"><path d=\"M252.16,0H14.73A14.73,14.73,0,0,0,0,14.73V252.16a14.73,14.73,0,0,0,14.73,14.73H142.56V163.54H107.78V123.26h34.78V93.55c0-34.47,21.05-53.24,51.81-53.24a285.37,285.37,0,0,1,31.08,1.59v36H204.12c-16.72,0-20,7.95-20,19.61v25.72H224l-5.19,40.28H184.15V266.89h68a14.73,14.73,0,0,0,14.73-14.73V14.73A14.73,14.73,0,0,0,252.16,0Z\" data-reactid=\".zoekeinsdq.1.0.1.1.1:$post-53279666.0.4.1.1.0.0.0.0.0.0\"></path></svg></span><span class=\"gs-o-bullet__text gs-c-share-tools__button-text\" data-reactid=\".zoekeinsdq.1.0.1.1.1:$post-53279666.0.4.1.1.0.0.0.1\">Facebook</span></span></button></li><li data-reactid=\".zoekeinsdq.1.0.1.1.1:$post-53279666.0.4.1.1.1\"><button aria-label=\"Share this post on Twitter\" class=\"qa-twitter-share lx-share-tools__cta gs-c-share-tools__button qa-share-button-twitter gs-u-p0\" data-reactid=\".zoekeinsdq.1.0.1.1.1:$post-53279666.0.4.1.1.1.0\"><span class=\"gs-o-bullet\" data-reactid=\".zoekeinsdq.1.0.1.1.1:$post-53279666.0.4.1.1.1.0.0\"><span class=\"qa-twitter-share lx-share-tools__cta gs-c-share-tools__button-icon gs-o-bullet__icon gel-icon gs-c-share-tools__button-icon--twitter gs-c-share-tools__button-icon--small\" data-reactid=\".zoekeinsdq.1.0.1.1.1:$post-53279666.0.4.1.1.1.0.0.0\"><svg data-reactid=\".zoekeinsdq.1.0.1.1.1:$post-53279666.0.4.1.1.1.0.0.0.0\" viewbox=\"0 0 32 32\"><path d=\"M32 6.1c-1.2.5-2.4.9-3.8 1 1.4-.8 2.4-2.1 2.9-3.6-1.3.8-2.7 1.3-4.2 1.6C25.7 3.8 24 3 22.2 3c-3.6 0-6.6 2.9-6.6 6.6 0 .5.1 1 .2 1.5-5.5-.3-10.3-2.9-13.6-6.9-.6 1-.9 2.1-.9 3.3 0 2.3 1.2 4.3 2.9 5.5-1.1 0-2.1-.3-3-.8v.1c0 3.2 2.3 5.8 5.3 6.4-.6.1-1.1.2-1.7.2-.4 0-.8 0-1.2-.1.8 2.6 3.3 4.5 6.1 4.6-2.2 1.8-5.1 2.8-8.2 2.8-.5 0-1.1 0-1.6-.1 3 1.8 6.5 2.9 10.2 2.9 12.1 0 18.7-10 18.7-18.7v-.9c1.2-.9 2.3-2 3.2-3.3z\" data-reactid=\".zoekeinsdq.1.0.1.1.1:$post-53279666.0.4.1.1.1.0.0.0.0.0\"></path></svg></span><span class=\"gs-o-bullet__text gs-c-share-tools__button-text\" data-reactid=\".zoekeinsdq.1.0.1.1.1:$post-53279666.0.4.1.1.1.0.0.1\">Twitter</span></span></button></li><li data-reactid=\".zoekeinsdq.1.0.1.1.1:$post-53279666.0.4.1.1.2\"><div class=\"lx-share-tools__panel gs-c-share-tools\" data-direction=\"alternate-transformation\" data-reactid=\".zoekeinsdq.1.0.1.1.1:$post-53279666.0.4.1.1.2.0\"><button aria-controls=\"share-popup-53279666\" aria-expanded=\"false\" class=\"lx-share-tools__cta gel-long-primer lx-share-tools__cta-share-button\" data-reactid=\".zoekeinsdq.1.0.1.1.1:$post-53279666.0.4.1.1.2.0.0\"><span class=\"lx-share-tools__cta-icon qa-share-tools__cta-icon gel-icon\" data-reactid=\".zoekeinsdq.1.0.1.1.1:$post-53279666.0.4.1.1.2.0.0.0\"><svg data-reactid=\".zoekeinsdq.1.0.1.1.1:$post-53279666.0.4.1.1.2.0.0.0.0\" viewbox=\"0 0 32 32\"><path d=\"M6.8 22.2c1.6 0 3-.7 4-1.8l9 4.8c-.1.4-.2.8-.2 1.3 0 3 2.5 5.5 5.5 5.5s5.5-2.4 5.5-5.5-2.5-5.5-5.5-5.5c-1.6 0-3 .7-4 1.8l-9.5-5.2-.1-2.8 9.7-5.5c1 1 2.3 1.5 3.8 1.5 3 0 5.5-2.5 5.5-5.5S28.2 0 25.2 0s-5.5 2.4-5.5 5.5c0 .6.1 1.1.2 1.6l-9.3 5.7c-1-.9-2.3-1.5-3.8-1.5-3 0-5.5 2.4-5.5 5.5.1 2.9 2.5 5.4 5.5 5.4z \" data-reactid=\".zoekeinsdq.1.0.1.1.1:$post-53279666.0.4.1.1.2.0.0.0.0.0\"></path></svg></span><span aria-hidden=\"true\" class=\"lx-share-tools__cta-text qa-share-tools__cta-text\" data-reactid=\".zoekeinsdq.1.0.1.1.1:$post-53279666.0.4.1.1.2.0.0.1\">Partager</span><span class=\"gs-u-vh qa-accessible-share\" data-reactid=\".zoekeinsdq.1.0.1.1.1:$post-53279666.0.4.1.1.2.0.0.2\">Voir plus d'options de partage</span></button><div aria-hidden=\"true\" class=\"gs-c-share-tools__panel gs-o-info-panel\" data-arrow-position=\"bottom\" data-reactid=\".zoekeinsdq.1.0.1.1.1:$post-53279666.0.4.1.1.2.0.1\" id=\"share-popup-53279666\"><div aria-hidden=\"true\" class=\"gs-o-info-panel__header\" data-reactid=\".zoekeinsdq.1.0.1.1.1:$post-53279666.0.4.1.1.2.0.1.0\"><span class=\"gs-o-info-panel__title gel-great-primer-bold\" data-reactid=\".zoekeinsdq.1.0.1.1.1:$post-53279666.0.4.1.1.2.0.1.0.0\">Share this post</span><button aria-hidden=\"true\" class=\"gs-o-info-panel__close-button\" data-reactid=\".zoekeinsdq.1.0.1.1.1:$post-53279666.0.4.1.1.2.0.1.0.1\"><span class=\"gel-icon gel-icon-no--white gs-o-info-panel__close-button-icon\" data-reactid=\".zoekeinsdq.1.0.1.1.1:$post-53279666.0.4.1.1.2.0.1.0.1.0\"><svg data-reactid=\".zoekeinsdq.1.0.1.1.1:$post-53279666.0.4.1.1.2.0.1.0.1.0.0\" viewbox=\"0 0 32 32\"><path d=\"M32 3.5L28.5 0 16 12.5 3.5 0 0 3.5 12.5 16 0 28.5 3.5 32 16 19.5 28.5 32l3.5-3.5L19.5 16\" data-reactid=\".zoekeinsdq.1.0.1.1.1:$post-53279666.0.4.1.1.2.0.1.0.1.0.0.0\"></path></svg></span></button></div><div aria-hidden=\"true\" class=\"gs-o-info-panel__body gs-o-info-panel__body--flush gel-pica gs-c-share-tools__panel-body\" data-reactid=\".zoekeinsdq.1.0.1.1.1:$post-53279666.0.4.1.1.2.0.1.1\"><ul aria-label=\"Share Options\" class=\"gs-c-share-tools__items\" data-reactid=\".zoekeinsdq.1.0.1.1.1:$post-53279666.0.4.1.1.2.0.1.1.0\"><li class=\"gs-c-share-tools__item\" data-reactid=\".zoekeinsdq.1.0.1.1.1:$post-53279666.0.4.1.1.2.0.1.1.0.$0\"><div class=\"gs-c-share-tools__button share-tools__button--no-hover-effect\" data-reactid=\".zoekeinsdq.1.0.1.1.1:$post-53279666.0.4.1.1.2.0.1.1.0.$0.0\"><div data-reactid=\".zoekeinsdq.1.0.1.1.1:$post-53279666.0.4.1.1.2.0.1.1.0.$0.0.0\"><span aria-live=\"assertive\" class=\"gel-great-primer gs-u-mt+ gs-u-mb qa-share-copy-text sp-c-ts-share__copy-button\" data-reactid=\".zoekeinsdq.1.0.1.1.1:$post-53279666.0.4.1.1.2.0.1.1.0.$0.0.0.0\">Copy this link</span><input aria-hidden=\"true\" class=\"lx-share-tools__copylink-box gel-pica qa-share-copy-link sp-c-ts-share__copy-text-dark-theme\" data-reactid=\".zoekeinsdq.1.0.1.1.1:$post-53279666.0.4.1.1.2.0.1.1.0.$0.0.0.1\" readonly=\"\" type=\"text\" value=\"?ns_mchannel=social&amp;ns_source=twitter&amp;ns_campaign=bbc_live&amp;ns_linkname=53279666%26Rencontre%20avec%20l%27enfant%20boxeur%20le%20plus%20rapide%20du%20monde%262020-07-03T18%3A59%3A18.858Z&amp;ns_fee=0&amp;pinned_post_locator=urn:asset:b534585d-8993-4d04-8e4a-a4590d5b09d9&amp;pinned_post_asset_id=53279666&amp;pinned_post_type=share\"/><button aria-label=\"Copy share URL\" class=\"gs-u-vh qa-share-copy-text-hidden-button\" data-reactid=\".zoekeinsdq.1.0.1.1.1:$post-53279666.0.4.1.1.2.0.1.1.0.$0.0.0.2\"></button></div></div></li></ul><span class=\"gs-c-share-tools__item gs-c-share-tools__item--terms\" data-reactid=\".zoekeinsdq.1.0.1.1.1:$post-53279666.0.4.1.1.2.0.1.1.1\"><a aria-label=\"En savoir plus sur le partage externe de contenu BBC\" class=\"gs-c-share-tools__button gs-c-share-tools__button--link\" data-reactid=\".zoekeinsdq.1.0.1.1.1:$post-53279666.0.4.1.1.2.0.1.1.1.0\" href=\"http://www.bbc.co.uk/faqs/questions/bbc_online/sharing\">En savoir plus: cliquez sur ces liens</a></span></div><button aria-label=\"Fermer\" class=\"gs-u-vh gs-o-info-panel__close-button-hidden-label\" data-reactid=\".zoekeinsdq.1.0.1.1.1:$post-53279666.0.4.1.1.2.0.1.2\"></button></div></div></li></ul></div></footer></article></li><li class=\"lx-stream__post-container placeholder-animation-finished\" data-reactid=\".zoekeinsdq.1.0.1.1.1:$post-53191371\"><article aria-labelledby=\"title_53191371\" class=\"qa-post gs-u-pb-alt+ lx-stream-post gs-u-pt-alt+ gs-u-align-left\" data-reactid=\".zoekeinsdq.1.0.1.1.1:$post-53191371.0\" id=\"post_53191371\"><div class=\"gs-u-mb-\" data-reactid=\".zoekeinsdq.1.0.1.1.1:$post-53191371.0.0\"><time class=\"lx-stream-post__meta-time gs-u-align-middle gs-u-display-inline-block gs-u-mr0@m gs-u-mr gel-long-primer\" data-reactid=\".zoekeinsdq.1.0.1.1.1:$post-53191371.0.0.0\"><span class=\"gs-u-vh qa-visually-hidden-meta\" data-reactid=\".zoekeinsdq.1.0.1.1.1:$post-53191371.0.0.0.0\">Posté à 14:19 26 juin 2020</span><span aria-hidden=\"true\" class=\"qa-post-auto-meta\" data-reactid=\".zoekeinsdq.1.0.1.1.1:$post-53191371.0.0.0.1\">14:19 26 juin 2020</span></time></div><header class=\"lx-stream-post__header gs-o-media gs-u-mb-alt\" data-reactid=\".zoekeinsdq.1.0.1.1.1:$post-53191371.0.1\"><noscript data-reactid=\".zoekeinsdq.1.0.1.1.1:$post-53191371.0.1.0\"></noscript><div class=\"gs-o-media__body\" data-reactid=\".zoekeinsdq.1.0.1.1.1:$post-53191371.0.1.1\"><h3 class=\"lx-stream-post__header-title gel-great-primer-bold qa-post-title gs-u-mt0 gs-u-mb-\" data-reactid=\".zoekeinsdq.1.0.1.1.1:$post-53191371.0.1.1.0\"><noscript data-reactid=\".zoekeinsdq.1.0.1.1.1:$post-53191371.0.1.1.0.0\"></noscript><a class=\"qa-heading-link lx-stream-post__header-link\" data-reactid=\".zoekeinsdq.1.0.1.1.1:$post-53191371.0.1.1.0.1\" href=\"/afrique/sports-53191371\"><span class=\"lx-stream-post__header-text gs-u-align-middle\" data-reactid=\".zoekeinsdq.1.0.1.1.1:$post-53191371.0.1.1.0.1.0\" id=\"title_53191371\">Liverpool : les Africains qui ont aidé à remporter le titre de Premier League</span></a></h3></div></header><noscript data-reactid=\".zoekeinsdq.1.0.1.1.1:$post-53191371.0.2\"></noscript><div class=\"gs-u-mb+ gel-body-copy qa-post-body\" data-reactid=\".zoekeinsdq.1.0.1.1.1:$post-53191371.0.3\"><div class=\"lx-stream-related-story\" data-reactid=\".zoekeinsdq.1.0.1.1.1:$post-53191371.0.3.0\"><div class=\"gel-3/8@l\" data-reactid=\".zoekeinsdq.1.0.1.1.1:$post-53191371.0.3.0.0\"><a class=\"qa-story-image-link\" data-reactid=\".zoekeinsdq.1.0.1.1.1:$post-53191371.0.3.0.0.0\" href=\"/afrique/sports-53191371\"><div class=\"lx-stream-related-story--index-image-wrapper qa-story-image-wrapper\" data-reactid=\".zoekeinsdq.1.0.1.1.1:$post-53191371.0.3.0.0.0.0\"><img alt=\"Salah and Mane\" class=\"qa-srcset-image lx-stream-related-story--index-image qa-story-image\" data-reactid=\".zoekeinsdq.1.0.1.1.1:$post-53191371.0.3.0.0.0.0.0\" sizes=\"(min-width: 900px) 50vw, (min-width: 600px) 70vw, 100vw\" src=\"https://ichef.bbci.co.uk/live-experience/cps/320/cpsprodpb/CE90/production/_113108825_whatsubject.jpg\" srcset=\"https://ichef.bbci.co.uk/live-experience/cps/240/cpsprodpb/CE90/production/_113108825_whatsubject.jpg 240w, https://ichef.bbci.co.uk/live-experience/cps/320/cpsprodpb/CE90/production/_113108825_whatsubject.jpg 320w, https://ichef.bbci.co.uk/live-experience/cps/480/cpsprodpb/CE90/production/_113108825_whatsubject.jpg 480w, https://ichef.bbci.co.uk/live-experience/cps/624/cpsprodpb/CE90/production/_113108825_whatsubject.jpg 624w, https://ichef.bbci.co.uk/live-experience/cps/800/cpsprodpb/CE90/production/_113108825_whatsubject.jpg 800w\"/></div></a></div><div class=\"gel-5/8@l\" data-reactid=\".zoekeinsdq.1.0.1.1.1:$post-53191371.0.3.0.1\"><p class=\"lx-stream-related-story--summary qa-story-summary\" data-reactid=\".zoekeinsdq.1.0.1.1.1:$post-53191371.0.3.0.1.1\">Comment le premier titre de première division de Liverpool en Angleterre depuis 30 ans a été alimenté par des joueurs africains.</p><a class=\"qa-story-cta-link\" data-reactid=\".zoekeinsdq.1.0.1.1.1:$post-53191371.0.3.0.1.2\" href=\"/afrique/sports-53191371\"><span class=\"gs-o-button lx-stream-related-story--cta-button gel-long-primer-bold qa-story-text-cta\" data-reactid=\".zoekeinsdq.1.0.1.1.1:$post-53191371.0.3.0.1.2.0\"><span class=\"lx-stream-related-story--cta-text\" data-reactid=\".zoekeinsdq.1.0.1.1.1:$post-53191371.0.3.0.1.2.0.0\">Lire plus</span><div class=\"gel-icon gel-icon--next\" data-reactid=\".zoekeinsdq.1.0.1.1.1:$post-53191371.0.3.0.1.2.0.1\"><svg data-reactid=\".zoekeinsdq.1.0.1.1.1:$post-53191371.0.3.0.1.2.0.1.0\" viewbox=\"0 0 32 32\"><title data-reactid=\".zoekeinsdq.1.0.1.1.1:$post-53191371.0.3.0.1.2.0.1.0.0\">next</title><path d=\"M29 16L3 0v7.2L17.6 16 3 24.8V32l26-16z\" data-reactid=\".zoekeinsdq.1.0.1.1.1:$post-53191371.0.3.0.1.2.0.1.0.1\"></path></svg></div></span></a></div></div></div><footer class=\"lx-stream-post__footer\" data-reactid=\".zoekeinsdq.1.0.1.1.1:$post-53191371.0.4\"><div class=\"lx-stream-post__footer-share\" data-reactid=\".zoekeinsdq.1.0.1.1.1:$post-53191371.0.4.1\"><span class=\"gs-u-vh qa-share-tools-heading\" data-reactid=\".zoekeinsdq.1.0.1.1.1:$post-53191371.0.4.1.0\" id=\"share-tools-title-53191371\">Article share tools</span><ul aria-labelledby=\"share-tools-title-53191371\" class=\"lx-share-tools__items lx-share-tools__items--align-left qa-share-tools\" data-reactid=\".zoekeinsdq.1.0.1.1.1:$post-53191371.0.4.1.1\"><li data-reactid=\".zoekeinsdq.1.0.1.1.1:$post-53191371.0.4.1.1.0\"><button aria-label=\"Share this post on Facebook\" class=\"qa-facebook-share lx-share-tools__cta gs-c-share-tools__button qa-share-button-facebook gs-u-p0\" data-reactid=\".zoekeinsdq.1.0.1.1.1:$post-53191371.0.4.1.1.0.0\"><span class=\"gs-o-bullet\" data-reactid=\".zoekeinsdq.1.0.1.1.1:$post-53191371.0.4.1.1.0.0.0\"><span class=\"qa-facebook-share lx-share-tools__cta gs-c-share-tools__button-icon gs-o-bullet__icon gel-icon gs-c-share-tools__button-icon--facebook gs-c-share-tools__button-icon--small\" data-reactid=\".zoekeinsdq.1.0.1.1.1:$post-53191371.0.4.1.1.0.0.0.0\"><svg data-reactid=\".zoekeinsdq.1.0.1.1.1:$post-53191371.0.4.1.1.0.0.0.0.0\" viewbox=\"0 0 266.89 266.89\"><path d=\"M252.16,0H14.73A14.73,14.73,0,0,0,0,14.73V252.16a14.73,14.73,0,0,0,14.73,14.73H142.56V163.54H107.78V123.26h34.78V93.55c0-34.47,21.05-53.24,51.81-53.24a285.37,285.37,0,0,1,31.08,1.59v36H204.12c-16.72,0-20,7.95-20,19.61v25.72H224l-5.19,40.28H184.15V266.89h68a14.73,14.73,0,0,0,14.73-14.73V14.73A14.73,14.73,0,0,0,252.16,0Z\" data-reactid=\".zoekeinsdq.1.0.1.1.1:$post-53191371.0.4.1.1.0.0.0.0.0.0\"></path></svg></span><span class=\"gs-o-bullet__text gs-c-share-tools__button-text\" data-reactid=\".zoekeinsdq.1.0.1.1.1:$post-53191371.0.4.1.1.0.0.0.1\">Facebook</span></span></button></li><li data-reactid=\".zoekeinsdq.1.0.1.1.1:$post-53191371.0.4.1.1.1\"><button aria-label=\"Share this post on Twitter\" class=\"qa-twitter-share lx-share-tools__cta gs-c-share-tools__button qa-share-button-twitter gs-u-p0\" data-reactid=\".zoekeinsdq.1.0.1.1.1:$post-53191371.0.4.1.1.1.0\"><span class=\"gs-o-bullet\" data-reactid=\".zoekeinsdq.1.0.1.1.1:$post-53191371.0.4.1.1.1.0.0\"><span class=\"qa-twitter-share lx-share-tools__cta gs-c-share-tools__button-icon gs-o-bullet__icon gel-icon gs-c-share-tools__button-icon--twitter gs-c-share-tools__button-icon--small\" data-reactid=\".zoekeinsdq.1.0.1.1.1:$post-53191371.0.4.1.1.1.0.0.0\"><svg data-reactid=\".zoekeinsdq.1.0.1.1.1:$post-53191371.0.4.1.1.1.0.0.0.0\" viewbox=\"0 0 32 32\"><path d=\"M32 6.1c-1.2.5-2.4.9-3.8 1 1.4-.8 2.4-2.1 2.9-3.6-1.3.8-2.7 1.3-4.2 1.6C25.7 3.8 24 3 22.2 3c-3.6 0-6.6 2.9-6.6 6.6 0 .5.1 1 .2 1.5-5.5-.3-10.3-2.9-13.6-6.9-.6 1-.9 2.1-.9 3.3 0 2.3 1.2 4.3 2.9 5.5-1.1 0-2.1-.3-3-.8v.1c0 3.2 2.3 5.8 5.3 6.4-.6.1-1.1.2-1.7.2-.4 0-.8 0-1.2-.1.8 2.6 3.3 4.5 6.1 4.6-2.2 1.8-5.1 2.8-8.2 2.8-.5 0-1.1 0-1.6-.1 3 1.8 6.5 2.9 10.2 2.9 12.1 0 18.7-10 18.7-18.7v-.9c1.2-.9 2.3-2 3.2-3.3z\" data-reactid=\".zoekeinsdq.1.0.1.1.1:$post-53191371.0.4.1.1.1.0.0.0.0.0\"></path></svg></span><span class=\"gs-o-bullet__text gs-c-share-tools__button-text\" data-reactid=\".zoekeinsdq.1.0.1.1.1:$post-53191371.0.4.1.1.1.0.0.1\">Twitter</span></span></button></li><li data-reactid=\".zoekeinsdq.1.0.1.1.1:$post-53191371.0.4.1.1.2\"><div class=\"lx-share-tools__panel gs-c-share-tools\" data-direction=\"alternate-transformation\" data-reactid=\".zoekeinsdq.1.0.1.1.1:$post-53191371.0.4.1.1.2.0\"><button aria-controls=\"share-popup-53191371\" aria-expanded=\"false\" class=\"lx-share-tools__cta gel-long-primer lx-share-tools__cta-share-button\" data-reactid=\".zoekeinsdq.1.0.1.1.1:$post-53191371.0.4.1.1.2.0.0\"><span class=\"lx-share-tools__cta-icon qa-share-tools__cta-icon gel-icon\" data-reactid=\".zoekeinsdq.1.0.1.1.1:$post-53191371.0.4.1.1.2.0.0.0\"><svg data-reactid=\".zoekeinsdq.1.0.1.1.1:$post-53191371.0.4.1.1.2.0.0.0.0\" viewbox=\"0 0 32 32\"><path d=\"M6.8 22.2c1.6 0 3-.7 4-1.8l9 4.8c-.1.4-.2.8-.2 1.3 0 3 2.5 5.5 5.5 5.5s5.5-2.4 5.5-5.5-2.5-5.5-5.5-5.5c-1.6 0-3 .7-4 1.8l-9.5-5.2-.1-2.8 9.7-5.5c1 1 2.3 1.5 3.8 1.5 3 0 5.5-2.5 5.5-5.5S28.2 0 25.2 0s-5.5 2.4-5.5 5.5c0 .6.1 1.1.2 1.6l-9.3 5.7c-1-.9-2.3-1.5-3.8-1.5-3 0-5.5 2.4-5.5 5.5.1 2.9 2.5 5.4 5.5 5.4z \" data-reactid=\".zoekeinsdq.1.0.1.1.1:$post-53191371.0.4.1.1.2.0.0.0.0.0\"></path></svg></span><span aria-hidden=\"true\" class=\"lx-share-tools__cta-text qa-share-tools__cta-text\" data-reactid=\".zoekeinsdq.1.0.1.1.1:$post-53191371.0.4.1.1.2.0.0.1\">Partager</span><span class=\"gs-u-vh qa-accessible-share\" data-reactid=\".zoekeinsdq.1.0.1.1.1:$post-53191371.0.4.1.1.2.0.0.2\">Voir plus d'options de partage</span></button><div aria-hidden=\"true\" class=\"gs-c-share-tools__panel gs-o-info-panel\" data-arrow-position=\"bottom\" data-reactid=\".zoekeinsdq.1.0.1.1.1:$post-53191371.0.4.1.1.2.0.1\" id=\"share-popup-53191371\"><div aria-hidden=\"true\" class=\"gs-o-info-panel__header\" data-reactid=\".zoekeinsdq.1.0.1.1.1:$post-53191371.0.4.1.1.2.0.1.0\"><span class=\"gs-o-info-panel__title gel-great-primer-bold\" data-reactid=\".zoekeinsdq.1.0.1.1.1:$post-53191371.0.4.1.1.2.0.1.0.0\">Share this post</span><button aria-hidden=\"true\" class=\"gs-o-info-panel__close-button\" data-reactid=\".zoekeinsdq.1.0.1.1.1:$post-53191371.0.4.1.1.2.0.1.0.1\"><span class=\"gel-icon gel-icon-no--white gs-o-info-panel__close-button-icon\" data-reactid=\".zoekeinsdq.1.0.1.1.1:$post-53191371.0.4.1.1.2.0.1.0.1.0\"><svg data-reactid=\".zoekeinsdq.1.0.1.1.1:$post-53191371.0.4.1.1.2.0.1.0.1.0.0\" viewbox=\"0 0 32 32\"><path d=\"M32 3.5L28.5 0 16 12.5 3.5 0 0 3.5 12.5 16 0 28.5 3.5 32 16 19.5 28.5 32l3.5-3.5L19.5 16\" data-reactid=\".zoekeinsdq.1.0.1.1.1:$post-53191371.0.4.1.1.2.0.1.0.1.0.0.0\"></path></svg></span></button></div><div aria-hidden=\"true\" class=\"gs-o-info-panel__body gs-o-info-panel__body--flush gel-pica gs-c-share-tools__panel-body\" data-reactid=\".zoekeinsdq.1.0.1.1.1:$post-53191371.0.4.1.1.2.0.1.1\"><ul aria-label=\"Share Options\" class=\"gs-c-share-tools__items\" data-reactid=\".zoekeinsdq.1.0.1.1.1:$post-53191371.0.4.1.1.2.0.1.1.0\"><li class=\"gs-c-share-tools__item\" data-reactid=\".zoekeinsdq.1.0.1.1.1:$post-53191371.0.4.1.1.2.0.1.1.0.$0\"><div class=\"gs-c-share-tools__button share-tools__button--no-hover-effect\" data-reactid=\".zoekeinsdq.1.0.1.1.1:$post-53191371.0.4.1.1.2.0.1.1.0.$0.0\"><div data-reactid=\".zoekeinsdq.1.0.1.1.1:$post-53191371.0.4.1.1.2.0.1.1.0.$0.0.0\"><span aria-live=\"assertive\" class=\"gel-great-primer gs-u-mt+ gs-u-mb qa-share-copy-text sp-c-ts-share__copy-button\" data-reactid=\".zoekeinsdq.1.0.1.1.1:$post-53191371.0.4.1.1.2.0.1.1.0.$0.0.0.0\">Copy this link</span><input aria-hidden=\"true\" class=\"lx-share-tools__copylink-box gel-pica qa-share-copy-link sp-c-ts-share__copy-text-dark-theme\" data-reactid=\".zoekeinsdq.1.0.1.1.1:$post-53191371.0.4.1.1.2.0.1.1.0.$0.0.0.1\" readonly=\"\" type=\"text\" value=\"?ns_mchannel=social&amp;ns_source=twitter&amp;ns_campaign=bbc_live&amp;ns_linkname=53191371%26Liverpool%20%3A%20les%20Africains%20qui%20ont%20aid%C3%A9%20%C3%A0%20remporter%20le%20titre%20de%20Premier%20League%262020-06-26T14%3A19%3A15.893Z&amp;ns_fee=0&amp;pinned_post_locator=urn:asset:526d9ed5-7be4-4ba7-87da-805631ca0d63&amp;pinned_post_asset_id=53191371&amp;pinned_post_type=share\"/><button aria-label=\"Copy share URL\" class=\"gs-u-vh qa-share-copy-text-hidden-button\" data-reactid=\".zoekeinsdq.1.0.1.1.1:$post-53191371.0.4.1.1.2.0.1.1.0.$0.0.0.2\"></button></div></div></li></ul><span class=\"gs-c-share-tools__item gs-c-share-tools__item--terms\" data-reactid=\".zoekeinsdq.1.0.1.1.1:$post-53191371.0.4.1.1.2.0.1.1.1\"><a aria-label=\"En savoir plus sur le partage externe de contenu BBC\" class=\"gs-c-share-tools__button gs-c-share-tools__button--link\" data-reactid=\".zoekeinsdq.1.0.1.1.1:$post-53191371.0.4.1.1.2.0.1.1.1.0\" href=\"http://www.bbc.co.uk/faqs/questions/bbc_online/sharing\">En savoir plus: cliquez sur ces liens</a></span></div><button aria-label=\"Fermer\" class=\"gs-u-vh gs-o-info-panel__close-button-hidden-label\" data-reactid=\".zoekeinsdq.1.0.1.1.1:$post-53191371.0.4.1.1.2.0.1.2\"></button></div></div></li></ul></div></footer></article></li><div class=\"lx-stream-advert-container\" data-reactid=\".zoekeinsdq.1.0.1.1.1:$a_mpu_middle\"></div><li class=\"lx-stream__post-container placeholder-animation-finished\" data-reactid=\".zoekeinsdq.1.0.1.1.1:$post-53183843\"><article aria-labelledby=\"title_53183843\" class=\"qa-post gs-u-pb-alt+ lx-stream-post gs-u-pt-alt+ gs-u-align-left\" data-reactid=\".zoekeinsdq.1.0.1.1.1:$post-53183843.0\" id=\"post_53183843\"><div class=\"gs-u-mb-\" data-reactid=\".zoekeinsdq.1.0.1.1.1:$post-53183843.0.0\"><time class=\"lx-stream-post__meta-time gs-u-align-middle gs-u-display-inline-block gs-u-mr0@m gs-u-mr gel-long-primer\" data-reactid=\".zoekeinsdq.1.0.1.1.1:$post-53183843.0.0.0\"><span class=\"gs-u-vh qa-visually-hidden-meta\" data-reactid=\".zoekeinsdq.1.0.1.1.1:$post-53183843.0.0.0.0\">Posté à 18:00 25 juin 2020</span><span aria-hidden=\"true\" class=\"qa-post-auto-meta\" data-reactid=\".zoekeinsdq.1.0.1.1.1:$post-53183843.0.0.0.1\">18:00 25 juin 2020</span></time></div><header class=\"lx-stream-post__header gs-o-media gs-u-mb-alt\" data-reactid=\".zoekeinsdq.1.0.1.1.1:$post-53183843.0.1\"><noscript data-reactid=\".zoekeinsdq.1.0.1.1.1:$post-53183843.0.1.0\"></noscript><div class=\"gs-o-media__body\" data-reactid=\".zoekeinsdq.1.0.1.1.1:$post-53183843.0.1.1\"><h3 class=\"lx-stream-post__header-title gel-great-primer-bold qa-post-title gs-u-mt0 gs-u-mb-\" data-reactid=\".zoekeinsdq.1.0.1.1.1:$post-53183843.0.1.1.0\"><noscript data-reactid=\".zoekeinsdq.1.0.1.1.1:$post-53183843.0.1.1.0.0\"></noscript><a class=\"qa-heading-link lx-stream-post__header-link\" data-reactid=\".zoekeinsdq.1.0.1.1.1:$post-53183843.0.1.1.0.1\" href=\"/afrique/sports-53183843\"><span class=\"lx-stream-post__header-text gs-u-align-middle\" data-reactid=\".zoekeinsdq.1.0.1.1.1:$post-53183843.0.1.1.0.1.0\" id=\"title_53183843\">Liverpool à deux points du titre de Premier League : \"C'est notre heure\", déclare Mohamed Salah</span></a></h3></div></header><noscript data-reactid=\".zoekeinsdq.1.0.1.1.1:$post-53183843.0.2\"></noscript><div class=\"gs-u-mb+ gel-body-copy qa-post-body\" data-reactid=\".zoekeinsdq.1.0.1.1.1:$post-53183843.0.3\"><div class=\"lx-stream-related-story\" data-reactid=\".zoekeinsdq.1.0.1.1.1:$post-53183843.0.3.0\"><div class=\"gel-3/8@l\" data-reactid=\".zoekeinsdq.1.0.1.1.1:$post-53183843.0.3.0.0\"><a class=\"qa-story-image-link\" data-reactid=\".zoekeinsdq.1.0.1.1.1:$post-53183843.0.3.0.0.0\" href=\"/afrique/sports-53183843\"><div class=\"lx-stream-related-story--index-image-wrapper qa-story-image-wrapper\" data-reactid=\".zoekeinsdq.1.0.1.1.1:$post-53183843.0.3.0.0.0.0\"><img alt=\"Mohamed Salah\" class=\"qa-srcset-image lx-stream-related-story--index-image qa-story-image\" data-reactid=\".zoekeinsdq.1.0.1.1.1:$post-53183843.0.3.0.0.0.0.0\" sizes=\"(min-width: 900px) 50vw, (min-width: 600px) 70vw, 100vw\" src=\"https://ichef.bbci.co.uk/live-experience/cps/320/cpsprodpb/E036/production/_113089375_gettyimages-1222646311.jpg\" srcset=\"https://ichef.bbci.co.uk/live-experience/cps/240/cpsprodpb/E036/production/_113089375_gettyimages-1222646311.jpg 240w, https://ichef.bbci.co.uk/live-experience/cps/320/cpsprodpb/E036/production/_113089375_gettyimages-1222646311.jpg 320w, https://ichef.bbci.co.uk/live-experience/cps/480/cpsprodpb/E036/production/_113089375_gettyimages-1222646311.jpg 480w, https://ichef.bbci.co.uk/live-experience/cps/624/cpsprodpb/E036/production/_113089375_gettyimages-1222646311.jpg 624w, https://ichef.bbci.co.uk/live-experience/cps/800/cpsprodpb/E036/production/_113089375_gettyimages-1222646311.jpg 800w\"/></div></a></div><div class=\"gel-5/8@l\" data-reactid=\".zoekeinsdq.1.0.1.1.1:$post-53183843.0.3.0.1\"><p class=\"lx-stream-related-story--summary qa-story-summary\" data-reactid=\".zoekeinsdq.1.0.1.1.1:$post-53183843.0.3.0.1.1\">Mohamed Salah estime que le moment est venu pour Liverpool de mettre fin à 30 ans d'attente pour un titre de champion d'Angleterre.</p><a class=\"qa-story-cta-link\" data-reactid=\".zoekeinsdq.1.0.1.1.1:$post-53183843.0.3.0.1.2\" href=\"/afrique/sports-53183843\"><span class=\"gs-o-button lx-stream-related-story--cta-button gel-long-primer-bold qa-story-text-cta\" data-reactid=\".zoekeinsdq.1.0.1.1.1:$post-53183843.0.3.0.1.2.0\"><span class=\"lx-stream-related-story--cta-text\" data-reactid=\".zoekeinsdq.1.0.1.1.1:$post-53183843.0.3.0.1.2.0.0\">Lire plus</span><div class=\"gel-icon gel-icon--next\" data-reactid=\".zoekeinsdq.1.0.1.1.1:$post-53183843.0.3.0.1.2.0.1\"><svg data-reactid=\".zoekeinsdq.1.0.1.1.1:$post-53183843.0.3.0.1.2.0.1.0\" viewbox=\"0 0 32 32\"><title data-reactid=\".zoekeinsdq.1.0.1.1.1:$post-53183843.0.3.0.1.2.0.1.0.0\">next</title><path d=\"M29 16L3 0v7.2L17.6 16 3 24.8V32l26-16z\" data-reactid=\".zoekeinsdq.1.0.1.1.1:$post-53183843.0.3.0.1.2.0.1.0.1\"></path></svg></div></span></a></div></div></div><footer class=\"lx-stream-post__footer\" data-reactid=\".zoekeinsdq.1.0.1.1.1:$post-53183843.0.4\"><div class=\"lx-stream-post__footer-share\" data-reactid=\".zoekeinsdq.1.0.1.1.1:$post-53183843.0.4.1\"><span class=\"gs-u-vh qa-share-tools-heading\" data-reactid=\".zoekeinsdq.1.0.1.1.1:$post-53183843.0.4.1.0\" id=\"share-tools-title-53183843\">Article share tools</span><ul aria-labelledby=\"share-tools-title-53183843\" class=\"lx-share-tools__items lx-share-tools__items--align-left qa-share-tools\" data-reactid=\".zoekeinsdq.1.0.1.1.1:$post-53183843.0.4.1.1\"><li data-reactid=\".zoekeinsdq.1.0.1.1.1:$post-53183843.0.4.1.1.0\"><button aria-label=\"Share this post on Facebook\" class=\"qa-facebook-share lx-share-tools__cta gs-c-share-tools__button qa-share-button-facebook gs-u-p0\" data-reactid=\".zoekeinsdq.1.0.1.1.1:$post-53183843.0.4.1.1.0.0\"><span class=\"gs-o-bullet\" data-reactid=\".zoekeinsdq.1.0.1.1.1:$post-53183843.0.4.1.1.0.0.0\"><span class=\"qa-facebook-share lx-share-tools__cta gs-c-share-tools__button-icon gs-o-bullet__icon gel-icon gs-c-share-tools__button-icon--facebook gs-c-share-tools__button-icon--small\" data-reactid=\".zoekeinsdq.1.0.1.1.1:$post-53183843.0.4.1.1.0.0.0.0\"><svg data-reactid=\".zoekeinsdq.1.0.1.1.1:$post-53183843.0.4.1.1.0.0.0.0.0\" viewbox=\"0 0 266.89 266.89\"><path d=\"M252.16,0H14.73A14.73,14.73,0,0,0,0,14.73V252.16a14.73,14.73,0,0,0,14.73,14.73H142.56V163.54H107.78V123.26h34.78V93.55c0-34.47,21.05-53.24,51.81-53.24a285.37,285.37,0,0,1,31.08,1.59v36H204.12c-16.72,0-20,7.95-20,19.61v25.72H224l-5.19,40.28H184.15V266.89h68a14.73,14.73,0,0,0,14.73-14.73V14.73A14.73,14.73,0,0,0,252.16,0Z\" data-reactid=\".zoekeinsdq.1.0.1.1.1:$post-53183843.0.4.1.1.0.0.0.0.0.0\"></path></svg></span><span class=\"gs-o-bullet__text gs-c-share-tools__button-text\" data-reactid=\".zoekeinsdq.1.0.1.1.1:$post-53183843.0.4.1.1.0.0.0.1\">Facebook</span></span></button></li><li data-reactid=\".zoekeinsdq.1.0.1.1.1:$post-53183843.0.4.1.1.1\"><button aria-label=\"Share this post on Twitter\" class=\"qa-twitter-share lx-share-tools__cta gs-c-share-tools__button qa-share-button-twitter gs-u-p0\" data-reactid=\".zoekeinsdq.1.0.1.1.1:$post-53183843.0.4.1.1.1.0\"><span class=\"gs-o-bullet\" data-reactid=\".zoekeinsdq.1.0.1.1.1:$post-53183843.0.4.1.1.1.0.0\"><span class=\"qa-twitter-share lx-share-tools__cta gs-c-share-tools__button-icon gs-o-bullet__icon gel-icon gs-c-share-tools__button-icon--twitter gs-c-share-tools__button-icon--small\" data-reactid=\".zoekeinsdq.1.0.1.1.1:$post-53183843.0.4.1.1.1.0.0.0\"><svg data-reactid=\".zoekeinsdq.1.0.1.1.1:$post-53183843.0.4.1.1.1.0.0.0.0\" viewbox=\"0 0 32 32\"><path d=\"M32 6.1c-1.2.5-2.4.9-3.8 1 1.4-.8 2.4-2.1 2.9-3.6-1.3.8-2.7 1.3-4.2 1.6C25.7 3.8 24 3 22.2 3c-3.6 0-6.6 2.9-6.6 6.6 0 .5.1 1 .2 1.5-5.5-.3-10.3-2.9-13.6-6.9-.6 1-.9 2.1-.9 3.3 0 2.3 1.2 4.3 2.9 5.5-1.1 0-2.1-.3-3-.8v.1c0 3.2 2.3 5.8 5.3 6.4-.6.1-1.1.2-1.7.2-.4 0-.8 0-1.2-.1.8 2.6 3.3 4.5 6.1 4.6-2.2 1.8-5.1 2.8-8.2 2.8-.5 0-1.1 0-1.6-.1 3 1.8 6.5 2.9 10.2 2.9 12.1 0 18.7-10 18.7-18.7v-.9c1.2-.9 2.3-2 3.2-3.3z\" data-reactid=\".zoekeinsdq.1.0.1.1.1:$post-53183843.0.4.1.1.1.0.0.0.0.0\"></path></svg></span><span class=\"gs-o-bullet__text gs-c-share-tools__button-text\" data-reactid=\".zoekeinsdq.1.0.1.1.1:$post-53183843.0.4.1.1.1.0.0.1\">Twitter</span></span></button></li><li data-reactid=\".zoekeinsdq.1.0.1.1.1:$post-53183843.0.4.1.1.2\"><div class=\"lx-share-tools__panel gs-c-share-tools\" data-direction=\"alternate-transformation\" data-reactid=\".zoekeinsdq.1.0.1.1.1:$post-53183843.0.4.1.1.2.0\"><button aria-controls=\"share-popup-53183843\" aria-expanded=\"false\" class=\"lx-share-tools__cta gel-long-primer lx-share-tools__cta-share-button\" data-reactid=\".zoekeinsdq.1.0.1.1.1:$post-53183843.0.4.1.1.2.0.0\"><span class=\"lx-share-tools__cta-icon qa-share-tools__cta-icon gel-icon\" data-reactid=\".zoekeinsdq.1.0.1.1.1:$post-53183843.0.4.1.1.2.0.0.0\"><svg data-reactid=\".zoekeinsdq.1.0.1.1.1:$post-53183843.0.4.1.1.2.0.0.0.0\" viewbox=\"0 0 32 32\"><path d=\"M6.8 22.2c1.6 0 3-.7 4-1.8l9 4.8c-.1.4-.2.8-.2 1.3 0 3 2.5 5.5 5.5 5.5s5.5-2.4 5.5-5.5-2.5-5.5-5.5-5.5c-1.6 0-3 .7-4 1.8l-9.5-5.2-.1-2.8 9.7-5.5c1 1 2.3 1.5 3.8 1.5 3 0 5.5-2.5 5.5-5.5S28.2 0 25.2 0s-5.5 2.4-5.5 5.5c0 .6.1 1.1.2 1.6l-9.3 5.7c-1-.9-2.3-1.5-3.8-1.5-3 0-5.5 2.4-5.5 5.5.1 2.9 2.5 5.4 5.5 5.4z \" data-reactid=\".zoekeinsdq.1.0.1.1.1:$post-53183843.0.4.1.1.2.0.0.0.0.0\"></path></svg></span><span aria-hidden=\"true\" class=\"lx-share-tools__cta-text qa-share-tools__cta-text\" data-reactid=\".zoekeinsdq.1.0.1.1.1:$post-53183843.0.4.1.1.2.0.0.1\">Partager</span><span class=\"gs-u-vh qa-accessible-share\" data-reactid=\".zoekeinsdq.1.0.1.1.1:$post-53183843.0.4.1.1.2.0.0.2\">Voir plus d'options de partage</span></button><div aria-hidden=\"true\" class=\"gs-c-share-tools__panel gs-o-info-panel\" data-arrow-position=\"bottom\" data-reactid=\".zoekeinsdq.1.0.1.1.1:$post-53183843.0.4.1.1.2.0.1\" id=\"share-popup-53183843\"><div aria-hidden=\"true\" class=\"gs-o-info-panel__header\" data-reactid=\".zoekeinsdq.1.0.1.1.1:$post-53183843.0.4.1.1.2.0.1.0\"><span class=\"gs-o-info-panel__title gel-great-primer-bold\" data-reactid=\".zoekeinsdq.1.0.1.1.1:$post-53183843.0.4.1.1.2.0.1.0.0\">Share this post</span><button aria-hidden=\"true\" class=\"gs-o-info-panel__close-button\" data-reactid=\".zoekeinsdq.1.0.1.1.1:$post-53183843.0.4.1.1.2.0.1.0.1\"><span class=\"gel-icon gel-icon-no--white gs-o-info-panel__close-button-icon\" data-reactid=\".zoekeinsdq.1.0.1.1.1:$post-53183843.0.4.1.1.2.0.1.0.1.0\"><svg data-reactid=\".zoekeinsdq.1.0.1.1.1:$post-53183843.0.4.1.1.2.0.1.0.1.0.0\" viewbox=\"0 0 32 32\"><path d=\"M32 3.5L28.5 0 16 12.5 3.5 0 0 3.5 12.5 16 0 28.5 3.5 32 16 19.5 28.5 32l3.5-3.5L19.5 16\" data-reactid=\".zoekeinsdq.1.0.1.1.1:$post-53183843.0.4.1.1.2.0.1.0.1.0.0.0\"></path></svg></span></button></div><div aria-hidden=\"true\" class=\"gs-o-info-panel__body gs-o-info-panel__body--flush gel-pica gs-c-share-tools__panel-body\" data-reactid=\".zoekeinsdq.1.0.1.1.1:$post-53183843.0.4.1.1.2.0.1.1\"><ul aria-label=\"Share Options\" class=\"gs-c-share-tools__items\" data-reactid=\".zoekeinsdq.1.0.1.1.1:$post-53183843.0.4.1.1.2.0.1.1.0\"><li class=\"gs-c-share-tools__item\" data-reactid=\".zoekeinsdq.1.0.1.1.1:$post-53183843.0.4.1.1.2.0.1.1.0.$0\"><div class=\"gs-c-share-tools__button share-tools__button--no-hover-effect\" data-reactid=\".zoekeinsdq.1.0.1.1.1:$post-53183843.0.4.1.1.2.0.1.1.0.$0.0\"><div data-reactid=\".zoekeinsdq.1.0.1.1.1:$post-53183843.0.4.1.1.2.0.1.1.0.$0.0.0\"><span aria-live=\"assertive\" class=\"gel-great-primer gs-u-mt+ gs-u-mb qa-share-copy-text sp-c-ts-share__copy-button\" data-reactid=\".zoekeinsdq.1.0.1.1.1:$post-53183843.0.4.1.1.2.0.1.1.0.$0.0.0.0\">Copy this link</span><input aria-hidden=\"true\" class=\"lx-share-tools__copylink-box gel-pica qa-share-copy-link sp-c-ts-share__copy-text-dark-theme\" data-reactid=\".zoekeinsdq.1.0.1.1.1:$post-53183843.0.4.1.1.2.0.1.1.0.$0.0.0.1\" readonly=\"\" type=\"text\" value=\"?ns_mchannel=social&amp;ns_source=twitter&amp;ns_campaign=bbc_live&amp;ns_linkname=53183843%26Liverpool%20%C3%A0%20deux%20points%20du%20titre%20de%20Premier%20League%20%3A%20%22C%27est%20notre%20heure%22%2C%20d%C3%A9clare%20Mohamed%20Salah%262020-06-25T18%3A00%3A56.093Z&amp;ns_fee=0&amp;pinned_post_locator=urn:asset:25a7430a-0fb7-44be-be05-75b5f8853bb6&amp;pinned_post_asset_id=53183843&amp;pinned_post_type=share\"/><button aria-label=\"Copy share URL\" class=\"gs-u-vh qa-share-copy-text-hidden-button\" data-reactid=\".zoekeinsdq.1.0.1.1.1:$post-53183843.0.4.1.1.2.0.1.1.0.$0.0.0.2\"></button></div></div></li></ul><span class=\"gs-c-share-tools__item gs-c-share-tools__item--terms\" data-reactid=\".zoekeinsdq.1.0.1.1.1:$post-53183843.0.4.1.1.2.0.1.1.1\"><a aria-label=\"En savoir plus sur le partage externe de contenu BBC\" class=\"gs-c-share-tools__button gs-c-share-tools__button--link\" data-reactid=\".zoekeinsdq.1.0.1.1.1:$post-53183843.0.4.1.1.2.0.1.1.1.0\" href=\"http://www.bbc.co.uk/faqs/questions/bbc_online/sharing\">En savoir plus: cliquez sur ces liens</a></span></div><button aria-label=\"Fermer\" class=\"gs-u-vh gs-o-info-panel__close-button-hidden-label\" data-reactid=\".zoekeinsdq.1.0.1.1.1:$post-53183843.0.4.1.1.2.0.1.2\"></button></div></div></li></ul></div></footer></article></li><li class=\"lx-stream__post-container placeholder-animation-finished\" data-reactid=\".zoekeinsdq.1.0.1.1.1:$post-53092788\"><article aria-labelledby=\"title_53092788\" class=\"qa-post gs-u-pb-alt+ lx-stream-post gs-u-pt-alt+ gs-u-align-left\" data-reactid=\".zoekeinsdq.1.0.1.1.1:$post-53092788.0\" id=\"post_53092788\"><div class=\"gs-u-mb-\" data-reactid=\".zoekeinsdq.1.0.1.1.1:$post-53092788.0.0\"><time class=\"lx-stream-post__meta-time gs-u-align-middle gs-u-display-inline-block gs-u-mr0@m gs-u-mr gel-long-primer\" data-reactid=\".zoekeinsdq.1.0.1.1.1:$post-53092788.0.0.0\"><span class=\"gs-u-vh qa-visually-hidden-meta\" data-reactid=\".zoekeinsdq.1.0.1.1.1:$post-53092788.0.0.0.0\">Posté à 15:47 18 juin 2020</span><span aria-hidden=\"true\" class=\"qa-post-auto-meta\" data-reactid=\".zoekeinsdq.1.0.1.1.1:$post-53092788.0.0.0.1\">15:47 18 juin 2020</span></time></div><header class=\"lx-stream-post__header gs-o-media gs-u-mb-alt\" data-reactid=\".zoekeinsdq.1.0.1.1.1:$post-53092788.0.1\"><noscript data-reactid=\".zoekeinsdq.1.0.1.1.1:$post-53092788.0.1.0\"></noscript><div class=\"gs-o-media__body\" data-reactid=\".zoekeinsdq.1.0.1.1.1:$post-53092788.0.1.1\"><h3 class=\"lx-stream-post__header-title gel-great-primer-bold qa-post-title gs-u-mt0 gs-u-mb-\" data-reactid=\".zoekeinsdq.1.0.1.1.1:$post-53092788.0.1.1.0\"><noscript data-reactid=\".zoekeinsdq.1.0.1.1.1:$post-53092788.0.1.1.0.0\"></noscript><a class=\"qa-heading-link lx-stream-post__header-link\" data-reactid=\".zoekeinsdq.1.0.1.1.1:$post-53092788.0.1.1.0.1\" href=\"/afrique/sports-53092788\"><span class=\"lx-stream-post__header-text gs-u-align-middle\" data-reactid=\".zoekeinsdq.1.0.1.1.1:$post-53092788.0.1.1.0.1.0\" id=\"title_53092788\">Marcus Rashford: la victoire d’un footballeur de Manchester United face au Premier ministre</span></a></h3></div></header><noscript data-reactid=\".zoekeinsdq.1.0.1.1.1:$post-53092788.0.2\"></noscript><div class=\"gs-u-mb+ gel-body-copy qa-post-body\" data-reactid=\".zoekeinsdq.1.0.1.1.1:$post-53092788.0.3\"><div class=\"lx-stream-related-story\" data-reactid=\".zoekeinsdq.1.0.1.1.1:$post-53092788.0.3.0\"><div class=\"gel-3/8@l\" data-reactid=\".zoekeinsdq.1.0.1.1.1:$post-53092788.0.3.0.0\"><a class=\"qa-story-image-link\" data-reactid=\".zoekeinsdq.1.0.1.1.1:$post-53092788.0.3.0.0.0\" href=\"/afrique/sports-53092788\"><div class=\"lx-stream-related-story--index-image-wrapper qa-story-image-wrapper\" data-reactid=\".zoekeinsdq.1.0.1.1.1:$post-53092788.0.3.0.0.0.0\"><img alt=\"Marcus Rashford celebrates scoring a goal for England\" class=\"qa-srcset-image lx-stream-related-story--index-image qa-story-image\" data-reactid=\".zoekeinsdq.1.0.1.1.1:$post-53092788.0.3.0.0.0.0.0\" sizes=\"(min-width: 900px) 50vw, (min-width: 600px) 70vw, 100vw\" src=\"https://ichef.bbci.co.uk/live-experience/cps/320/cpsprodpb/4C4C/production/_112923591_rashford_getty.jpg\" srcset=\"https://ichef.bbci.co.uk/live-experience/cps/240/cpsprodpb/4C4C/production/_112923591_rashford_getty.jpg 240w, https://ichef.bbci.co.uk/live-experience/cps/320/cpsprodpb/4C4C/production/_112923591_rashford_getty.jpg 320w, https://ichef.bbci.co.uk/live-experience/cps/480/cpsprodpb/4C4C/production/_112923591_rashford_getty.jpg 480w, https://ichef.bbci.co.uk/live-experience/cps/624/cpsprodpb/4C4C/production/_112923591_rashford_getty.jpg 624w, https://ichef.bbci.co.uk/live-experience/cps/800/cpsprodpb/4C4C/production/_112923591_rashford_getty.jpg 800w\"/></div></a></div><div class=\"gel-5/8@l\" data-reactid=\".zoekeinsdq.1.0.1.1.1:$post-53092788.0.3.0.1\"><p class=\"lx-stream-related-story--summary qa-story-summary\" data-reactid=\".zoekeinsdq.1.0.1.1.1:$post-53092788.0.3.0.1.1\">Le gouvernement britannique a annoncé qu'il offrirait des repas gratuits aux écoliers vulnérables pendant les vacances d'été, après une campagne menée par l'attaquant anglais.</p><a class=\"qa-story-cta-link\" data-reactid=\".zoekeinsdq.1.0.1.1.1:$post-53092788.0.3.0.1.2\" href=\"/afrique/sports-53092788\"><span class=\"gs-o-button lx-stream-related-story--cta-button gel-long-primer-bold qa-story-text-cta\" data-reactid=\".zoekeinsdq.1.0.1.1.1:$post-53092788.0.3.0.1.2.0\"><span class=\"lx-stream-related-story--cta-text\" data-reactid=\".zoekeinsdq.1.0.1.1.1:$post-53092788.0.3.0.1.2.0.0\">Lire plus</span><div class=\"gel-icon gel-icon--next\" data-reactid=\".zoekeinsdq.1.0.1.1.1:$post-53092788.0.3.0.1.2.0.1\"><svg data-reactid=\".zoekeinsdq.1.0.1.1.1:$post-53092788.0.3.0.1.2.0.1.0\" viewbox=\"0 0 32 32\"><title data-reactid=\".zoekeinsdq.1.0.1.1.1:$post-53092788.0.3.0.1.2.0.1.0.0\">next</title><path d=\"M29 16L3 0v7.2L17.6 16 3 24.8V32l26-16z\" data-reactid=\".zoekeinsdq.1.0.1.1.1:$post-53092788.0.3.0.1.2.0.1.0.1\"></path></svg></div></span></a></div></div></div><footer class=\"lx-stream-post__footer\" data-reactid=\".zoekeinsdq.1.0.1.1.1:$post-53092788.0.4\"><div class=\"lx-stream-post__footer-share\" data-reactid=\".zoekeinsdq.1.0.1.1.1:$post-53092788.0.4.1\"><span class=\"gs-u-vh qa-share-tools-heading\" data-reactid=\".zoekeinsdq.1.0.1.1.1:$post-53092788.0.4.1.0\" id=\"share-tools-title-53092788\">Article share tools</span><ul aria-labelledby=\"share-tools-title-53092788\" class=\"lx-share-tools__items lx-share-tools__items--align-left qa-share-tools\" data-reactid=\".zoekeinsdq.1.0.1.1.1:$post-53092788.0.4.1.1\"><li data-reactid=\".zoekeinsdq.1.0.1.1.1:$post-53092788.0.4.1.1.0\"><button aria-label=\"Share this post on Facebook\" class=\"qa-facebook-share lx-share-tools__cta gs-c-share-tools__button qa-share-button-facebook gs-u-p0\" data-reactid=\".zoekeinsdq.1.0.1.1.1:$post-53092788.0.4.1.1.0.0\"><span class=\"gs-o-bullet\" data-reactid=\".zoekeinsdq.1.0.1.1.1:$post-53092788.0.4.1.1.0.0.0\"><span class=\"qa-facebook-share lx-share-tools__cta gs-c-share-tools__button-icon gs-o-bullet__icon gel-icon gs-c-share-tools__button-icon--facebook gs-c-share-tools__button-icon--small\" data-reactid=\".zoekeinsdq.1.0.1.1.1:$post-53092788.0.4.1.1.0.0.0.0\"><svg data-reactid=\".zoekeinsdq.1.0.1.1.1:$post-53092788.0.4.1.1.0.0.0.0.0\" viewbox=\"0 0 266.89 266.89\"><path d=\"M252.16,0H14.73A14.73,14.73,0,0,0,0,14.73V252.16a14.73,14.73,0,0,0,14.73,14.73H142.56V163.54H107.78V123.26h34.78V93.55c0-34.47,21.05-53.24,51.81-53.24a285.37,285.37,0,0,1,31.08,1.59v36H204.12c-16.72,0-20,7.95-20,19.61v25.72H224l-5.19,40.28H184.15V266.89h68a14.73,14.73,0,0,0,14.73-14.73V14.73A14.73,14.73,0,0,0,252.16,0Z\" data-reactid=\".zoekeinsdq.1.0.1.1.1:$post-53092788.0.4.1.1.0.0.0.0.0.0\"></path></svg></span><span class=\"gs-o-bullet__text gs-c-share-tools__button-text\" data-reactid=\".zoekeinsdq.1.0.1.1.1:$post-53092788.0.4.1.1.0.0.0.1\">Facebook</span></span></button></li><li data-reactid=\".zoekeinsdq.1.0.1.1.1:$post-53092788.0.4.1.1.1\"><button aria-label=\"Share this post on Twitter\" class=\"qa-twitter-share lx-share-tools__cta gs-c-share-tools__button qa-share-button-twitter gs-u-p0\" data-reactid=\".zoekeinsdq.1.0.1.1.1:$post-53092788.0.4.1.1.1.0\"><span class=\"gs-o-bullet\" data-reactid=\".zoekeinsdq.1.0.1.1.1:$post-53092788.0.4.1.1.1.0.0\"><span class=\"qa-twitter-share lx-share-tools__cta gs-c-share-tools__button-icon gs-o-bullet__icon gel-icon gs-c-share-tools__button-icon--twitter gs-c-share-tools__button-icon--small\" data-reactid=\".zoekeinsdq.1.0.1.1.1:$post-53092788.0.4.1.1.1.0.0.0\"><svg data-reactid=\".zoekeinsdq.1.0.1.1.1:$post-53092788.0.4.1.1.1.0.0.0.0\" viewbox=\"0 0 32 32\"><path d=\"M32 6.1c-1.2.5-2.4.9-3.8 1 1.4-.8 2.4-2.1 2.9-3.6-1.3.8-2.7 1.3-4.2 1.6C25.7 3.8 24 3 22.2 3c-3.6 0-6.6 2.9-6.6 6.6 0 .5.1 1 .2 1.5-5.5-.3-10.3-2.9-13.6-6.9-.6 1-.9 2.1-.9 3.3 0 2.3 1.2 4.3 2.9 5.5-1.1 0-2.1-.3-3-.8v.1c0 3.2 2.3 5.8 5.3 6.4-.6.1-1.1.2-1.7.2-.4 0-.8 0-1.2-.1.8 2.6 3.3 4.5 6.1 4.6-2.2 1.8-5.1 2.8-8.2 2.8-.5 0-1.1 0-1.6-.1 3 1.8 6.5 2.9 10.2 2.9 12.1 0 18.7-10 18.7-18.7v-.9c1.2-.9 2.3-2 3.2-3.3z\" data-reactid=\".zoekeinsdq.1.0.1.1.1:$post-53092788.0.4.1.1.1.0.0.0.0.0\"></path></svg></span><span class=\"gs-o-bullet__text gs-c-share-tools__button-text\" data-reactid=\".zoekeinsdq.1.0.1.1.1:$post-53092788.0.4.1.1.1.0.0.1\">Twitter</span></span></button></li><li data-reactid=\".zoekeinsdq.1.0.1.1.1:$post-53092788.0.4.1.1.2\"><div class=\"lx-share-tools__panel gs-c-share-tools\" data-direction=\"alternate-transformation\" data-reactid=\".zoekeinsdq.1.0.1.1.1:$post-53092788.0.4.1.1.2.0\"><button aria-controls=\"share-popup-53092788\" aria-expanded=\"false\" class=\"lx-share-tools__cta gel-long-primer lx-share-tools__cta-share-button\" data-reactid=\".zoekeinsdq.1.0.1.1.1:$post-53092788.0.4.1.1.2.0.0\"><span class=\"lx-share-tools__cta-icon qa-share-tools__cta-icon gel-icon\" data-reactid=\".zoekeinsdq.1.0.1.1.1:$post-53092788.0.4.1.1.2.0.0.0\"><svg data-reactid=\".zoekeinsdq.1.0.1.1.1:$post-53092788.0.4.1.1.2.0.0.0.0\" viewbox=\"0 0 32 32\"><path d=\"M6.8 22.2c1.6 0 3-.7 4-1.8l9 4.8c-.1.4-.2.8-.2 1.3 0 3 2.5 5.5 5.5 5.5s5.5-2.4 5.5-5.5-2.5-5.5-5.5-5.5c-1.6 0-3 .7-4 1.8l-9.5-5.2-.1-2.8 9.7-5.5c1 1 2.3 1.5 3.8 1.5 3 0 5.5-2.5 5.5-5.5S28.2 0 25.2 0s-5.5 2.4-5.5 5.5c0 .6.1 1.1.2 1.6l-9.3 5.7c-1-.9-2.3-1.5-3.8-1.5-3 0-5.5 2.4-5.5 5.5.1 2.9 2.5 5.4 5.5 5.4z \" data-reactid=\".zoekeinsdq.1.0.1.1.1:$post-53092788.0.4.1.1.2.0.0.0.0.0\"></path></svg></span><span aria-hidden=\"true\" class=\"lx-share-tools__cta-text qa-share-tools__cta-text\" data-reactid=\".zoekeinsdq.1.0.1.1.1:$post-53092788.0.4.1.1.2.0.0.1\">Partager</span><span class=\"gs-u-vh qa-accessible-share\" data-reactid=\".zoekeinsdq.1.0.1.1.1:$post-53092788.0.4.1.1.2.0.0.2\">Voir plus d'options de partage</span></button><div aria-hidden=\"true\" class=\"gs-c-share-tools__panel gs-o-info-panel\" data-arrow-position=\"bottom\" data-reactid=\".zoekeinsdq.1.0.1.1.1:$post-53092788.0.4.1.1.2.0.1\" id=\"share-popup-53092788\"><div aria-hidden=\"true\" class=\"gs-o-info-panel__header\" data-reactid=\".zoekeinsdq.1.0.1.1.1:$post-53092788.0.4.1.1.2.0.1.0\"><span class=\"gs-o-info-panel__title gel-great-primer-bold\" data-reactid=\".zoekeinsdq.1.0.1.1.1:$post-53092788.0.4.1.1.2.0.1.0.0\">Share this post</span><button aria-hidden=\"true\" class=\"gs-o-info-panel__close-button\" data-reactid=\".zoekeinsdq.1.0.1.1.1:$post-53092788.0.4.1.1.2.0.1.0.1\"><span class=\"gel-icon gel-icon-no--white gs-o-info-panel__close-button-icon\" data-reactid=\".zoekeinsdq.1.0.1.1.1:$post-53092788.0.4.1.1.2.0.1.0.1.0\"><svg data-reactid=\".zoekeinsdq.1.0.1.1.1:$post-53092788.0.4.1.1.2.0.1.0.1.0.0\" viewbox=\"0 0 32 32\"><path d=\"M32 3.5L28.5 0 16 12.5 3.5 0 0 3.5 12.5 16 0 28.5 3.5 32 16 19.5 28.5 32l3.5-3.5L19.5 16\" data-reactid=\".zoekeinsdq.1.0.1.1.1:$post-53092788.0.4.1.1.2.0.1.0.1.0.0.0\"></path></svg></span></button></div><div aria-hidden=\"true\" class=\"gs-o-info-panel__body gs-o-info-panel__body--flush gel-pica gs-c-share-tools__panel-body\" data-reactid=\".zoekeinsdq.1.0.1.1.1:$post-53092788.0.4.1.1.2.0.1.1\"><ul aria-label=\"Share Options\" class=\"gs-c-share-tools__items\" data-reactid=\".zoekeinsdq.1.0.1.1.1:$post-53092788.0.4.1.1.2.0.1.1.0\"><li class=\"gs-c-share-tools__item\" data-reactid=\".zoekeinsdq.1.0.1.1.1:$post-53092788.0.4.1.1.2.0.1.1.0.$0\"><div class=\"gs-c-share-tools__button share-tools__button--no-hover-effect\" data-reactid=\".zoekeinsdq.1.0.1.1.1:$post-53092788.0.4.1.1.2.0.1.1.0.$0.0\"><div data-reactid=\".zoekeinsdq.1.0.1.1.1:$post-53092788.0.4.1.1.2.0.1.1.0.$0.0.0\"><span aria-live=\"assertive\" class=\"gel-great-primer gs-u-mt+ gs-u-mb qa-share-copy-text sp-c-ts-share__copy-button\" data-reactid=\".zoekeinsdq.1.0.1.1.1:$post-53092788.0.4.1.1.2.0.1.1.0.$0.0.0.0\">Copy this link</span><input aria-hidden=\"true\" class=\"lx-share-tools__copylink-box gel-pica qa-share-copy-link sp-c-ts-share__copy-text-dark-theme\" data-reactid=\".zoekeinsdq.1.0.1.1.1:$post-53092788.0.4.1.1.2.0.1.1.0.$0.0.0.1\" readonly=\"\" type=\"text\" value=\"?ns_mchannel=social&amp;ns_source=twitter&amp;ns_campaign=bbc_live&amp;ns_linkname=53092788%26Marcus%20Rashford%3A%20la%20victoire%20d%E2%80%99un%20footballeur%20de%20Manchester%20United%20face%20au%20Premier%20ministre%262020-06-18T15%3A47%3A53.839Z&amp;ns_fee=0&amp;pinned_post_locator=urn:asset:4d6bbd02-0220-4535-bfbe-0366d968a54f&amp;pinned_post_asset_id=53092788&amp;pinned_post_type=share\"/><button aria-label=\"Copy share URL\" class=\"gs-u-vh qa-share-copy-text-hidden-button\" data-reactid=\".zoekeinsdq.1.0.1.1.1:$post-53092788.0.4.1.1.2.0.1.1.0.$0.0.0.2\"></button></div></div></li></ul><span class=\"gs-c-share-tools__item gs-c-share-tools__item--terms\" data-reactid=\".zoekeinsdq.1.0.1.1.1:$post-53092788.0.4.1.1.2.0.1.1.1\"><a aria-label=\"En savoir plus sur le partage externe de contenu BBC\" class=\"gs-c-share-tools__button gs-c-share-tools__button--link\" data-reactid=\".zoekeinsdq.1.0.1.1.1:$post-53092788.0.4.1.1.2.0.1.1.1.0\" href=\"http://www.bbc.co.uk/faqs/questions/bbc_online/sharing\">En savoir plus: cliquez sur ces liens</a></span></div><button aria-label=\"Fermer\" class=\"gs-u-vh gs-o-info-panel__close-button-hidden-label\" data-reactid=\".zoekeinsdq.1.0.1.1.1:$post-53092788.0.4.1.1.2.0.1.2\"></button></div></div></li></ul></div></footer></article></li><li class=\"lx-stream__post-container placeholder-animation-finished\" data-reactid=\".zoekeinsdq.1.0.1.1.1:$post-53066460\"><article aria-labelledby=\"title_53066460\" class=\"qa-post gs-u-pb-alt+ lx-stream-post gs-u-pt-alt+ gs-u-align-left\" data-reactid=\".zoekeinsdq.1.0.1.1.1:$post-53066460.0\" id=\"post_53066460\"><div class=\"gs-u-mb-\" data-reactid=\".zoekeinsdq.1.0.1.1.1:$post-53066460.0.0\"><time class=\"lx-stream-post__meta-time gs-u-align-middle gs-u-display-inline-block gs-u-mr0@m gs-u-mr gel-long-primer\" data-reactid=\".zoekeinsdq.1.0.1.1.1:$post-53066460.0.0.0\"><span class=\"gs-u-vh qa-visually-hidden-meta\" data-reactid=\".zoekeinsdq.1.0.1.1.1:$post-53066460.0.0.0.0\">Posté à 10:36 17 juin 2020</span><span aria-hidden=\"true\" class=\"qa-post-auto-meta\" data-reactid=\".zoekeinsdq.1.0.1.1.1:$post-53066460.0.0.0.1\">10:36 17 juin 2020</span></time></div><header class=\"lx-stream-post__header gs-o-media gs-u-mb-alt\" data-reactid=\".zoekeinsdq.1.0.1.1.1:$post-53066460.0.1\"><noscript data-reactid=\".zoekeinsdq.1.0.1.1.1:$post-53066460.0.1.0\"></noscript><div class=\"gs-o-media__body\" data-reactid=\".zoekeinsdq.1.0.1.1.1:$post-53066460.0.1.1\"><h3 class=\"lx-stream-post__header-title gel-great-primer-bold qa-post-title gs-u-mt0 gs-u-mb-\" data-reactid=\".zoekeinsdq.1.0.1.1.1:$post-53066460.0.1.1.0\"><noscript data-reactid=\".zoekeinsdq.1.0.1.1.1:$post-53066460.0.1.1.0.0\"></noscript><a class=\"qa-heading-link lx-stream-post__header-link\" data-reactid=\".zoekeinsdq.1.0.1.1.1:$post-53066460.0.1.1.0.1\" href=\"/afrique/sports-53066460\"><span class=\"lx-stream-post__header-text gs-u-align-middle\" data-reactid=\".zoekeinsdq.1.0.1.1.1:$post-53066460.0.1.1.0.1.0\" id=\"title_53066460\">8ème titre consécutif du Bayern de Munich</span></a></h3></div></header><noscript data-reactid=\".zoekeinsdq.1.0.1.1.1:$post-53066460.0.2\"></noscript><div class=\"gs-u-mb+ gel-body-copy qa-post-body\" data-reactid=\".zoekeinsdq.1.0.1.1.1:$post-53066460.0.3\"><div class=\"lx-stream-related-story\" data-reactid=\".zoekeinsdq.1.0.1.1.1:$post-53066460.0.3.0\"><div class=\"gel-3/8@l\" data-reactid=\".zoekeinsdq.1.0.1.1.1:$post-53066460.0.3.0.0\"><a class=\"qa-story-image-link\" data-reactid=\".zoekeinsdq.1.0.1.1.1:$post-53066460.0.3.0.0.0\" href=\"/afrique/sports-53066460\"><div class=\"lx-stream-related-story--index-image-wrapper qa-story-image-wrapper\" data-reactid=\".zoekeinsdq.1.0.1.1.1:$post-53066460.0.3.0.0.0.0\"><img alt=\"Bayern\" class=\"qa-srcset-image lx-stream-related-story--index-image qa-story-image\" data-reactid=\".zoekeinsdq.1.0.1.1.1:$post-53066460.0.3.0.0.0.0.0\" sizes=\"(min-width: 900px) 50vw, (min-width: 600px) 70vw, 100vw\" src=\"https://ichef.bbci.co.uk/live-experience/cps/320/cpsprodpb/D7E0/production/_112946255_5fda9a30-167f-4b5a-a18e-ef349eaf1a24.jpg\" srcset=\"https://ichef.bbci.co.uk/live-experience/cps/240/cpsprodpb/D7E0/production/_112946255_5fda9a30-167f-4b5a-a18e-ef349eaf1a24.jpg 240w, https://ichef.bbci.co.uk/live-experience/cps/320/cpsprodpb/D7E0/production/_112946255_5fda9a30-167f-4b5a-a18e-ef349eaf1a24.jpg 320w, https://ichef.bbci.co.uk/live-experience/cps/480/cpsprodpb/D7E0/production/_112946255_5fda9a30-167f-4b5a-a18e-ef349eaf1a24.jpg 480w, https://ichef.bbci.co.uk/live-experience/cps/624/cpsprodpb/D7E0/production/_112946255_5fda9a30-167f-4b5a-a18e-ef349eaf1a24.jpg 624w, https://ichef.bbci.co.uk/live-experience/cps/800/cpsprodpb/D7E0/production/_112946255_5fda9a30-167f-4b5a-a18e-ef349eaf1a24.jpg 800w\"/></div></a></div><div class=\"gel-5/8@l\" data-reactid=\".zoekeinsdq.1.0.1.1.1:$post-53066460.0.3.0.1\"><p class=\"lx-stream-related-story--summary qa-story-summary\" data-reactid=\".zoekeinsdq.1.0.1.1.1:$post-53066460.0.3.0.1.1\">Une passe décisive de Robert Lewandowski à Jerome Boateng donne la victoire au Bayern de Munich contre le Werder Brême ainsi qu'un 8ème titre consécutif</p><a class=\"qa-story-cta-link\" data-reactid=\".zoekeinsdq.1.0.1.1.1:$post-53066460.0.3.0.1.2\" href=\"/afrique/sports-53066460\"><span class=\"gs-o-button lx-stream-related-story--cta-button gel-long-primer-bold qa-story-text-cta\" data-reactid=\".zoekeinsdq.1.0.1.1.1:$post-53066460.0.3.0.1.2.0\"><span class=\"lx-stream-related-story--cta-text\" data-reactid=\".zoekeinsdq.1.0.1.1.1:$post-53066460.0.3.0.1.2.0.0\">Lire plus</span><div class=\"gel-icon gel-icon--next\" data-reactid=\".zoekeinsdq.1.0.1.1.1:$post-53066460.0.3.0.1.2.0.1\"><svg data-reactid=\".zoekeinsdq.1.0.1.1.1:$post-53066460.0.3.0.1.2.0.1.0\" viewbox=\"0 0 32 32\"><title data-reactid=\".zoekeinsdq.1.0.1.1.1:$post-53066460.0.3.0.1.2.0.1.0.0\">next</title><path d=\"M29 16L3 0v7.2L17.6 16 3 24.8V32l26-16z\" data-reactid=\".zoekeinsdq.1.0.1.1.1:$post-53066460.0.3.0.1.2.0.1.0.1\"></path></svg></div></span></a></div></div></div><footer class=\"lx-stream-post__footer\" data-reactid=\".zoekeinsdq.1.0.1.1.1:$post-53066460.0.4\"><div class=\"lx-stream-post__footer-share\" data-reactid=\".zoekeinsdq.1.0.1.1.1:$post-53066460.0.4.1\"><span class=\"gs-u-vh qa-share-tools-heading\" data-reactid=\".zoekeinsdq.1.0.1.1.1:$post-53066460.0.4.1.0\" id=\"share-tools-title-53066460\">Article share tools</span><ul aria-labelledby=\"share-tools-title-53066460\" class=\"lx-share-tools__items lx-share-tools__items--align-left qa-share-tools\" data-reactid=\".zoekeinsdq.1.0.1.1.1:$post-53066460.0.4.1.1\"><li data-reactid=\".zoekeinsdq.1.0.1.1.1:$post-53066460.0.4.1.1.0\"><button aria-label=\"Share this post on Facebook\" class=\"qa-facebook-share lx-share-tools__cta gs-c-share-tools__button qa-share-button-facebook gs-u-p0\" data-reactid=\".zoekeinsdq.1.0.1.1.1:$post-53066460.0.4.1.1.0.0\"><span class=\"gs-o-bullet\" data-reactid=\".zoekeinsdq.1.0.1.1.1:$post-53066460.0.4.1.1.0.0.0\"><span class=\"qa-facebook-share lx-share-tools__cta gs-c-share-tools__button-icon gs-o-bullet__icon gel-icon gs-c-share-tools__button-icon--facebook gs-c-share-tools__button-icon--small\" data-reactid=\".zoekeinsdq.1.0.1.1.1:$post-53066460.0.4.1.1.0.0.0.0\"><svg data-reactid=\".zoekeinsdq.1.0.1.1.1:$post-53066460.0.4.1.1.0.0.0.0.0\" viewbox=\"0 0 266.89 266.89\"><path d=\"M252.16,0H14.73A14.73,14.73,0,0,0,0,14.73V252.16a14.73,14.73,0,0,0,14.73,14.73H142.56V163.54H107.78V123.26h34.78V93.55c0-34.47,21.05-53.24,51.81-53.24a285.37,285.37,0,0,1,31.08,1.59v36H204.12c-16.72,0-20,7.95-20,19.61v25.72H224l-5.19,40.28H184.15V266.89h68a14.73,14.73,0,0,0,14.73-14.73V14.73A14.73,14.73,0,0,0,252.16,0Z\" data-reactid=\".zoekeinsdq.1.0.1.1.1:$post-53066460.0.4.1.1.0.0.0.0.0.0\"></path></svg></span><span class=\"gs-o-bullet__text gs-c-share-tools__button-text\" data-reactid=\".zoekeinsdq.1.0.1.1.1:$post-53066460.0.4.1.1.0.0.0.1\">Facebook</span></span></button></li><li data-reactid=\".zoekeinsdq.1.0.1.1.1:$post-53066460.0.4.1.1.1\"><button aria-label=\"Share this post on Twitter\" class=\"qa-twitter-share lx-share-tools__cta gs-c-share-tools__button qa-share-button-twitter gs-u-p0\" data-reactid=\".zoekeinsdq.1.0.1.1.1:$post-53066460.0.4.1.1.1.0\"><span class=\"gs-o-bullet\" data-reactid=\".zoekeinsdq.1.0.1.1.1:$post-53066460.0.4.1.1.1.0.0\"><span class=\"qa-twitter-share lx-share-tools__cta gs-c-share-tools__button-icon gs-o-bullet__icon gel-icon gs-c-share-tools__button-icon--twitter gs-c-share-tools__button-icon--small\" data-reactid=\".zoekeinsdq.1.0.1.1.1:$post-53066460.0.4.1.1.1.0.0.0\"><svg data-reactid=\".zoekeinsdq.1.0.1.1.1:$post-53066460.0.4.1.1.1.0.0.0.0\" viewbox=\"0 0 32 32\"><path d=\"M32 6.1c-1.2.5-2.4.9-3.8 1 1.4-.8 2.4-2.1 2.9-3.6-1.3.8-2.7 1.3-4.2 1.6C25.7 3.8 24 3 22.2 3c-3.6 0-6.6 2.9-6.6 6.6 0 .5.1 1 .2 1.5-5.5-.3-10.3-2.9-13.6-6.9-.6 1-.9 2.1-.9 3.3 0 2.3 1.2 4.3 2.9 5.5-1.1 0-2.1-.3-3-.8v.1c0 3.2 2.3 5.8 5.3 6.4-.6.1-1.1.2-1.7.2-.4 0-.8 0-1.2-.1.8 2.6 3.3 4.5 6.1 4.6-2.2 1.8-5.1 2.8-8.2 2.8-.5 0-1.1 0-1.6-.1 3 1.8 6.5 2.9 10.2 2.9 12.1 0 18.7-10 18.7-18.7v-.9c1.2-.9 2.3-2 3.2-3.3z\" data-reactid=\".zoekeinsdq.1.0.1.1.1:$post-53066460.0.4.1.1.1.0.0.0.0.0\"></path></svg></span><span class=\"gs-o-bullet__text gs-c-share-tools__button-text\" data-reactid=\".zoekeinsdq.1.0.1.1.1:$post-53066460.0.4.1.1.1.0.0.1\">Twitter</span></span></button></li><li data-reactid=\".zoekeinsdq.1.0.1.1.1:$post-53066460.0.4.1.1.2\"><div class=\"lx-share-tools__panel gs-c-share-tools\" data-direction=\"alternate-transformation\" data-reactid=\".zoekeinsdq.1.0.1.1.1:$post-53066460.0.4.1.1.2.0\"><button aria-controls=\"share-popup-53066460\" aria-expanded=\"false\" class=\"lx-share-tools__cta gel-long-primer lx-share-tools__cta-share-button\" data-reactid=\".zoekeinsdq.1.0.1.1.1:$post-53066460.0.4.1.1.2.0.0\"><span class=\"lx-share-tools__cta-icon qa-share-tools__cta-icon gel-icon\" data-reactid=\".zoekeinsdq.1.0.1.1.1:$post-53066460.0.4.1.1.2.0.0.0\"><svg data-reactid=\".zoekeinsdq.1.0.1.1.1:$post-53066460.0.4.1.1.2.0.0.0.0\" viewbox=\"0 0 32 32\"><path d=\"M6.8 22.2c1.6 0 3-.7 4-1.8l9 4.8c-.1.4-.2.8-.2 1.3 0 3 2.5 5.5 5.5 5.5s5.5-2.4 5.5-5.5-2.5-5.5-5.5-5.5c-1.6 0-3 .7-4 1.8l-9.5-5.2-.1-2.8 9.7-5.5c1 1 2.3 1.5 3.8 1.5 3 0 5.5-2.5 5.5-5.5S28.2 0 25.2 0s-5.5 2.4-5.5 5.5c0 .6.1 1.1.2 1.6l-9.3 5.7c-1-.9-2.3-1.5-3.8-1.5-3 0-5.5 2.4-5.5 5.5.1 2.9 2.5 5.4 5.5 5.4z \" data-reactid=\".zoekeinsdq.1.0.1.1.1:$post-53066460.0.4.1.1.2.0.0.0.0.0\"></path></svg></span><span aria-hidden=\"true\" class=\"lx-share-tools__cta-text qa-share-tools__cta-text\" data-reactid=\".zoekeinsdq.1.0.1.1.1:$post-53066460.0.4.1.1.2.0.0.1\">Partager</span><span class=\"gs-u-vh qa-accessible-share\" data-reactid=\".zoekeinsdq.1.0.1.1.1:$post-53066460.0.4.1.1.2.0.0.2\">Voir plus d'options de partage</span></button><div aria-hidden=\"true\" class=\"gs-c-share-tools__panel gs-o-info-panel\" data-arrow-position=\"bottom\" data-reactid=\".zoekeinsdq.1.0.1.1.1:$post-53066460.0.4.1.1.2.0.1\" id=\"share-popup-53066460\"><div aria-hidden=\"true\" class=\"gs-o-info-panel__header\" data-reactid=\".zoekeinsdq.1.0.1.1.1:$post-53066460.0.4.1.1.2.0.1.0\"><span class=\"gs-o-info-panel__title gel-great-primer-bold\" data-reactid=\".zoekeinsdq.1.0.1.1.1:$post-53066460.0.4.1.1.2.0.1.0.0\">Share this post</span><button aria-hidden=\"true\" class=\"gs-o-info-panel__close-button\" data-reactid=\".zoekeinsdq.1.0.1.1.1:$post-53066460.0.4.1.1.2.0.1.0.1\"><span class=\"gel-icon gel-icon-no--white gs-o-info-panel__close-button-icon\" data-reactid=\".zoekeinsdq.1.0.1.1.1:$post-53066460.0.4.1.1.2.0.1.0.1.0\"><svg data-reactid=\".zoekeinsdq.1.0.1.1.1:$post-53066460.0.4.1.1.2.0.1.0.1.0.0\" viewbox=\"0 0 32 32\"><path d=\"M32 3.5L28.5 0 16 12.5 3.5 0 0 3.5 12.5 16 0 28.5 3.5 32 16 19.5 28.5 32l3.5-3.5L19.5 16\" data-reactid=\".zoekeinsdq.1.0.1.1.1:$post-53066460.0.4.1.1.2.0.1.0.1.0.0.0\"></path></svg></span></button></div><div aria-hidden=\"true\" class=\"gs-o-info-panel__body gs-o-info-panel__body--flush gel-pica gs-c-share-tools__panel-body\" data-reactid=\".zoekeinsdq.1.0.1.1.1:$post-53066460.0.4.1.1.2.0.1.1\"><ul aria-label=\"Share Options\" class=\"gs-c-share-tools__items\" data-reactid=\".zoekeinsdq.1.0.1.1.1:$post-53066460.0.4.1.1.2.0.1.1.0\"><li class=\"gs-c-share-tools__item\" data-reactid=\".zoekeinsdq.1.0.1.1.1:$post-53066460.0.4.1.1.2.0.1.1.0.$0\"><div class=\"gs-c-share-tools__button share-tools__button--no-hover-effect\" data-reactid=\".zoekeinsdq.1.0.1.1.1:$post-53066460.0.4.1.1.2.0.1.1.0.$0.0\"><div data-reactid=\".zoekeinsdq.1.0.1.1.1:$post-53066460.0.4.1.1.2.0.1.1.0.$0.0.0\"><span aria-live=\"assertive\" class=\"gel-great-primer gs-u-mt+ gs-u-mb qa-share-copy-text sp-c-ts-share__copy-button\" data-reactid=\".zoekeinsdq.1.0.1.1.1:$post-53066460.0.4.1.1.2.0.1.1.0.$0.0.0.0\">Copy this link</span><input aria-hidden=\"true\" class=\"lx-share-tools__copylink-box gel-pica qa-share-copy-link sp-c-ts-share__copy-text-dark-theme\" data-reactid=\".zoekeinsdq.1.0.1.1.1:$post-53066460.0.4.1.1.2.0.1.1.0.$0.0.0.1\" readonly=\"\" type=\"text\" value=\"?ns_mchannel=social&amp;ns_source=twitter&amp;ns_campaign=bbc_live&amp;ns_linkname=53066460%268%C3%A8me%20titre%20cons%C3%A9cutif%20du%20Bayern%20de%20Munich%262020-06-17T10%3A36%3A57.181Z&amp;ns_fee=0&amp;pinned_post_locator=urn:asset:890cc161-5168-eb43-8c7d-182b2e035b14&amp;pinned_post_asset_id=53066460&amp;pinned_post_type=share\"/><button aria-label=\"Copy share URL\" class=\"gs-u-vh qa-share-copy-text-hidden-button\" data-reactid=\".zoekeinsdq.1.0.1.1.1:$post-53066460.0.4.1.1.2.0.1.1.0.$0.0.0.2\"></button></div></div></li></ul><span class=\"gs-c-share-tools__item gs-c-share-tools__item--terms\" data-reactid=\".zoekeinsdq.1.0.1.1.1:$post-53066460.0.4.1.1.2.0.1.1.1\"><a aria-label=\"En savoir plus sur le partage externe de contenu BBC\" class=\"gs-c-share-tools__button gs-c-share-tools__button--link\" data-reactid=\".zoekeinsdq.1.0.1.1.1:$post-53066460.0.4.1.1.2.0.1.1.1.0\" href=\"http://www.bbc.co.uk/faqs/questions/bbc_online/sharing\">En savoir plus: cliquez sur ces liens</a></span></div><button aria-label=\"Fermer\" class=\"gs-u-vh gs-o-info-panel__close-button-hidden-label\" data-reactid=\".zoekeinsdq.1.0.1.1.1:$post-53066460.0.4.1.1.2.0.1.2\"></button></div></div></li></ul></div></footer></article></li><li class=\"lx-stream__post-container placeholder-animation-finished\" data-reactid=\".zoekeinsdq.1.0.1.1.1:$post-53022407\"><article aria-labelledby=\"title_53022407\" class=\"qa-post gs-u-pb-alt+ lx-stream-post gs-u-pt-alt+ gs-u-align-left\" data-reactid=\".zoekeinsdq.1.0.1.1.1:$post-53022407.0\" id=\"post_53022407\"><div class=\"gs-u-mb-\" data-reactid=\".zoekeinsdq.1.0.1.1.1:$post-53022407.0.0\"><time class=\"lx-stream-post__meta-time gs-u-align-middle gs-u-display-inline-block gs-u-mr0@m gs-u-mr gel-long-primer\" data-reactid=\".zoekeinsdq.1.0.1.1.1:$post-53022407.0.0.0\"><span class=\"gs-u-vh qa-visually-hidden-meta\" data-reactid=\".zoekeinsdq.1.0.1.1.1:$post-53022407.0.0.0.0\">Posté à 12:29 12 juin 2020</span><span aria-hidden=\"true\" class=\"qa-post-auto-meta\" data-reactid=\".zoekeinsdq.1.0.1.1.1:$post-53022407.0.0.0.1\">12:29 12 juin 2020</span></time></div><header class=\"lx-stream-post__header gs-o-media gs-u-mb-alt\" data-reactid=\".zoekeinsdq.1.0.1.1.1:$post-53022407.0.1\"><noscript data-reactid=\".zoekeinsdq.1.0.1.1.1:$post-53022407.0.1.0\"></noscript><div class=\"gs-o-media__body\" data-reactid=\".zoekeinsdq.1.0.1.1.1:$post-53022407.0.1.1\"><h3 class=\"lx-stream-post__header-title gel-great-primer-bold qa-post-title gs-u-mt0 gs-u-mb-\" data-reactid=\".zoekeinsdq.1.0.1.1.1:$post-53022407.0.1.1.0\"><noscript data-reactid=\".zoekeinsdq.1.0.1.1.1:$post-53022407.0.1.1.0.0\"></noscript><a class=\"qa-heading-link lx-stream-post__header-link\" data-reactid=\".zoekeinsdq.1.0.1.1.1:$post-53022407.0.1.1.0.1\" href=\"/afrique/media-53022407\"><span class=\"lx-stream-post__header-text gs-u-align-middle\" data-reactid=\".zoekeinsdq.1.0.1.1.1:$post-53022407.0.1.1.0.1.0\" id=\"title_53022407\">Coronavirus : des astuces pour rester actif pendant la crise sanitaire</span></a></h3></div></header><noscript data-reactid=\".zoekeinsdq.1.0.1.1.1:$post-53022407.0.2\"></noscript><div class=\"gs-u-mb+ gel-body-copy qa-post-body\" data-reactid=\".zoekeinsdq.1.0.1.1.1:$post-53022407.0.3\"><div data-reactid=\".zoekeinsdq.1.0.1.1.1:$post-53022407.0.3.0\"><div class=\"gs-u-mb+\" data-reactid=\".zoekeinsdq.1.0.1.1.1:$post-53022407.0.3.0.0\"><figure class=\"lx-stream-post-body__media-asset lx-media-asset lx-media-asset--landscape lx-media-asset--smp qa-media-asset-smp\" data-reactid=\".zoekeinsdq.1.0.1.1.1:$post-53022407.0.3.0.0.0\"><h4 class=\"gs-u-vh qa-map-smp-accessible-title\" data-reactid=\".zoekeinsdq.1.0.1.1.1:$post-53022407.0.3.0.0.0.0\">Video content</h4><div class=\"lx-media-asset__body\" data-reactid=\".zoekeinsdq.1.0.1.1.1:$post-53022407.0.3.0.0.0.1\"><div class=\"gs-o-responsive-image gs-o-responsive-image--16by9\" data-reactid=\".zoekeinsdq.1.0.1.1.1:$post-53022407.0.3.0.0.0.1.0\"><div class=\"smp-embed\" data-reactid=\".zoekeinsdq.1.0.1.1.1:$post-53022407.0.3.0.0.0.1.0.0\"><div class=\"react-intersect\" data-reactid=\".zoekeinsdq.1.0.1.1.1:$post-53022407.0.3.0.0.0.1.0.0.0\"></div></div></div></div><figcaption class=\"lx-media-asset__caption gel-brevier\" data-reactid=\".zoekeinsdq.1.0.1.1.1:$post-53022407.0.3.0.0.0.2\"><span class=\"gs-u-vh qa-media-smp-accessible-caption-text\" data-reactid=\".zoekeinsdq.1.0.1.1.1:$post-53022407.0.3.0.0.0.2.0\">Video caption: ,l</span><span aria-hidden=\"true\" class=\"qa-media-smp-caption-text\" data-reactid=\".zoekeinsdq.1.0.1.1.1:$post-53022407.0.3.0.0.0.2.1\">,l</span></figcaption></figure></div><p class=\"lx-media-asset-summary qa-map-summary gel-pica\" data-reactid=\".zoekeinsdq.1.0.1.1.1:$post-53022407.0.3.0.1\">,l</p></div></div><footer class=\"lx-stream-post__footer\" data-reactid=\".zoekeinsdq.1.0.1.1.1:$post-53022407.0.4\"><div class=\"lx-stream-post__footer-share\" data-reactid=\".zoekeinsdq.1.0.1.1.1:$post-53022407.0.4.1\"><span class=\"gs-u-vh qa-share-tools-heading\" data-reactid=\".zoekeinsdq.1.0.1.1.1:$post-53022407.0.4.1.0\" id=\"share-tools-title-53022407\">Article share tools</span><ul aria-labelledby=\"share-tools-title-53022407\" class=\"lx-share-tools__items lx-share-tools__items--align-left qa-share-tools\" data-reactid=\".zoekeinsdq.1.0.1.1.1:$post-53022407.0.4.1.1\"><li data-reactid=\".zoekeinsdq.1.0.1.1.1:$post-53022407.0.4.1.1.0\"><button aria-label=\"Share this post on Facebook\" class=\"qa-facebook-share lx-share-tools__cta gs-c-share-tools__button qa-share-button-facebook gs-u-p0\" data-reactid=\".zoekeinsdq.1.0.1.1.1:$post-53022407.0.4.1.1.0.0\"><span class=\"gs-o-bullet\" data-reactid=\".zoekeinsdq.1.0.1.1.1:$post-53022407.0.4.1.1.0.0.0\"><span class=\"qa-facebook-share lx-share-tools__cta gs-c-share-tools__button-icon gs-o-bullet__icon gel-icon gs-c-share-tools__button-icon--facebook gs-c-share-tools__button-icon--small\" data-reactid=\".zoekeinsdq.1.0.1.1.1:$post-53022407.0.4.1.1.0.0.0.0\"><svg data-reactid=\".zoekeinsdq.1.0.1.1.1:$post-53022407.0.4.1.1.0.0.0.0.0\" viewbox=\"0 0 266.89 266.89\"><path d=\"M252.16,0H14.73A14.73,14.73,0,0,0,0,14.73V252.16a14.73,14.73,0,0,0,14.73,14.73H142.56V163.54H107.78V123.26h34.78V93.55c0-34.47,21.05-53.24,51.81-53.24a285.37,285.37,0,0,1,31.08,1.59v36H204.12c-16.72,0-20,7.95-20,19.61v25.72H224l-5.19,40.28H184.15V266.89h68a14.73,14.73,0,0,0,14.73-14.73V14.73A14.73,14.73,0,0,0,252.16,0Z\" data-reactid=\".zoekeinsdq.1.0.1.1.1:$post-53022407.0.4.1.1.0.0.0.0.0.0\"></path></svg></span><span class=\"gs-o-bullet__text gs-c-share-tools__button-text\" data-reactid=\".zoekeinsdq.1.0.1.1.1:$post-53022407.0.4.1.1.0.0.0.1\">Facebook</span></span></button></li><li data-reactid=\".zoekeinsdq.1.0.1.1.1:$post-53022407.0.4.1.1.1\"><button aria-label=\"Share this post on Twitter\" class=\"qa-twitter-share lx-share-tools__cta gs-c-share-tools__button qa-share-button-twitter gs-u-p0\" data-reactid=\".zoekeinsdq.1.0.1.1.1:$post-53022407.0.4.1.1.1.0\"><span class=\"gs-o-bullet\" data-reactid=\".zoekeinsdq.1.0.1.1.1:$post-53022407.0.4.1.1.1.0.0\"><span class=\"qa-twitter-share lx-share-tools__cta gs-c-share-tools__button-icon gs-o-bullet__icon gel-icon gs-c-share-tools__button-icon--twitter gs-c-share-tools__button-icon--small\" data-reactid=\".zoekeinsdq.1.0.1.1.1:$post-53022407.0.4.1.1.1.0.0.0\"><svg data-reactid=\".zoekeinsdq.1.0.1.1.1:$post-53022407.0.4.1.1.1.0.0.0.0\" viewbox=\"0 0 32 32\"><path d=\"M32 6.1c-1.2.5-2.4.9-3.8 1 1.4-.8 2.4-2.1 2.9-3.6-1.3.8-2.7 1.3-4.2 1.6C25.7 3.8 24 3 22.2 3c-3.6 0-6.6 2.9-6.6 6.6 0 .5.1 1 .2 1.5-5.5-.3-10.3-2.9-13.6-6.9-.6 1-.9 2.1-.9 3.3 0 2.3 1.2 4.3 2.9 5.5-1.1 0-2.1-.3-3-.8v.1c0 3.2 2.3 5.8 5.3 6.4-.6.1-1.1.2-1.7.2-.4 0-.8 0-1.2-.1.8 2.6 3.3 4.5 6.1 4.6-2.2 1.8-5.1 2.8-8.2 2.8-.5 0-1.1 0-1.6-.1 3 1.8 6.5 2.9 10.2 2.9 12.1 0 18.7-10 18.7-18.7v-.9c1.2-.9 2.3-2 3.2-3.3z\" data-reactid=\".zoekeinsdq.1.0.1.1.1:$post-53022407.0.4.1.1.1.0.0.0.0.0\"></path></svg></span><span class=\"gs-o-bullet__text gs-c-share-tools__button-text\" data-reactid=\".zoekeinsdq.1.0.1.1.1:$post-53022407.0.4.1.1.1.0.0.1\">Twitter</span></span></button></li><li data-reactid=\".zoekeinsdq.1.0.1.1.1:$post-53022407.0.4.1.1.2\"><div class=\"lx-share-tools__panel gs-c-share-tools\" data-direction=\"alternate-transformation\" data-reactid=\".zoekeinsdq.1.0.1.1.1:$post-53022407.0.4.1.1.2.0\"><button aria-controls=\"share-popup-53022407\" aria-expanded=\"false\" class=\"lx-share-tools__cta gel-long-primer lx-share-tools__cta-share-button\" data-reactid=\".zoekeinsdq.1.0.1.1.1:$post-53022407.0.4.1.1.2.0.0\"><span class=\"lx-share-tools__cta-icon qa-share-tools__cta-icon gel-icon\" data-reactid=\".zoekeinsdq.1.0.1.1.1:$post-53022407.0.4.1.1.2.0.0.0\"><svg data-reactid=\".zoekeinsdq.1.0.1.1.1:$post-53022407.0.4.1.1.2.0.0.0.0\" viewbox=\"0 0 32 32\"><path d=\"M6.8 22.2c1.6 0 3-.7 4-1.8l9 4.8c-.1.4-.2.8-.2 1.3 0 3 2.5 5.5 5.5 5.5s5.5-2.4 5.5-5.5-2.5-5.5-5.5-5.5c-1.6 0-3 .7-4 1.8l-9.5-5.2-.1-2.8 9.7-5.5c1 1 2.3 1.5 3.8 1.5 3 0 5.5-2.5 5.5-5.5S28.2 0 25.2 0s-5.5 2.4-5.5 5.5c0 .6.1 1.1.2 1.6l-9.3 5.7c-1-.9-2.3-1.5-3.8-1.5-3 0-5.5 2.4-5.5 5.5.1 2.9 2.5 5.4 5.5 5.4z \" data-reactid=\".zoekeinsdq.1.0.1.1.1:$post-53022407.0.4.1.1.2.0.0.0.0.0\"></path></svg></span><span aria-hidden=\"true\" class=\"lx-share-tools__cta-text qa-share-tools__cta-text\" data-reactid=\".zoekeinsdq.1.0.1.1.1:$post-53022407.0.4.1.1.2.0.0.1\">Partager</span><span class=\"gs-u-vh qa-accessible-share\" data-reactid=\".zoekeinsdq.1.0.1.1.1:$post-53022407.0.4.1.1.2.0.0.2\">Voir plus d'options de partage</span></button><div aria-hidden=\"true\" class=\"gs-c-share-tools__panel gs-o-info-panel\" data-arrow-position=\"bottom\" data-reactid=\".zoekeinsdq.1.0.1.1.1:$post-53022407.0.4.1.1.2.0.1\" id=\"share-popup-53022407\"><div aria-hidden=\"true\" class=\"gs-o-info-panel__header\" data-reactid=\".zoekeinsdq.1.0.1.1.1:$post-53022407.0.4.1.1.2.0.1.0\"><span class=\"gs-o-info-panel__title gel-great-primer-bold\" data-reactid=\".zoekeinsdq.1.0.1.1.1:$post-53022407.0.4.1.1.2.0.1.0.0\">Share this post</span><button aria-hidden=\"true\" class=\"gs-o-info-panel__close-button\" data-reactid=\".zoekeinsdq.1.0.1.1.1:$post-53022407.0.4.1.1.2.0.1.0.1\"><span class=\"gel-icon gel-icon-no--white gs-o-info-panel__close-button-icon\" data-reactid=\".zoekeinsdq.1.0.1.1.1:$post-53022407.0.4.1.1.2.0.1.0.1.0\"><svg data-reactid=\".zoekeinsdq.1.0.1.1.1:$post-53022407.0.4.1.1.2.0.1.0.1.0.0\" viewbox=\"0 0 32 32\"><path d=\"M32 3.5L28.5 0 16 12.5 3.5 0 0 3.5 12.5 16 0 28.5 3.5 32 16 19.5 28.5 32l3.5-3.5L19.5 16\" data-reactid=\".zoekeinsdq.1.0.1.1.1:$post-53022407.0.4.1.1.2.0.1.0.1.0.0.0\"></path></svg></span></button></div><div aria-hidden=\"true\" class=\"gs-o-info-panel__body gs-o-info-panel__body--flush gel-pica gs-c-share-tools__panel-body\" data-reactid=\".zoekeinsdq.1.0.1.1.1:$post-53022407.0.4.1.1.2.0.1.1\"><ul aria-label=\"Share Options\" class=\"gs-c-share-tools__items\" data-reactid=\".zoekeinsdq.1.0.1.1.1:$post-53022407.0.4.1.1.2.0.1.1.0\"><li class=\"gs-c-share-tools__item\" data-reactid=\".zoekeinsdq.1.0.1.1.1:$post-53022407.0.4.1.1.2.0.1.1.0.$0\"><div class=\"gs-c-share-tools__button share-tools__button--no-hover-effect\" data-reactid=\".zoekeinsdq.1.0.1.1.1:$post-53022407.0.4.1.1.2.0.1.1.0.$0.0\"><div data-reactid=\".zoekeinsdq.1.0.1.1.1:$post-53022407.0.4.1.1.2.0.1.1.0.$0.0.0\"><span aria-live=\"assertive\" class=\"gel-great-primer gs-u-mt+ gs-u-mb qa-share-copy-text sp-c-ts-share__copy-button\" data-reactid=\".zoekeinsdq.1.0.1.1.1:$post-53022407.0.4.1.1.2.0.1.1.0.$0.0.0.0\">Copy this link</span><input aria-hidden=\"true\" class=\"lx-share-tools__copylink-box gel-pica qa-share-copy-link sp-c-ts-share__copy-text-dark-theme\" data-reactid=\".zoekeinsdq.1.0.1.1.1:$post-53022407.0.4.1.1.2.0.1.1.0.$0.0.0.1\" readonly=\"\" type=\"text\" value=\"?ns_mchannel=social&amp;ns_source=twitter&amp;ns_campaign=bbc_live&amp;ns_linkname=53022407%26Coronavirus%20%3A%20des%20astuces%20pour%20rester%20actif%20pendant%20la%20crise%20sanitaire%262020-06-12T12%3A29%3A37.031Z&amp;ns_fee=0&amp;pinned_post_locator=urn:asset:2fc20dc7-9ebe-1943-bcee-7e19aebfd721&amp;pinned_post_asset_id=53022407&amp;pinned_post_type=share\"/><button aria-label=\"Copy share URL\" class=\"gs-u-vh qa-share-copy-text-hidden-button\" data-reactid=\".zoekeinsdq.1.0.1.1.1:$post-53022407.0.4.1.1.2.0.1.1.0.$0.0.0.2\"></button></div></div></li></ul><span class=\"gs-c-share-tools__item gs-c-share-tools__item--terms\" data-reactid=\".zoekeinsdq.1.0.1.1.1:$post-53022407.0.4.1.1.2.0.1.1.1\"><a aria-label=\"En savoir plus sur le partage externe de contenu BBC\" class=\"gs-c-share-tools__button gs-c-share-tools__button--link\" data-reactid=\".zoekeinsdq.1.0.1.1.1:$post-53022407.0.4.1.1.2.0.1.1.1.0\" href=\"http://www.bbc.co.uk/faqs/questions/bbc_online/sharing\">En savoir plus: cliquez sur ces liens</a></span></div><button aria-label=\"Fermer\" class=\"gs-u-vh gs-o-info-panel__close-button-hidden-label\" data-reactid=\".zoekeinsdq.1.0.1.1.1:$post-53022407.0.4.1.1.2.0.1.2\"></button></div></div></li></ul></div></footer></article></li><li class=\"lx-stream__post-container placeholder-animation-finished\" data-reactid=\".zoekeinsdq.1.0.1.1.1:$post-53022403\"><article aria-labelledby=\"title_53022403\" class=\"qa-post gs-u-pb-alt+ lx-stream-post gs-u-pt-alt+ gs-u-align-left\" data-reactid=\".zoekeinsdq.1.0.1.1.1:$post-53022403.0\" id=\"post_53022403\"><div class=\"gs-u-mb-\" data-reactid=\".zoekeinsdq.1.0.1.1.1:$post-53022403.0.0\"><time class=\"lx-stream-post__meta-time gs-u-align-middle gs-u-display-inline-block gs-u-mr0@m gs-u-mr gel-long-primer\" data-reactid=\".zoekeinsdq.1.0.1.1.1:$post-53022403.0.0.0\"><span class=\"gs-u-vh qa-visually-hidden-meta\" data-reactid=\".zoekeinsdq.1.0.1.1.1:$post-53022403.0.0.0.0\">Posté à 9:47 12 juin 2020</span><span aria-hidden=\"true\" class=\"qa-post-auto-meta\" data-reactid=\".zoekeinsdq.1.0.1.1.1:$post-53022403.0.0.0.1\">9:47 12 juin 2020</span></time></div><header class=\"lx-stream-post__header gs-o-media gs-u-mb-alt\" data-reactid=\".zoekeinsdq.1.0.1.1.1:$post-53022403.0.1\"><noscript data-reactid=\".zoekeinsdq.1.0.1.1.1:$post-53022403.0.1.0\"></noscript><div class=\"gs-o-media__body\" data-reactid=\".zoekeinsdq.1.0.1.1.1:$post-53022403.0.1.1\"><h3 class=\"lx-stream-post__header-title gel-great-primer-bold qa-post-title gs-u-mt0 gs-u-mb-\" data-reactid=\".zoekeinsdq.1.0.1.1.1:$post-53022403.0.1.1.0\"><noscript data-reactid=\".zoekeinsdq.1.0.1.1.1:$post-53022403.0.1.1.0.0\"></noscript><a class=\"qa-heading-link lx-stream-post__header-link\" data-reactid=\".zoekeinsdq.1.0.1.1.1:$post-53022403.0.1.1.0.1\" href=\"/afrique/media-53022403\"><span class=\"lx-stream-post__header-text gs-u-align-middle\" data-reactid=\".zoekeinsdq.1.0.1.1.1:$post-53022403.0.1.1.0.1.0\" id=\"title_53022403\">L'impact du coronavirus sur le football africain</span></a></h3></div></header><noscript data-reactid=\".zoekeinsdq.1.0.1.1.1:$post-53022403.0.2\"></noscript><div class=\"gs-u-mb+ gel-body-copy qa-post-body\" data-reactid=\".zoekeinsdq.1.0.1.1.1:$post-53022403.0.3\"><div data-reactid=\".zoekeinsdq.1.0.1.1.1:$post-53022403.0.3.0\"><div class=\"gs-u-mb+\" data-reactid=\".zoekeinsdq.1.0.1.1.1:$post-53022403.0.3.0.0\"><figure class=\"lx-stream-post-body__media-asset lx-media-asset lx-media-asset--landscape lx-media-asset--smp qa-media-asset-smp\" data-reactid=\".zoekeinsdq.1.0.1.1.1:$post-53022403.0.3.0.0.0\"><h4 class=\"gs-u-vh qa-map-smp-accessible-title\" data-reactid=\".zoekeinsdq.1.0.1.1.1:$post-53022403.0.3.0.0.0.0\">Video content</h4><div class=\"lx-media-asset__body\" data-reactid=\".zoekeinsdq.1.0.1.1.1:$post-53022403.0.3.0.0.0.1\"><div class=\"gs-o-responsive-image gs-o-responsive-image--16by9\" data-reactid=\".zoekeinsdq.1.0.1.1.1:$post-53022403.0.3.0.0.0.1.0\"><div class=\"smp-embed\" data-reactid=\".zoekeinsdq.1.0.1.1.1:$post-53022403.0.3.0.0.0.1.0.0\"><div class=\"react-intersect\" data-reactid=\".zoekeinsdq.1.0.1.1.1:$post-53022403.0.3.0.0.0.1.0.0.0\"></div></div></div></div><figcaption class=\"lx-media-asset__caption gel-brevier\" data-reactid=\".zoekeinsdq.1.0.1.1.1:$post-53022403.0.3.0.0.0.2\"><span class=\"gs-u-vh qa-media-smp-accessible-caption-text\" data-reactid=\".zoekeinsdq.1.0.1.1.1:$post-53022403.0.3.0.0.0.2.0\">Video caption: ss</span><span aria-hidden=\"true\" class=\"qa-media-smp-caption-text\" data-reactid=\".zoekeinsdq.1.0.1.1.1:$post-53022403.0.3.0.0.0.2.1\">ss</span></figcaption></figure></div><p class=\"lx-media-asset-summary qa-map-summary gel-pica\" data-reactid=\".zoekeinsdq.1.0.1.1.1:$post-53022403.0.3.0.1\">s</p></div></div><footer class=\"lx-stream-post__footer\" data-reactid=\".zoekeinsdq.1.0.1.1.1:$post-53022403.0.4\"><div class=\"lx-stream-post__footer-share\" data-reactid=\".zoekeinsdq.1.0.1.1.1:$post-53022403.0.4.1\"><span class=\"gs-u-vh qa-share-tools-heading\" data-reactid=\".zoekeinsdq.1.0.1.1.1:$post-53022403.0.4.1.0\" id=\"share-tools-title-53022403\">Article share tools</span><ul aria-labelledby=\"share-tools-title-53022403\" class=\"lx-share-tools__items lx-share-tools__items--align-left qa-share-tools\" data-reactid=\".zoekeinsdq.1.0.1.1.1:$post-53022403.0.4.1.1\"><li data-reactid=\".zoekeinsdq.1.0.1.1.1:$post-53022403.0.4.1.1.0\"><button aria-label=\"Share this post on Facebook\" class=\"qa-facebook-share lx-share-tools__cta gs-c-share-tools__button qa-share-button-facebook gs-u-p0\" data-reactid=\".zoekeinsdq.1.0.1.1.1:$post-53022403.0.4.1.1.0.0\"><span class=\"gs-o-bullet\" data-reactid=\".zoekeinsdq.1.0.1.1.1:$post-53022403.0.4.1.1.0.0.0\"><span class=\"qa-facebook-share lx-share-tools__cta gs-c-share-tools__button-icon gs-o-bullet__icon gel-icon gs-c-share-tools__button-icon--facebook gs-c-share-tools__button-icon--small\" data-reactid=\".zoekeinsdq.1.0.1.1.1:$post-53022403.0.4.1.1.0.0.0.0\"><svg data-reactid=\".zoekeinsdq.1.0.1.1.1:$post-53022403.0.4.1.1.0.0.0.0.0\" viewbox=\"0 0 266.89 266.89\"><path d=\"M252.16,0H14.73A14.73,14.73,0,0,0,0,14.73V252.16a14.73,14.73,0,0,0,14.73,14.73H142.56V163.54H107.78V123.26h34.78V93.55c0-34.47,21.05-53.24,51.81-53.24a285.37,285.37,0,0,1,31.08,1.59v36H204.12c-16.72,0-20,7.95-20,19.61v25.72H224l-5.19,40.28H184.15V266.89h68a14.73,14.73,0,0,0,14.73-14.73V14.73A14.73,14.73,0,0,0,252.16,0Z\" data-reactid=\".zoekeinsdq.1.0.1.1.1:$post-53022403.0.4.1.1.0.0.0.0.0.0\"></path></svg></span><span class=\"gs-o-bullet__text gs-c-share-tools__button-text\" data-reactid=\".zoekeinsdq.1.0.1.1.1:$post-53022403.0.4.1.1.0.0.0.1\">Facebook</span></span></button></li><li data-reactid=\".zoekeinsdq.1.0.1.1.1:$post-53022403.0.4.1.1.1\"><button aria-label=\"Share this post on Twitter\" class=\"qa-twitter-share lx-share-tools__cta gs-c-share-tools__button qa-share-button-twitter gs-u-p0\" data-reactid=\".zoekeinsdq.1.0.1.1.1:$post-53022403.0.4.1.1.1.0\"><span class=\"gs-o-bullet\" data-reactid=\".zoekeinsdq.1.0.1.1.1:$post-53022403.0.4.1.1.1.0.0\"><span class=\"qa-twitter-share lx-share-tools__cta gs-c-share-tools__button-icon gs-o-bullet__icon gel-icon gs-c-share-tools__button-icon--twitter gs-c-share-tools__button-icon--small\" data-reactid=\".zoekeinsdq.1.0.1.1.1:$post-53022403.0.4.1.1.1.0.0.0\"><svg data-reactid=\".zoekeinsdq.1.0.1.1.1:$post-53022403.0.4.1.1.1.0.0.0.0\" viewbox=\"0 0 32 32\"><path d=\"M32 6.1c-1.2.5-2.4.9-3.8 1 1.4-.8 2.4-2.1 2.9-3.6-1.3.8-2.7 1.3-4.2 1.6C25.7 3.8 24 3 22.2 3c-3.6 0-6.6 2.9-6.6 6.6 0 .5.1 1 .2 1.5-5.5-.3-10.3-2.9-13.6-6.9-.6 1-.9 2.1-.9 3.3 0 2.3 1.2 4.3 2.9 5.5-1.1 0-2.1-.3-3-.8v.1c0 3.2 2.3 5.8 5.3 6.4-.6.1-1.1.2-1.7.2-.4 0-.8 0-1.2-.1.8 2.6 3.3 4.5 6.1 4.6-2.2 1.8-5.1 2.8-8.2 2.8-.5 0-1.1 0-1.6-.1 3 1.8 6.5 2.9 10.2 2.9 12.1 0 18.7-10 18.7-18.7v-.9c1.2-.9 2.3-2 3.2-3.3z\" data-reactid=\".zoekeinsdq.1.0.1.1.1:$post-53022403.0.4.1.1.1.0.0.0.0.0\"></path></svg></span><span class=\"gs-o-bullet__text gs-c-share-tools__button-text\" data-reactid=\".zoekeinsdq.1.0.1.1.1:$post-53022403.0.4.1.1.1.0.0.1\">Twitter</span></span></button></li><li data-reactid=\".zoekeinsdq.1.0.1.1.1:$post-53022403.0.4.1.1.2\"><div class=\"lx-share-tools__panel gs-c-share-tools\" data-direction=\"alternate-transformation\" data-reactid=\".zoekeinsdq.1.0.1.1.1:$post-53022403.0.4.1.1.2.0\"><button aria-controls=\"share-popup-53022403\" aria-expanded=\"false\" class=\"lx-share-tools__cta gel-long-primer lx-share-tools__cta-share-button\" data-reactid=\".zoekeinsdq.1.0.1.1.1:$post-53022403.0.4.1.1.2.0.0\"><span class=\"lx-share-tools__cta-icon qa-share-tools__cta-icon gel-icon\" data-reactid=\".zoekeinsdq.1.0.1.1.1:$post-53022403.0.4.1.1.2.0.0.0\"><svg data-reactid=\".zoekeinsdq.1.0.1.1.1:$post-53022403.0.4.1.1.2.0.0.0.0\" viewbox=\"0 0 32 32\"><path d=\"M6.8 22.2c1.6 0 3-.7 4-1.8l9 4.8c-.1.4-.2.8-.2 1.3 0 3 2.5 5.5 5.5 5.5s5.5-2.4 5.5-5.5-2.5-5.5-5.5-5.5c-1.6 0-3 .7-4 1.8l-9.5-5.2-.1-2.8 9.7-5.5c1 1 2.3 1.5 3.8 1.5 3 0 5.5-2.5 5.5-5.5S28.2 0 25.2 0s-5.5 2.4-5.5 5.5c0 .6.1 1.1.2 1.6l-9.3 5.7c-1-.9-2.3-1.5-3.8-1.5-3 0-5.5 2.4-5.5 5.5.1 2.9 2.5 5.4 5.5 5.4z \" data-reactid=\".zoekeinsdq.1.0.1.1.1:$post-53022403.0.4.1.1.2.0.0.0.0.0\"></path></svg></span><span aria-hidden=\"true\" class=\"lx-share-tools__cta-text qa-share-tools__cta-text\" data-reactid=\".zoekeinsdq.1.0.1.1.1:$post-53022403.0.4.1.1.2.0.0.1\">Partager</span><span class=\"gs-u-vh qa-accessible-share\" data-reactid=\".zoekeinsdq.1.0.1.1.1:$post-53022403.0.4.1.1.2.0.0.2\">Voir plus d'options de partage</span></button><div aria-hidden=\"true\" class=\"gs-c-share-tools__panel gs-o-info-panel\" data-arrow-position=\"bottom\" data-reactid=\".zoekeinsdq.1.0.1.1.1:$post-53022403.0.4.1.1.2.0.1\" id=\"share-popup-53022403\"><div aria-hidden=\"true\" class=\"gs-o-info-panel__header\" data-reactid=\".zoekeinsdq.1.0.1.1.1:$post-53022403.0.4.1.1.2.0.1.0\"><span class=\"gs-o-info-panel__title gel-great-primer-bold\" data-reactid=\".zoekeinsdq.1.0.1.1.1:$post-53022403.0.4.1.1.2.0.1.0.0\">Share this post</span><button aria-hidden=\"true\" class=\"gs-o-info-panel__close-button\" data-reactid=\".zoekeinsdq.1.0.1.1.1:$post-53022403.0.4.1.1.2.0.1.0.1\"><span class=\"gel-icon gel-icon-no--white gs-o-info-panel__close-button-icon\" data-reactid=\".zoekeinsdq.1.0.1.1.1:$post-53022403.0.4.1.1.2.0.1.0.1.0\"><svg data-reactid=\".zoekeinsdq.1.0.1.1.1:$post-53022403.0.4.1.1.2.0.1.0.1.0.0\" viewbox=\"0 0 32 32\"><path d=\"M32 3.5L28.5 0 16 12.5 3.5 0 0 3.5 12.5 16 0 28.5 3.5 32 16 19.5 28.5 32l3.5-3.5L19.5 16\" data-reactid=\".zoekeinsdq.1.0.1.1.1:$post-53022403.0.4.1.1.2.0.1.0.1.0.0.0\"></path></svg></span></button></div><div aria-hidden=\"true\" class=\"gs-o-info-panel__body gs-o-info-panel__body--flush gel-pica gs-c-share-tools__panel-body\" data-reactid=\".zoekeinsdq.1.0.1.1.1:$post-53022403.0.4.1.1.2.0.1.1\"><ul aria-label=\"Share Options\" class=\"gs-c-share-tools__items\" data-reactid=\".zoekeinsdq.1.0.1.1.1:$post-53022403.0.4.1.1.2.0.1.1.0\"><li class=\"gs-c-share-tools__item\" data-reactid=\".zoekeinsdq.1.0.1.1.1:$post-53022403.0.4.1.1.2.0.1.1.0.$0\"><div class=\"gs-c-share-tools__button share-tools__button--no-hover-effect\" data-reactid=\".zoekeinsdq.1.0.1.1.1:$post-53022403.0.4.1.1.2.0.1.1.0.$0.0\"><div data-reactid=\".zoekeinsdq.1.0.1.1.1:$post-53022403.0.4.1.1.2.0.1.1.0.$0.0.0\"><span aria-live=\"assertive\" class=\"gel-great-primer gs-u-mt+ gs-u-mb qa-share-copy-text sp-c-ts-share__copy-button\" data-reactid=\".zoekeinsdq.1.0.1.1.1:$post-53022403.0.4.1.1.2.0.1.1.0.$0.0.0.0\">Copy this link</span><input aria-hidden=\"true\" class=\"lx-share-tools__copylink-box gel-pica qa-share-copy-link sp-c-ts-share__copy-text-dark-theme\" data-reactid=\".zoekeinsdq.1.0.1.1.1:$post-53022403.0.4.1.1.2.0.1.1.0.$0.0.0.1\" readonly=\"\" type=\"text\" value=\"?ns_mchannel=social&amp;ns_source=twitter&amp;ns_campaign=bbc_live&amp;ns_linkname=53022403%26L%27impact%20du%20coronavirus%20sur%20le%20football%20africain%262020-06-12T09%3A47%3A43.059Z&amp;ns_fee=0&amp;pinned_post_locator=urn:asset:be577e1a-8437-fc49-bb7d-28da261c496b&amp;pinned_post_asset_id=53022403&amp;pinned_post_type=share\"/><button aria-label=\"Copy share URL\" class=\"gs-u-vh qa-share-copy-text-hidden-button\" data-reactid=\".zoekeinsdq.1.0.1.1.1:$post-53022403.0.4.1.1.2.0.1.1.0.$0.0.0.2\"></button></div></div></li></ul><span class=\"gs-c-share-tools__item gs-c-share-tools__item--terms\" data-reactid=\".zoekeinsdq.1.0.1.1.1:$post-53022403.0.4.1.1.2.0.1.1.1\"><a aria-label=\"En savoir plus sur le partage externe de contenu BBC\" class=\"gs-c-share-tools__button gs-c-share-tools__button--link\" data-reactid=\".zoekeinsdq.1.0.1.1.1:$post-53022403.0.4.1.1.2.0.1.1.1.0\" href=\"http://www.bbc.co.uk/faqs/questions/bbc_online/sharing\">En savoir plus: cliquez sur ces liens</a></span></div><button aria-label=\"Fermer\" class=\"gs-u-vh gs-o-info-panel__close-button-hidden-label\" data-reactid=\".zoekeinsdq.1.0.1.1.1:$post-53022403.0.4.1.1.2.0.1.2\"></button></div></div></li></ul></div></footer></article></li><li class=\"lx-stream__post-container placeholder-animation-finished\" data-reactid=\".zoekeinsdq.1.0.1.1.1:$post-53012747\"><article aria-labelledby=\"title_53012747\" class=\"qa-post gs-u-pb-alt+ lx-stream-post gs-u-pt-alt+ gs-u-align-left\" data-reactid=\".zoekeinsdq.1.0.1.1.1:$post-53012747.0\" id=\"post_53012747\"><div class=\"gs-u-mb-\" data-reactid=\".zoekeinsdq.1.0.1.1.1:$post-53012747.0.0\"><time class=\"lx-stream-post__meta-time gs-u-align-middle gs-u-display-inline-block gs-u-mr0@m gs-u-mr gel-long-primer\" data-reactid=\".zoekeinsdq.1.0.1.1.1:$post-53012747.0.0.0\"><span class=\"gs-u-vh qa-visually-hidden-meta\" data-reactid=\".zoekeinsdq.1.0.1.1.1:$post-53012747.0.0.0.0\">Posté à 14:03 11 juin 2020</span><span aria-hidden=\"true\" class=\"qa-post-auto-meta\" data-reactid=\".zoekeinsdq.1.0.1.1.1:$post-53012747.0.0.0.1\">14:03 11 juin 2020</span></time></div><header class=\"lx-stream-post__header gs-o-media gs-u-mb-alt\" data-reactid=\".zoekeinsdq.1.0.1.1.1:$post-53012747.0.1\"><noscript data-reactid=\".zoekeinsdq.1.0.1.1.1:$post-53012747.0.1.0\"></noscript><div class=\"gs-o-media__body\" data-reactid=\".zoekeinsdq.1.0.1.1.1:$post-53012747.0.1.1\"><h3 class=\"lx-stream-post__header-title gel-great-primer-bold qa-post-title gs-u-mt0 gs-u-mb-\" data-reactid=\".zoekeinsdq.1.0.1.1.1:$post-53012747.0.1.1.0\"><noscript data-reactid=\".zoekeinsdq.1.0.1.1.1:$post-53012747.0.1.1.0.0\"></noscript><a class=\"qa-heading-link lx-stream-post__header-link\" data-reactid=\".zoekeinsdq.1.0.1.1.1:$post-53012747.0.1.1.0.1\" href=\"/afrique/sports-53012747\"><span class=\"lx-stream-post__header-text gs-u-align-middle\" data-reactid=\".zoekeinsdq.1.0.1.1.1:$post-53012747.0.1.1.0.1.0\" id=\"title_53012747\">Tokyo 2020 : les Jeux olympiques seront \"simplifiés\" en 2021</span></a></h3></div></header><noscript data-reactid=\".zoekeinsdq.1.0.1.1.1:$post-53012747.0.2\"></noscript><div class=\"gs-u-mb+ gel-body-copy qa-post-body\" data-reactid=\".zoekeinsdq.1.0.1.1.1:$post-53012747.0.3\"><div class=\"lx-stream-related-story\" data-reactid=\".zoekeinsdq.1.0.1.1.1:$post-53012747.0.3.0\"><div class=\"gel-3/8@l\" data-reactid=\".zoekeinsdq.1.0.1.1.1:$post-53012747.0.3.0.0\"><a class=\"qa-story-image-link\" data-reactid=\".zoekeinsdq.1.0.1.1.1:$post-53012747.0.3.0.0.0\" href=\"/afrique/sports-53012747\"><div class=\"lx-stream-related-story--index-image-wrapper qa-story-image-wrapper\" data-reactid=\".zoekeinsdq.1.0.1.1.1:$post-53012747.0.3.0.0.0.0\"><img alt=\"Tokyo\" class=\"qa-srcset-image lx-stream-related-story--index-image qa-story-image\" data-reactid=\".zoekeinsdq.1.0.1.1.1:$post-53012747.0.3.0.0.0.0.0\" sizes=\"(min-width: 900px) 50vw, (min-width: 600px) 70vw, 100vw\" src=\"https://ichef.bbci.co.uk/live-experience/cps/320/cpsprodpb/DA5F/production/_112830955_tokyo_getty_01.jpg\" srcset=\"https://ichef.bbci.co.uk/live-experience/cps/240/cpsprodpb/DA5F/production/_112830955_tokyo_getty_01.jpg 240w, https://ichef.bbci.co.uk/live-experience/cps/320/cpsprodpb/DA5F/production/_112830955_tokyo_getty_01.jpg 320w, https://ichef.bbci.co.uk/live-experience/cps/480/cpsprodpb/DA5F/production/_112830955_tokyo_getty_01.jpg 480w, https://ichef.bbci.co.uk/live-experience/cps/624/cpsprodpb/DA5F/production/_112830955_tokyo_getty_01.jpg 624w, https://ichef.bbci.co.uk/live-experience/cps/800/cpsprodpb/DA5F/production/_112830955_tokyo_getty_01.jpg 800w\"/></div></a></div><div class=\"gel-5/8@l\" data-reactid=\".zoekeinsdq.1.0.1.1.1:$post-53012747.0.3.0.1\"><p class=\"lx-stream-related-story--summary qa-story-summary\" data-reactid=\".zoekeinsdq.1.0.1.1.1:$post-53012747.0.3.0.1.1\">Tokyo 2020 : les Jeux olympiques seront \"simplifiés\", selon le communauté organisateur.</p><a class=\"qa-story-cta-link\" data-reactid=\".zoekeinsdq.1.0.1.1.1:$post-53012747.0.3.0.1.2\" href=\"/afrique/sports-53012747\"><span class=\"gs-o-button lx-stream-related-story--cta-button gel-long-primer-bold qa-story-text-cta\" data-reactid=\".zoekeinsdq.1.0.1.1.1:$post-53012747.0.3.0.1.2.0\"><span class=\"lx-stream-related-story--cta-text\" data-reactid=\".zoekeinsdq.1.0.1.1.1:$post-53012747.0.3.0.1.2.0.0\">Lire plus</span><div class=\"gel-icon gel-icon--next\" data-reactid=\".zoekeinsdq.1.0.1.1.1:$post-53012747.0.3.0.1.2.0.1\"><svg data-reactid=\".zoekeinsdq.1.0.1.1.1:$post-53012747.0.3.0.1.2.0.1.0\" viewbox=\"0 0 32 32\"><title data-reactid=\".zoekeinsdq.1.0.1.1.1:$post-53012747.0.3.0.1.2.0.1.0.0\">next</title><path d=\"M29 16L3 0v7.2L17.6 16 3 24.8V32l26-16z\" data-reactid=\".zoekeinsdq.1.0.1.1.1:$post-53012747.0.3.0.1.2.0.1.0.1\"></path></svg></div></span></a></div></div></div><footer class=\"lx-stream-post__footer\" data-reactid=\".zoekeinsdq.1.0.1.1.1:$post-53012747.0.4\"><div class=\"lx-stream-post__footer-share\" data-reactid=\".zoekeinsdq.1.0.1.1.1:$post-53012747.0.4.1\"><span class=\"gs-u-vh qa-share-tools-heading\" data-reactid=\".zoekeinsdq.1.0.1.1.1:$post-53012747.0.4.1.0\" id=\"share-tools-title-53012747\">Article share tools</span><ul aria-labelledby=\"share-tools-title-53012747\" class=\"lx-share-tools__items lx-share-tools__items--align-left qa-share-tools\" data-reactid=\".zoekeinsdq.1.0.1.1.1:$post-53012747.0.4.1.1\"><li data-reactid=\".zoekeinsdq.1.0.1.1.1:$post-53012747.0.4.1.1.0\"><button aria-label=\"Share this post on Facebook\" class=\"qa-facebook-share lx-share-tools__cta gs-c-share-tools__button qa-share-button-facebook gs-u-p0\" data-reactid=\".zoekeinsdq.1.0.1.1.1:$post-53012747.0.4.1.1.0.0\"><span class=\"gs-o-bullet\" data-reactid=\".zoekeinsdq.1.0.1.1.1:$post-53012747.0.4.1.1.0.0.0\"><span class=\"qa-facebook-share lx-share-tools__cta gs-c-share-tools__button-icon gs-o-bullet__icon gel-icon gs-c-share-tools__button-icon--facebook gs-c-share-tools__button-icon--small\" data-reactid=\".zoekeinsdq.1.0.1.1.1:$post-53012747.0.4.1.1.0.0.0.0\"><svg data-reactid=\".zoekeinsdq.1.0.1.1.1:$post-53012747.0.4.1.1.0.0.0.0.0\" viewbox=\"0 0 266.89 266.89\"><path d=\"M252.16,0H14.73A14.73,14.73,0,0,0,0,14.73V252.16a14.73,14.73,0,0,0,14.73,14.73H142.56V163.54H107.78V123.26h34.78V93.55c0-34.47,21.05-53.24,51.81-53.24a285.37,285.37,0,0,1,31.08,1.59v36H204.12c-16.72,0-20,7.95-20,19.61v25.72H224l-5.19,40.28H184.15V266.89h68a14.73,14.73,0,0,0,14.73-14.73V14.73A14.73,14.73,0,0,0,252.16,0Z\" data-reactid=\".zoekeinsdq.1.0.1.1.1:$post-53012747.0.4.1.1.0.0.0.0.0.0\"></path></svg></span><span class=\"gs-o-bullet__text gs-c-share-tools__button-text\" data-reactid=\".zoekeinsdq.1.0.1.1.1:$post-53012747.0.4.1.1.0.0.0.1\">Facebook</span></span></button></li><li data-reactid=\".zoekeinsdq.1.0.1.1.1:$post-53012747.0.4.1.1.1\"><button aria-label=\"Share this post on Twitter\" class=\"qa-twitter-share lx-share-tools__cta gs-c-share-tools__button qa-share-button-twitter gs-u-p0\" data-reactid=\".zoekeinsdq.1.0.1.1.1:$post-53012747.0.4.1.1.1.0\"><span class=\"gs-o-bullet\" data-reactid=\".zoekeinsdq.1.0.1.1.1:$post-53012747.0.4.1.1.1.0.0\"><span class=\"qa-twitter-share lx-share-tools__cta gs-c-share-tools__button-icon gs-o-bullet__icon gel-icon gs-c-share-tools__button-icon--twitter gs-c-share-tools__button-icon--small\" data-reactid=\".zoekeinsdq.1.0.1.1.1:$post-53012747.0.4.1.1.1.0.0.0\"><svg data-reactid=\".zoekeinsdq.1.0.1.1.1:$post-53012747.0.4.1.1.1.0.0.0.0\" viewbox=\"0 0 32 32\"><path d=\"M32 6.1c-1.2.5-2.4.9-3.8 1 1.4-.8 2.4-2.1 2.9-3.6-1.3.8-2.7 1.3-4.2 1.6C25.7 3.8 24 3 22.2 3c-3.6 0-6.6 2.9-6.6 6.6 0 .5.1 1 .2 1.5-5.5-.3-10.3-2.9-13.6-6.9-.6 1-.9 2.1-.9 3.3 0 2.3 1.2 4.3 2.9 5.5-1.1 0-2.1-.3-3-.8v.1c0 3.2 2.3 5.8 5.3 6.4-.6.1-1.1.2-1.7.2-.4 0-.8 0-1.2-.1.8 2.6 3.3 4.5 6.1 4.6-2.2 1.8-5.1 2.8-8.2 2.8-.5 0-1.1 0-1.6-.1 3 1.8 6.5 2.9 10.2 2.9 12.1 0 18.7-10 18.7-18.7v-.9c1.2-.9 2.3-2 3.2-3.3z\" data-reactid=\".zoekeinsdq.1.0.1.1.1:$post-53012747.0.4.1.1.1.0.0.0.0.0\"></path></svg></span><span class=\"gs-o-bullet__text gs-c-share-tools__button-text\" data-reactid=\".zoekeinsdq.1.0.1.1.1:$post-53012747.0.4.1.1.1.0.0.1\">Twitter</span></span></button></li><li data-reactid=\".zoekeinsdq.1.0.1.1.1:$post-53012747.0.4.1.1.2\"><div class=\"lx-share-tools__panel gs-c-share-tools\" data-direction=\"alternate-transformation\" data-reactid=\".zoekeinsdq.1.0.1.1.1:$post-53012747.0.4.1.1.2.0\"><button aria-controls=\"share-popup-53012747\" aria-expanded=\"false\" class=\"lx-share-tools__cta gel-long-primer lx-share-tools__cta-share-button\" data-reactid=\".zoekeinsdq.1.0.1.1.1:$post-53012747.0.4.1.1.2.0.0\"><span class=\"lx-share-tools__cta-icon qa-share-tools__cta-icon gel-icon\" data-reactid=\".zoekeinsdq.1.0.1.1.1:$post-53012747.0.4.1.1.2.0.0.0\"><svg data-reactid=\".zoekeinsdq.1.0.1.1.1:$post-53012747.0.4.1.1.2.0.0.0.0\" viewbox=\"0 0 32 32\"><path d=\"M6.8 22.2c1.6 0 3-.7 4-1.8l9 4.8c-.1.4-.2.8-.2 1.3 0 3 2.5 5.5 5.5 5.5s5.5-2.4 5.5-5.5-2.5-5.5-5.5-5.5c-1.6 0-3 .7-4 1.8l-9.5-5.2-.1-2.8 9.7-5.5c1 1 2.3 1.5 3.8 1.5 3 0 5.5-2.5 5.5-5.5S28.2 0 25.2 0s-5.5 2.4-5.5 5.5c0 .6.1 1.1.2 1.6l-9.3 5.7c-1-.9-2.3-1.5-3.8-1.5-3 0-5.5 2.4-5.5 5.5.1 2.9 2.5 5.4 5.5 5.4z \" data-reactid=\".zoekeinsdq.1.0.1.1.1:$post-53012747.0.4.1.1.2.0.0.0.0.0\"></path></svg></span><span aria-hidden=\"true\" class=\"lx-share-tools__cta-text qa-share-tools__cta-text\" data-reactid=\".zoekeinsdq.1.0.1.1.1:$post-53012747.0.4.1.1.2.0.0.1\">Partager</span><span class=\"gs-u-vh qa-accessible-share\" data-reactid=\".zoekeinsdq.1.0.1.1.1:$post-53012747.0.4.1.1.2.0.0.2\">Voir plus d'options de partage</span></button><div aria-hidden=\"true\" class=\"gs-c-share-tools__panel gs-o-info-panel\" data-arrow-position=\"bottom\" data-reactid=\".zoekeinsdq.1.0.1.1.1:$post-53012747.0.4.1.1.2.0.1\" id=\"share-popup-53012747\"><div aria-hidden=\"true\" class=\"gs-o-info-panel__header\" data-reactid=\".zoekeinsdq.1.0.1.1.1:$post-53012747.0.4.1.1.2.0.1.0\"><span class=\"gs-o-info-panel__title gel-great-primer-bold\" data-reactid=\".zoekeinsdq.1.0.1.1.1:$post-53012747.0.4.1.1.2.0.1.0.0\">Share this post</span><button aria-hidden=\"true\" class=\"gs-o-info-panel__close-button\" data-reactid=\".zoekeinsdq.1.0.1.1.1:$post-53012747.0.4.1.1.2.0.1.0.1\"><span class=\"gel-icon gel-icon-no--white gs-o-info-panel__close-button-icon\" data-reactid=\".zoekeinsdq.1.0.1.1.1:$post-53012747.0.4.1.1.2.0.1.0.1.0\"><svg data-reactid=\".zoekeinsdq.1.0.1.1.1:$post-53012747.0.4.1.1.2.0.1.0.1.0.0\" viewbox=\"0 0 32 32\"><path d=\"M32 3.5L28.5 0 16 12.5 3.5 0 0 3.5 12.5 16 0 28.5 3.5 32 16 19.5 28.5 32l3.5-3.5L19.5 16\" data-reactid=\".zoekeinsdq.1.0.1.1.1:$post-53012747.0.4.1.1.2.0.1.0.1.0.0.0\"></path></svg></span></button></div><div aria-hidden=\"true\" class=\"gs-o-info-panel__body gs-o-info-panel__body--flush gel-pica gs-c-share-tools__panel-body\" data-reactid=\".zoekeinsdq.1.0.1.1.1:$post-53012747.0.4.1.1.2.0.1.1\"><ul aria-label=\"Share Options\" class=\"gs-c-share-tools__items\" data-reactid=\".zoekeinsdq.1.0.1.1.1:$post-53012747.0.4.1.1.2.0.1.1.0\"><li class=\"gs-c-share-tools__item\" data-reactid=\".zoekeinsdq.1.0.1.1.1:$post-53012747.0.4.1.1.2.0.1.1.0.$0\"><div class=\"gs-c-share-tools__button share-tools__button--no-hover-effect\" data-reactid=\".zoekeinsdq.1.0.1.1.1:$post-53012747.0.4.1.1.2.0.1.1.0.$0.0\"><div data-reactid=\".zoekeinsdq.1.0.1.1.1:$post-53012747.0.4.1.1.2.0.1.1.0.$0.0.0\"><span aria-live=\"assertive\" class=\"gel-great-primer gs-u-mt+ gs-u-mb qa-share-copy-text sp-c-ts-share__copy-button\" data-reactid=\".zoekeinsdq.1.0.1.1.1:$post-53012747.0.4.1.1.2.0.1.1.0.$0.0.0.0\">Copy this link</span><input aria-hidden=\"true\" class=\"lx-share-tools__copylink-box gel-pica qa-share-copy-link sp-c-ts-share__copy-text-dark-theme\" data-reactid=\".zoekeinsdq.1.0.1.1.1:$post-53012747.0.4.1.1.2.0.1.1.0.$0.0.0.1\" readonly=\"\" type=\"text\" value=\"?ns_mchannel=social&amp;ns_source=twitter&amp;ns_campaign=bbc_live&amp;ns_linkname=53012747%26Tokyo%202020%20%3A%20les%20Jeux%20olympiques%20seront%20%22simplifi%C3%A9s%22%20en%202021%262020-06-11T14%3A03%3A05.233Z&amp;ns_fee=0&amp;pinned_post_locator=urn:asset:9c2f6de0-00f0-8647-814f-72a0d679a74a&amp;pinned_post_asset_id=53012747&amp;pinned_post_type=share\"/><button aria-label=\"Copy share URL\" class=\"gs-u-vh qa-share-copy-text-hidden-button\" data-reactid=\".zoekeinsdq.1.0.1.1.1:$post-53012747.0.4.1.1.2.0.1.1.0.$0.0.0.2\"></button></div></div></li></ul><span class=\"gs-c-share-tools__item gs-c-share-tools__item--terms\" data-reactid=\".zoekeinsdq.1.0.1.1.1:$post-53012747.0.4.1.1.2.0.1.1.1\"><a aria-label=\"En savoir plus sur le partage externe de contenu BBC\" class=\"gs-c-share-tools__button gs-c-share-tools__button--link\" data-reactid=\".zoekeinsdq.1.0.1.1.1:$post-53012747.0.4.1.1.2.0.1.1.1.0\" href=\"http://www.bbc.co.uk/faqs/questions/bbc_online/sharing\">En savoir plus: cliquez sur ces liens</a></span></div><button aria-label=\"Fermer\" class=\"gs-u-vh gs-o-info-panel__close-button-hidden-label\" data-reactid=\".zoekeinsdq.1.0.1.1.1:$post-53012747.0.4.1.1.2.0.1.2\"></button></div></div></li></ul></div></footer></article></li><li class=\"lx-stream__post-container placeholder-animation-finished\" data-reactid=\".zoekeinsdq.1.0.1.1.1:$post-53003348\"><article aria-labelledby=\"title_53003348\" class=\"qa-post gs-u-pb-alt+ lx-stream-post gs-u-pt-alt+ gs-u-align-left\" data-reactid=\".zoekeinsdq.1.0.1.1.1:$post-53003348.0\" id=\"post_53003348\"><div class=\"gs-u-mb-\" data-reactid=\".zoekeinsdq.1.0.1.1.1:$post-53003348.0.0\"><time class=\"lx-stream-post__meta-time gs-u-align-middle gs-u-display-inline-block gs-u-mr0@m gs-u-mr gel-long-primer\" data-reactid=\".zoekeinsdq.1.0.1.1.1:$post-53003348.0.0.0\"><span class=\"gs-u-vh qa-visually-hidden-meta\" data-reactid=\".zoekeinsdq.1.0.1.1.1:$post-53003348.0.0.0.0\">Posté à 5:54 11 juin 2020</span><span aria-hidden=\"true\" class=\"qa-post-auto-meta\" data-reactid=\".zoekeinsdq.1.0.1.1.1:$post-53003348.0.0.0.1\">5:54 11 juin 2020</span></time></div><header class=\"lx-stream-post__header gs-o-media gs-u-mb-alt\" data-reactid=\".zoekeinsdq.1.0.1.1.1:$post-53003348.0.1\"><noscript data-reactid=\".zoekeinsdq.1.0.1.1.1:$post-53003348.0.1.0\"></noscript><div class=\"gs-o-media__body\" data-reactid=\".zoekeinsdq.1.0.1.1.1:$post-53003348.0.1.1\"><h3 class=\"lx-stream-post__header-title gel-great-primer-bold qa-post-title gs-u-mt0 gs-u-mb-\" data-reactid=\".zoekeinsdq.1.0.1.1.1:$post-53003348.0.1.1.0\"><noscript data-reactid=\".zoekeinsdq.1.0.1.1.1:$post-53003348.0.1.1.0.0\"></noscript><a class=\"qa-heading-link lx-stream-post__header-link\" data-reactid=\".zoekeinsdq.1.0.1.1.1:$post-53003348.0.1.1.0.1\" href=\"/afrique/sports-53003348\"><span class=\"lx-stream-post__header-text gs-u-align-middle\" data-reactid=\".zoekeinsdq.1.0.1.1.1:$post-53003348.0.1.1.0.1.0\" id=\"title_53003348\">De Lebron James à Kenvin Hart, les célébrités se mobilisent pour le vote des Américains noirs</span></a></h3></div></header><noscript data-reactid=\".zoekeinsdq.1.0.1.1.1:$post-53003348.0.2\"></noscript><div class=\"gs-u-mb+ gel-body-copy qa-post-body\" data-reactid=\".zoekeinsdq.1.0.1.1.1:$post-53003348.0.3\"><div class=\"lx-stream-related-story\" data-reactid=\".zoekeinsdq.1.0.1.1.1:$post-53003348.0.3.0\"><div class=\"gel-3/8@l\" data-reactid=\".zoekeinsdq.1.0.1.1.1:$post-53003348.0.3.0.0\"><a class=\"qa-story-image-link\" data-reactid=\".zoekeinsdq.1.0.1.1.1:$post-53003348.0.3.0.0.0\" href=\"/afrique/sports-53003348\"><div class=\"lx-stream-related-story--index-image-wrapper qa-story-image-wrapper\" data-reactid=\".zoekeinsdq.1.0.1.1.1:$post-53003348.0.3.0.0.0.0\"><img alt=\"LeBron James Family\" class=\"qa-srcset-image lx-stream-related-story--index-image qa-story-image\" data-reactid=\".zoekeinsdq.1.0.1.1.1:$post-53003348.0.3.0.0.0.0.0\" sizes=\"(min-width: 900px) 50vw, (min-width: 600px) 70vw, 100vw\" src=\"https://ichef.bbci.co.uk/live-experience/cps/320/cpsprodpb/3FE1/production/_112835361_lebron.jpg\" srcset=\"https://ichef.bbci.co.uk/live-experience/cps/240/cpsprodpb/3FE1/production/_112835361_lebron.jpg 240w, https://ichef.bbci.co.uk/live-experience/cps/320/cpsprodpb/3FE1/production/_112835361_lebron.jpg 320w, https://ichef.bbci.co.uk/live-experience/cps/480/cpsprodpb/3FE1/production/_112835361_lebron.jpg 480w, https://ichef.bbci.co.uk/live-experience/cps/624/cpsprodpb/3FE1/production/_112835361_lebron.jpg 624w, https://ichef.bbci.co.uk/live-experience/cps/800/cpsprodpb/3FE1/production/_112835361_lebron.jpg 800w\"/></div></a></div><div class=\"gel-5/8@l\" data-reactid=\".zoekeinsdq.1.0.1.1.1:$post-53003348.0.3.0.1\"><p class=\"lx-stream-related-story--summary qa-story-summary\" data-reactid=\".zoekeinsdq.1.0.1.1.1:$post-53003348.0.3.0.1.1\">Ils ont créé l'association baptisée \"More Than a Vote\" visant à encourager les Afro-Américains à s'inscrire sur les listes électorales.</p><a class=\"qa-story-cta-link\" data-reactid=\".zoekeinsdq.1.0.1.1.1:$post-53003348.0.3.0.1.2\" href=\"/afrique/sports-53003348\"><span class=\"gs-o-button lx-stream-related-story--cta-button gel-long-primer-bold qa-story-text-cta\" data-reactid=\".zoekeinsdq.1.0.1.1.1:$post-53003348.0.3.0.1.2.0\"><span class=\"lx-stream-related-story--cta-text\" data-reactid=\".zoekeinsdq.1.0.1.1.1:$post-53003348.0.3.0.1.2.0.0\">Lire plus</span><div class=\"gel-icon gel-icon--next\" data-reactid=\".zoekeinsdq.1.0.1.1.1:$post-53003348.0.3.0.1.2.0.1\"><svg data-reactid=\".zoekeinsdq.1.0.1.1.1:$post-53003348.0.3.0.1.2.0.1.0\" viewbox=\"0 0 32 32\"><title data-reactid=\".zoekeinsdq.1.0.1.1.1:$post-53003348.0.3.0.1.2.0.1.0.0\">next</title><path d=\"M29 16L3 0v7.2L17.6 16 3 24.8V32l26-16z\" data-reactid=\".zoekeinsdq.1.0.1.1.1:$post-53003348.0.3.0.1.2.0.1.0.1\"></path></svg></div></span></a></div></div></div><footer class=\"lx-stream-post__footer\" data-reactid=\".zoekeinsdq.1.0.1.1.1:$post-53003348.0.4\"><div class=\"lx-stream-post__footer-share\" data-reactid=\".zoekeinsdq.1.0.1.1.1:$post-53003348.0.4.1\"><span class=\"gs-u-vh qa-share-tools-heading\" data-reactid=\".zoekeinsdq.1.0.1.1.1:$post-53003348.0.4.1.0\" id=\"share-tools-title-53003348\">Article share tools</span><ul aria-labelledby=\"share-tools-title-53003348\" class=\"lx-share-tools__items lx-share-tools__items--align-left qa-share-tools\" data-reactid=\".zoekeinsdq.1.0.1.1.1:$post-53003348.0.4.1.1\"><li data-reactid=\".zoekeinsdq.1.0.1.1.1:$post-53003348.0.4.1.1.0\"><button aria-label=\"Share this post on Facebook\" class=\"qa-facebook-share lx-share-tools__cta gs-c-share-tools__button qa-share-button-facebook gs-u-p0\" data-reactid=\".zoekeinsdq.1.0.1.1.1:$post-53003348.0.4.1.1.0.0\"><span class=\"gs-o-bullet\" data-reactid=\".zoekeinsdq.1.0.1.1.1:$post-53003348.0.4.1.1.0.0.0\"><span class=\"qa-facebook-share lx-share-tools__cta gs-c-share-tools__button-icon gs-o-bullet__icon gel-icon gs-c-share-tools__button-icon--facebook gs-c-share-tools__button-icon--small\" data-reactid=\".zoekeinsdq.1.0.1.1.1:$post-53003348.0.4.1.1.0.0.0.0\"><svg data-reactid=\".zoekeinsdq.1.0.1.1.1:$post-53003348.0.4.1.1.0.0.0.0.0\" viewbox=\"0 0 266.89 266.89\"><path d=\"M252.16,0H14.73A14.73,14.73,0,0,0,0,14.73V252.16a14.73,14.73,0,0,0,14.73,14.73H142.56V163.54H107.78V123.26h34.78V93.55c0-34.47,21.05-53.24,51.81-53.24a285.37,285.37,0,0,1,31.08,1.59v36H204.12c-16.72,0-20,7.95-20,19.61v25.72H224l-5.19,40.28H184.15V266.89h68a14.73,14.73,0,0,0,14.73-14.73V14.73A14.73,14.73,0,0,0,252.16,0Z\" data-reactid=\".zoekeinsdq.1.0.1.1.1:$post-53003348.0.4.1.1.0.0.0.0.0.0\"></path></svg></span><span class=\"gs-o-bullet__text gs-c-share-tools__button-text\" data-reactid=\".zoekeinsdq.1.0.1.1.1:$post-53003348.0.4.1.1.0.0.0.1\">Facebook</span></span></button></li><li data-reactid=\".zoekeinsdq.1.0.1.1.1:$post-53003348.0.4.1.1.1\"><button aria-label=\"Share this post on Twitter\" class=\"qa-twitter-share lx-share-tools__cta gs-c-share-tools__button qa-share-button-twitter gs-u-p0\" data-reactid=\".zoekeinsdq.1.0.1.1.1:$post-53003348.0.4.1.1.1.0\"><span class=\"gs-o-bullet\" data-reactid=\".zoekeinsdq.1.0.1.1.1:$post-53003348.0.4.1.1.1.0.0\"><span class=\"qa-twitter-share lx-share-tools__cta gs-c-share-tools__button-icon gs-o-bullet__icon gel-icon gs-c-share-tools__button-icon--twitter gs-c-share-tools__button-icon--small\" data-reactid=\".zoekeinsdq.1.0.1.1.1:$post-53003348.0.4.1.1.1.0.0.0\"><svg data-reactid=\".zoekeinsdq.1.0.1.1.1:$post-53003348.0.4.1.1.1.0.0.0.0\" viewbox=\"0 0 32 32\"><path d=\"M32 6.1c-1.2.5-2.4.9-3.8 1 1.4-.8 2.4-2.1 2.9-3.6-1.3.8-2.7 1.3-4.2 1.6C25.7 3.8 24 3 22.2 3c-3.6 0-6.6 2.9-6.6 6.6 0 .5.1 1 .2 1.5-5.5-.3-10.3-2.9-13.6-6.9-.6 1-.9 2.1-.9 3.3 0 2.3 1.2 4.3 2.9 5.5-1.1 0-2.1-.3-3-.8v.1c0 3.2 2.3 5.8 5.3 6.4-.6.1-1.1.2-1.7.2-.4 0-.8 0-1.2-.1.8 2.6 3.3 4.5 6.1 4.6-2.2 1.8-5.1 2.8-8.2 2.8-.5 0-1.1 0-1.6-.1 3 1.8 6.5 2.9 10.2 2.9 12.1 0 18.7-10 18.7-18.7v-.9c1.2-.9 2.3-2 3.2-3.3z\" data-reactid=\".zoekeinsdq.1.0.1.1.1:$post-53003348.0.4.1.1.1.0.0.0.0.0\"></path></svg></span><span class=\"gs-o-bullet__text gs-c-share-tools__button-text\" data-reactid=\".zoekeinsdq.1.0.1.1.1:$post-53003348.0.4.1.1.1.0.0.1\">Twitter</span></span></button></li><li data-reactid=\".zoekeinsdq.1.0.1.1.1:$post-53003348.0.4.1.1.2\"><div class=\"lx-share-tools__panel gs-c-share-tools\" data-direction=\"alternate-transformation\" data-reactid=\".zoekeinsdq.1.0.1.1.1:$post-53003348.0.4.1.1.2.0\"><button aria-controls=\"share-popup-53003348\" aria-expanded=\"false\" class=\"lx-share-tools__cta gel-long-primer lx-share-tools__cta-share-button\" data-reactid=\".zoekeinsdq.1.0.1.1.1:$post-53003348.0.4.1.1.2.0.0\"><span class=\"lx-share-tools__cta-icon qa-share-tools__cta-icon gel-icon\" data-reactid=\".zoekeinsdq.1.0.1.1.1:$post-53003348.0.4.1.1.2.0.0.0\"><svg data-reactid=\".zoekeinsdq.1.0.1.1.1:$post-53003348.0.4.1.1.2.0.0.0.0\" viewbox=\"0 0 32 32\"><path d=\"M6.8 22.2c1.6 0 3-.7 4-1.8l9 4.8c-.1.4-.2.8-.2 1.3 0 3 2.5 5.5 5.5 5.5s5.5-2.4 5.5-5.5-2.5-5.5-5.5-5.5c-1.6 0-3 .7-4 1.8l-9.5-5.2-.1-2.8 9.7-5.5c1 1 2.3 1.5 3.8 1.5 3 0 5.5-2.5 5.5-5.5S28.2 0 25.2 0s-5.5 2.4-5.5 5.5c0 .6.1 1.1.2 1.6l-9.3 5.7c-1-.9-2.3-1.5-3.8-1.5-3 0-5.5 2.4-5.5 5.5.1 2.9 2.5 5.4 5.5 5.4z \" data-reactid=\".zoekeinsdq.1.0.1.1.1:$post-53003348.0.4.1.1.2.0.0.0.0.0\"></path></svg></span><span aria-hidden=\"true\" class=\"lx-share-tools__cta-text qa-share-tools__cta-text\" data-reactid=\".zoekeinsdq.1.0.1.1.1:$post-53003348.0.4.1.1.2.0.0.1\">Partager</span><span class=\"gs-u-vh qa-accessible-share\" data-reactid=\".zoekeinsdq.1.0.1.1.1:$post-53003348.0.4.1.1.2.0.0.2\">Voir plus d'options de partage</span></button><div aria-hidden=\"true\" class=\"gs-c-share-tools__panel gs-o-info-panel\" data-arrow-position=\"bottom\" data-reactid=\".zoekeinsdq.1.0.1.1.1:$post-53003348.0.4.1.1.2.0.1\" id=\"share-popup-53003348\"><div aria-hidden=\"true\" class=\"gs-o-info-panel__header\" data-reactid=\".zoekeinsdq.1.0.1.1.1:$post-53003348.0.4.1.1.2.0.1.0\"><span class=\"gs-o-info-panel__title gel-great-primer-bold\" data-reactid=\".zoekeinsdq.1.0.1.1.1:$post-53003348.0.4.1.1.2.0.1.0.0\">Share this post</span><button aria-hidden=\"true\" class=\"gs-o-info-panel__close-button\" data-reactid=\".zoekeinsdq.1.0.1.1.1:$post-53003348.0.4.1.1.2.0.1.0.1\"><span class=\"gel-icon gel-icon-no--white gs-o-info-panel__close-button-icon\" data-reactid=\".zoekeinsdq.1.0.1.1.1:$post-53003348.0.4.1.1.2.0.1.0.1.0\"><svg data-reactid=\".zoekeinsdq.1.0.1.1.1:$post-53003348.0.4.1.1.2.0.1.0.1.0.0\" viewbox=\"0 0 32 32\"><path d=\"M32 3.5L28.5 0 16 12.5 3.5 0 0 3.5 12.5 16 0 28.5 3.5 32 16 19.5 28.5 32l3.5-3.5L19.5 16\" data-reactid=\".zoekeinsdq.1.0.1.1.1:$post-53003348.0.4.1.1.2.0.1.0.1.0.0.0\"></path></svg></span></button></div><div aria-hidden=\"true\" class=\"gs-o-info-panel__body gs-o-info-panel__body--flush gel-pica gs-c-share-tools__panel-body\" data-reactid=\".zoekeinsdq.1.0.1.1.1:$post-53003348.0.4.1.1.2.0.1.1\"><ul aria-label=\"Share Options\" class=\"gs-c-share-tools__items\" data-reactid=\".zoekeinsdq.1.0.1.1.1:$post-53003348.0.4.1.1.2.0.1.1.0\"><li class=\"gs-c-share-tools__item\" data-reactid=\".zoekeinsdq.1.0.1.1.1:$post-53003348.0.4.1.1.2.0.1.1.0.$0\"><div class=\"gs-c-share-tools__button share-tools__button--no-hover-effect\" data-reactid=\".zoekeinsdq.1.0.1.1.1:$post-53003348.0.4.1.1.2.0.1.1.0.$0.0\"><div data-reactid=\".zoekeinsdq.1.0.1.1.1:$post-53003348.0.4.1.1.2.0.1.1.0.$0.0.0\"><span aria-live=\"assertive\" class=\"gel-great-primer gs-u-mt+ gs-u-mb qa-share-copy-text sp-c-ts-share__copy-button\" data-reactid=\".zoekeinsdq.1.0.1.1.1:$post-53003348.0.4.1.1.2.0.1.1.0.$0.0.0.0\">Copy this link</span><input aria-hidden=\"true\" class=\"lx-share-tools__copylink-box gel-pica qa-share-copy-link sp-c-ts-share__copy-text-dark-theme\" data-reactid=\".zoekeinsdq.1.0.1.1.1:$post-53003348.0.4.1.1.2.0.1.1.0.$0.0.0.1\" readonly=\"\" type=\"text\" value=\"?ns_mchannel=social&amp;ns_source=twitter&amp;ns_campaign=bbc_live&amp;ns_linkname=53003348%26De%20Lebron%20James%20%C3%A0%20Kenvin%20Hart%2C%20les%20c%C3%A9l%C3%A9brit%C3%A9s%20se%20mobilisent%20pour%20le%20vote%20des%20Am%C3%A9ricains%20noirs%262020-06-11T05%3A54%3A33.726Z&amp;ns_fee=0&amp;pinned_post_locator=urn:asset:40beb811-c2db-3148-b0a6-5ed6747fa1de&amp;pinned_post_asset_id=53003348&amp;pinned_post_type=share\"/><button aria-label=\"Copy share URL\" class=\"gs-u-vh qa-share-copy-text-hidden-button\" data-reactid=\".zoekeinsdq.1.0.1.1.1:$post-53003348.0.4.1.1.2.0.1.1.0.$0.0.0.2\"></button></div></div></li></ul><span class=\"gs-c-share-tools__item gs-c-share-tools__item--terms\" data-reactid=\".zoekeinsdq.1.0.1.1.1:$post-53003348.0.4.1.1.2.0.1.1.1\"><a aria-label=\"En savoir plus sur le partage externe de contenu BBC\" class=\"gs-c-share-tools__button gs-c-share-tools__button--link\" data-reactid=\".zoekeinsdq.1.0.1.1.1:$post-53003348.0.4.1.1.2.0.1.1.1.0\" href=\"http://www.bbc.co.uk/faqs/questions/bbc_online/sharing\">En savoir plus: cliquez sur ces liens</a></span></div><button aria-label=\"Fermer\" class=\"gs-u-vh gs-o-info-panel__close-button-hidden-label\" data-reactid=\".zoekeinsdq.1.0.1.1.1:$post-53003348.0.4.1.1.2.0.1.2\"></button></div></div></li></ul></div></footer></article></li><li class=\"lx-stream__post-container placeholder-animation-finished\" data-reactid=\".zoekeinsdq.1.0.1.1.1:$post-52995245\"><article aria-labelledby=\"title_52995245\" class=\"qa-post gs-u-pb-alt+ lx-stream-post gs-u-pt-alt+ gs-u-align-left\" data-reactid=\".zoekeinsdq.1.0.1.1.1:$post-52995245.0\" id=\"post_52995245\"><div class=\"gs-u-mb-\" data-reactid=\".zoekeinsdq.1.0.1.1.1:$post-52995245.0.0\"><time class=\"lx-stream-post__meta-time gs-u-align-middle gs-u-display-inline-block gs-u-mr0@m gs-u-mr gel-long-primer\" data-reactid=\".zoekeinsdq.1.0.1.1.1:$post-52995245.0.0.0\"><span class=\"gs-u-vh qa-visually-hidden-meta\" data-reactid=\".zoekeinsdq.1.0.1.1.1:$post-52995245.0.0.0.0\">Posté à 15:05 10 juin 2020</span><span aria-hidden=\"true\" class=\"qa-post-auto-meta\" data-reactid=\".zoekeinsdq.1.0.1.1.1:$post-52995245.0.0.0.1\">15:05 10 juin 2020</span></time></div><header class=\"lx-stream-post__header gs-o-media gs-u-mb-alt\" data-reactid=\".zoekeinsdq.1.0.1.1.1:$post-52995245.0.1\"><noscript data-reactid=\".zoekeinsdq.1.0.1.1.1:$post-52995245.0.1.0\"></noscript><div class=\"gs-o-media__body\" data-reactid=\".zoekeinsdq.1.0.1.1.1:$post-52995245.0.1.1\"><h3 class=\"lx-stream-post__header-title gel-great-primer-bold qa-post-title gs-u-mt0 gs-u-mb-\" data-reactid=\".zoekeinsdq.1.0.1.1.1:$post-52995245.0.1.1.0\"><noscript data-reactid=\".zoekeinsdq.1.0.1.1.1:$post-52995245.0.1.1.0.0\"></noscript><a class=\"qa-heading-link lx-stream-post__header-link\" data-reactid=\".zoekeinsdq.1.0.1.1.1:$post-52995245.0.1.1.0.1\" href=\"/afrique/sports-52995245\"><span class=\"lx-stream-post__header-text gs-u-align-middle\" data-reactid=\".zoekeinsdq.1.0.1.1.1:$post-52995245.0.1.1.0.1.0\" id=\"title_52995245\">La Liga revient : le football espagnol reprend des couleurs</span></a></h3></div></header><div class=\"lx-stream-post__contributor gs-o-media qa-contributor gs-u-mb-alt lx-stream-post__contributor--internal\" data-reactid=\".zoekeinsdq.1.0.1.1.1:$post-52995245.0.2\"><noscript data-reactid=\".zoekeinsdq.1.0.1.1.1:$post-52995245.0.2.0\"></noscript><div class=\"lx-stream-post__contributor-body gs-o-media__body\" data-reactid=\".zoekeinsdq.1.0.1.1.1:$post-52995245.0.2.1\"><p class=\"qa-contributor-name lx-stream-post__contributor-name gel-long-primer gs-u-m0\" data-reactid=\".zoekeinsdq.1.0.1.1.1:$post-52995245.0.2.1.0\">Par Andy West</p><p class=\"qa-contributor-role lx-stream-post__contributor-description gel-brevier gs-u-m0\" data-reactid=\".zoekeinsdq.1.0.1.1.1:$post-52995245.0.2.1.1\">Spécialiste football espagnol</p></div></div><div class=\"gs-u-mb+ gel-body-copy qa-post-body\" data-reactid=\".zoekeinsdq.1.0.1.1.1:$post-52995245.0.3\"><div class=\"lx-stream-related-story\" data-reactid=\".zoekeinsdq.1.0.1.1.1:$post-52995245.0.3.0\"><div class=\"gel-3/8@l\" data-reactid=\".zoekeinsdq.1.0.1.1.1:$post-52995245.0.3.0.0\"><a class=\"qa-story-image-link\" data-reactid=\".zoekeinsdq.1.0.1.1.1:$post-52995245.0.3.0.0.0\" href=\"/afrique/sports-52995245\"><div class=\"lx-stream-related-story--index-image-wrapper qa-story-image-wrapper\" data-reactid=\".zoekeinsdq.1.0.1.1.1:$post-52995245.0.3.0.0.0.0\"><img alt=\"Barcelona and Real Madrid players celebrate\" class=\"qa-srcset-image lx-stream-related-story--index-image qa-story-image\" data-reactid=\".zoekeinsdq.1.0.1.1.1:$post-52995245.0.3.0.0.0.0.0\" sizes=\"(min-width: 900px) 50vw, (min-width: 600px) 70vw, 100vw\" src=\"https://ichef.bbci.co.uk/live-experience/cps/320/cpsprodpb/F908/production/_112825736__91281894_bullard.jpg\" srcset=\"https://ichef.bbci.co.uk/live-experience/cps/240/cpsprodpb/F908/production/_112825736__91281894_bullard.jpg 240w, https://ichef.bbci.co.uk/live-experience/cps/320/cpsprodpb/F908/production/_112825736__91281894_bullard.jpg 320w, https://ichef.bbci.co.uk/live-experience/cps/480/cpsprodpb/F908/production/_112825736__91281894_bullard.jpg 480w, https://ichef.bbci.co.uk/live-experience/cps/624/cpsprodpb/F908/production/_112825736__91281894_bullard.jpg 624w, https://ichef.bbci.co.uk/live-experience/cps/800/cpsprodpb/F908/production/_112825736__91281894_bullard.jpg 800w\"/></div></a></div><div class=\"gel-5/8@l\" data-reactid=\".zoekeinsdq.1.0.1.1.1:$post-52995245.0.3.0.1\"><p class=\"lx-stream-related-story--summary qa-story-summary\" data-reactid=\".zoekeinsdq.1.0.1.1.1:$post-52995245.0.3.0.1.1\">Voici ce à quoi il faut s'attendre pour le reste de la saison espagnole.</p><a class=\"qa-story-cta-link\" data-reactid=\".zoekeinsdq.1.0.1.1.1:$post-52995245.0.3.0.1.2\" href=\"/afrique/sports-52995245\"><span class=\"gs-o-button lx-stream-related-story--cta-button gel-long-primer-bold qa-story-text-cta\" data-reactid=\".zoekeinsdq.1.0.1.1.1:$post-52995245.0.3.0.1.2.0\"><span class=\"lx-stream-related-story--cta-text\" data-reactid=\".zoekeinsdq.1.0.1.1.1:$post-52995245.0.3.0.1.2.0.0\">Lire plus</span><div class=\"gel-icon gel-icon--next\" data-reactid=\".zoekeinsdq.1.0.1.1.1:$post-52995245.0.3.0.1.2.0.1\"><svg data-reactid=\".zoekeinsdq.1.0.1.1.1:$post-52995245.0.3.0.1.2.0.1.0\" viewbox=\"0 0 32 32\"><title data-reactid=\".zoekeinsdq.1.0.1.1.1:$post-52995245.0.3.0.1.2.0.1.0.0\">next</title><path d=\"M29 16L3 0v7.2L17.6 16 3 24.8V32l26-16z\" data-reactid=\".zoekeinsdq.1.0.1.1.1:$post-52995245.0.3.0.1.2.0.1.0.1\"></path></svg></div></span></a></div></div></div><footer class=\"lx-stream-post__footer\" data-reactid=\".zoekeinsdq.1.0.1.1.1:$post-52995245.0.4\"><div class=\"lx-stream-post__footer-share\" data-reactid=\".zoekeinsdq.1.0.1.1.1:$post-52995245.0.4.1\"><span class=\"gs-u-vh qa-share-tools-heading\" data-reactid=\".zoekeinsdq.1.0.1.1.1:$post-52995245.0.4.1.0\" id=\"share-tools-title-52995245\">Article share tools</span><ul aria-labelledby=\"share-tools-title-52995245\" class=\"lx-share-tools__items lx-share-tools__items--align-left qa-share-tools\" data-reactid=\".zoekeinsdq.1.0.1.1.1:$post-52995245.0.4.1.1\"><li data-reactid=\".zoekeinsdq.1.0.1.1.1:$post-52995245.0.4.1.1.0\"><button aria-label=\"Share this post on Facebook\" class=\"qa-facebook-share lx-share-tools__cta gs-c-share-tools__button qa-share-button-facebook gs-u-p0\" data-reactid=\".zoekeinsdq.1.0.1.1.1:$post-52995245.0.4.1.1.0.0\"><span class=\"gs-o-bullet\" data-reactid=\".zoekeinsdq.1.0.1.1.1:$post-52995245.0.4.1.1.0.0.0\"><span class=\"qa-facebook-share lx-share-tools__cta gs-c-share-tools__button-icon gs-o-bullet__icon gel-icon gs-c-share-tools__button-icon--facebook gs-c-share-tools__button-icon--small\" data-reactid=\".zoekeinsdq.1.0.1.1.1:$post-52995245.0.4.1.1.0.0.0.0\"><svg data-reactid=\".zoekeinsdq.1.0.1.1.1:$post-52995245.0.4.1.1.0.0.0.0.0\" viewbox=\"0 0 266.89 266.89\"><path d=\"M252.16,0H14.73A14.73,14.73,0,0,0,0,14.73V252.16a14.73,14.73,0,0,0,14.73,14.73H142.56V163.54H107.78V123.26h34.78V93.55c0-34.47,21.05-53.24,51.81-53.24a285.37,285.37,0,0,1,31.08,1.59v36H204.12c-16.72,0-20,7.95-20,19.61v25.72H224l-5.19,40.28H184.15V266.89h68a14.73,14.73,0,0,0,14.73-14.73V14.73A14.73,14.73,0,0,0,252.16,0Z\" data-reactid=\".zoekeinsdq.1.0.1.1.1:$post-52995245.0.4.1.1.0.0.0.0.0.0\"></path></svg></span><span class=\"gs-o-bullet__text gs-c-share-tools__button-text\" data-reactid=\".zoekeinsdq.1.0.1.1.1:$post-52995245.0.4.1.1.0.0.0.1\">Facebook</span></span></button></li><li data-reactid=\".zoekeinsdq.1.0.1.1.1:$post-52995245.0.4.1.1.1\"><button aria-label=\"Share this post on Twitter\" class=\"qa-twitter-share lx-share-tools__cta gs-c-share-tools__button qa-share-button-twitter gs-u-p0\" data-reactid=\".zoekeinsdq.1.0.1.1.1:$post-52995245.0.4.1.1.1.0\"><span class=\"gs-o-bullet\" data-reactid=\".zoekeinsdq.1.0.1.1.1:$post-52995245.0.4.1.1.1.0.0\"><span class=\"qa-twitter-share lx-share-tools__cta gs-c-share-tools__button-icon gs-o-bullet__icon gel-icon gs-c-share-tools__button-icon--twitter gs-c-share-tools__button-icon--small\" data-reactid=\".zoekeinsdq.1.0.1.1.1:$post-52995245.0.4.1.1.1.0.0.0\"><svg data-reactid=\".zoekeinsdq.1.0.1.1.1:$post-52995245.0.4.1.1.1.0.0.0.0\" viewbox=\"0 0 32 32\"><path d=\"M32 6.1c-1.2.5-2.4.9-3.8 1 1.4-.8 2.4-2.1 2.9-3.6-1.3.8-2.7 1.3-4.2 1.6C25.7 3.8 24 3 22.2 3c-3.6 0-6.6 2.9-6.6 6.6 0 .5.1 1 .2 1.5-5.5-.3-10.3-2.9-13.6-6.9-.6 1-.9 2.1-.9 3.3 0 2.3 1.2 4.3 2.9 5.5-1.1 0-2.1-.3-3-.8v.1c0 3.2 2.3 5.8 5.3 6.4-.6.1-1.1.2-1.7.2-.4 0-.8 0-1.2-.1.8 2.6 3.3 4.5 6.1 4.6-2.2 1.8-5.1 2.8-8.2 2.8-.5 0-1.1 0-1.6-.1 3 1.8 6.5 2.9 10.2 2.9 12.1 0 18.7-10 18.7-18.7v-.9c1.2-.9 2.3-2 3.2-3.3z\" data-reactid=\".zoekeinsdq.1.0.1.1.1:$post-52995245.0.4.1.1.1.0.0.0.0.0\"></path></svg></span><span class=\"gs-o-bullet__text gs-c-share-tools__button-text\" data-reactid=\".zoekeinsdq.1.0.1.1.1:$post-52995245.0.4.1.1.1.0.0.1\">Twitter</span></span></button></li><li data-reactid=\".zoekeinsdq.1.0.1.1.1:$post-52995245.0.4.1.1.2\"><div class=\"lx-share-tools__panel gs-c-share-tools\" data-direction=\"alternate-transformation\" data-reactid=\".zoekeinsdq.1.0.1.1.1:$post-52995245.0.4.1.1.2.0\"><button aria-controls=\"share-popup-52995245\" aria-expanded=\"false\" class=\"lx-share-tools__cta gel-long-primer lx-share-tools__cta-share-button\" data-reactid=\".zoekeinsdq.1.0.1.1.1:$post-52995245.0.4.1.1.2.0.0\"><span class=\"lx-share-tools__cta-icon qa-share-tools__cta-icon gel-icon\" data-reactid=\".zoekeinsdq.1.0.1.1.1:$post-52995245.0.4.1.1.2.0.0.0\"><svg data-reactid=\".zoekeinsdq.1.0.1.1.1:$post-52995245.0.4.1.1.2.0.0.0.0\" viewbox=\"0 0 32 32\"><path d=\"M6.8 22.2c1.6 0 3-.7 4-1.8l9 4.8c-.1.4-.2.8-.2 1.3 0 3 2.5 5.5 5.5 5.5s5.5-2.4 5.5-5.5-2.5-5.5-5.5-5.5c-1.6 0-3 .7-4 1.8l-9.5-5.2-.1-2.8 9.7-5.5c1 1 2.3 1.5 3.8 1.5 3 0 5.5-2.5 5.5-5.5S28.2 0 25.2 0s-5.5 2.4-5.5 5.5c0 .6.1 1.1.2 1.6l-9.3 5.7c-1-.9-2.3-1.5-3.8-1.5-3 0-5.5 2.4-5.5 5.5.1 2.9 2.5 5.4 5.5 5.4z \" data-reactid=\".zoekeinsdq.1.0.1.1.1:$post-52995245.0.4.1.1.2.0.0.0.0.0\"></path></svg></span><span aria-hidden=\"true\" class=\"lx-share-tools__cta-text qa-share-tools__cta-text\" data-reactid=\".zoekeinsdq.1.0.1.1.1:$post-52995245.0.4.1.1.2.0.0.1\">Partager</span><span class=\"gs-u-vh qa-accessible-share\" data-reactid=\".zoekeinsdq.1.0.1.1.1:$post-52995245.0.4.1.1.2.0.0.2\">Voir plus d'options de partage</span></button><div aria-hidden=\"true\" class=\"gs-c-share-tools__panel gs-o-info-panel\" data-arrow-position=\"bottom\" data-reactid=\".zoekeinsdq.1.0.1.1.1:$post-52995245.0.4.1.1.2.0.1\" id=\"share-popup-52995245\"><div aria-hidden=\"true\" class=\"gs-o-info-panel__header\" data-reactid=\".zoekeinsdq.1.0.1.1.1:$post-52995245.0.4.1.1.2.0.1.0\"><span class=\"gs-o-info-panel__title gel-great-primer-bold\" data-reactid=\".zoekeinsdq.1.0.1.1.1:$post-52995245.0.4.1.1.2.0.1.0.0\">Share this post</span><button aria-hidden=\"true\" class=\"gs-o-info-panel__close-button\" data-reactid=\".zoekeinsdq.1.0.1.1.1:$post-52995245.0.4.1.1.2.0.1.0.1\"><span class=\"gel-icon gel-icon-no--white gs-o-info-panel__close-button-icon\" data-reactid=\".zoekeinsdq.1.0.1.1.1:$post-52995245.0.4.1.1.2.0.1.0.1.0\"><svg data-reactid=\".zoekeinsdq.1.0.1.1.1:$post-52995245.0.4.1.1.2.0.1.0.1.0.0\" viewbox=\"0 0 32 32\"><path d=\"M32 3.5L28.5 0 16 12.5 3.5 0 0 3.5 12.5 16 0 28.5 3.5 32 16 19.5 28.5 32l3.5-3.5L19.5 16\" data-reactid=\".zoekeinsdq.1.0.1.1.1:$post-52995245.0.4.1.1.2.0.1.0.1.0.0.0\"></path></svg></span></button></div><div aria-hidden=\"true\" class=\"gs-o-info-panel__body gs-o-info-panel__body--flush gel-pica gs-c-share-tools__panel-body\" data-reactid=\".zoekeinsdq.1.0.1.1.1:$post-52995245.0.4.1.1.2.0.1.1\"><ul aria-label=\"Share Options\" class=\"gs-c-share-tools__items\" data-reactid=\".zoekeinsdq.1.0.1.1.1:$post-52995245.0.4.1.1.2.0.1.1.0\"><li class=\"gs-c-share-tools__item\" data-reactid=\".zoekeinsdq.1.0.1.1.1:$post-52995245.0.4.1.1.2.0.1.1.0.$0\"><div class=\"gs-c-share-tools__button share-tools__button--no-hover-effect\" data-reactid=\".zoekeinsdq.1.0.1.1.1:$post-52995245.0.4.1.1.2.0.1.1.0.$0.0\"><div data-reactid=\".zoekeinsdq.1.0.1.1.1:$post-52995245.0.4.1.1.2.0.1.1.0.$0.0.0\"><span aria-live=\"assertive\" class=\"gel-great-primer gs-u-mt+ gs-u-mb qa-share-copy-text sp-c-ts-share__copy-button\" data-reactid=\".zoekeinsdq.1.0.1.1.1:$post-52995245.0.4.1.1.2.0.1.1.0.$0.0.0.0\">Copy this link</span><input aria-hidden=\"true\" class=\"lx-share-tools__copylink-box gel-pica qa-share-copy-link sp-c-ts-share__copy-text-dark-theme\" data-reactid=\".zoekeinsdq.1.0.1.1.1:$post-52995245.0.4.1.1.2.0.1.1.0.$0.0.0.1\" readonly=\"\" type=\"text\" value=\"?ns_mchannel=social&amp;ns_source=twitter&amp;ns_campaign=bbc_live&amp;ns_linkname=52995245%26La%20Liga%20revient%20%3A%20le%20football%20espagnol%20reprend%20des%20couleurs%262020-06-10T15%3A05%3A35.461Z&amp;ns_fee=0&amp;pinned_post_locator=urn:asset:b82b877f-4455-3945-aa3c-fe4eeafc5d8d&amp;pinned_post_asset_id=52995245&amp;pinned_post_type=share\"/><button aria-label=\"Copy share URL\" class=\"gs-u-vh qa-share-copy-text-hidden-button\" data-reactid=\".zoekeinsdq.1.0.1.1.1:$post-52995245.0.4.1.1.2.0.1.1.0.$0.0.0.2\"></button></div></div></li></ul><span class=\"gs-c-share-tools__item gs-c-share-tools__item--terms\" data-reactid=\".zoekeinsdq.1.0.1.1.1:$post-52995245.0.4.1.1.2.0.1.1.1\"><a aria-label=\"En savoir plus sur le partage externe de contenu BBC\" class=\"gs-c-share-tools__button gs-c-share-tools__button--link\" data-reactid=\".zoekeinsdq.1.0.1.1.1:$post-52995245.0.4.1.1.2.0.1.1.1.0\" href=\"http://www.bbc.co.uk/faqs/questions/bbc_online/sharing\">En savoir plus: cliquez sur ces liens</a></span></div><button aria-label=\"Fermer\" class=\"gs-u-vh gs-o-info-panel__close-button-hidden-label\" data-reactid=\".zoekeinsdq.1.0.1.1.1:$post-52995245.0.4.1.1.2.0.1.2\"></button></div></div></li></ul></div></footer></article></li></ol>"
      ]
     },
     "execution_count": 21,
     "metadata": {},
     "output_type": "execute_result"
    }
   ],
   "source": [
    "publications_container"
   ]
  },
  {
   "cell_type": "markdown",
   "metadata": {},
   "source": [
    "### Gather each `<li>` which represents a publication"
   ]
  },
  {
   "cell_type": "code",
   "execution_count": 22,
   "metadata": {},
   "outputs": [],
   "source": [
    "publications_list = publications_container.find_all(\"li\", {\"class\" : \"lx-stream__post-container placeholder-animation-finished\"} )"
   ]
  },
  {
   "cell_type": "markdown",
   "metadata": {},
   "source": [
    "Just an info : find_all method return a list of tags and each tag have to be handle like a BoutifulSoup object."
   ]
  },
  {
   "cell_type": "code",
   "execution_count": 23,
   "metadata": {},
   "outputs": [
    {
     "name": "stdout",
     "output_type": "stream",
     "text": [
      "How many publications do we have in our container of publications : 10\n"
     ]
    }
   ],
   "source": [
    "print(f\"How many publications do we have in our container of publications : {len(publications_list)}\")"
   ]
  },
  {
   "cell_type": "markdown",
   "metadata": {},
   "source": [
    "\n",
    "> We see that first and second publications are respectivement a `video reportage` and a `readable article (containing image and text)`. Then we'll use them to build our prototypes.\n",
    "\n",
    "<div align='center'>\n",
    "\n",
    "<img src=\"https://drive.google.com/uc?export=view&id=10TxXXWYc8okDPpcprVPcvZQQpaneu0fw\" alt=\"First and Second publications on BBC Africa Sport inspecting in Google Chrome\" >\n",
    "\n",
    "</div>\n",
    "Source : Emmanuel KOUPOH\n"
   ]
  },
  {
   "cell_type": "markdown",
   "metadata": {},
   "source": [
    "### Make a prototype each of two main types of publications"
   ]
  },
  {
   "cell_type": "markdown",
   "metadata": {},
   "source": [
    "**Note:** We have two similar informations: Date and Title"
   ]
  },
  {
   "cell_type": "markdown",
   "metadata": {},
   "source": [
    "#### Video reportage "
   ]
  },
  {
   "cell_type": "code",
   "execution_count": 24,
   "metadata": {},
   "outputs": [],
   "source": [
    "video = publications_list[0]"
   ]
  },
  {
   "cell_type": "markdown",
   "metadata": {},
   "source": [
    "##### Get Date"
   ]
  },
  {
   "cell_type": "code",
   "execution_count": null,
   "metadata": {},
   "outputs": [],
   "source": [
    "from dateutil.parser import parse"
   ]
  },
  {
   "cell_type": "code",
   "execution_count": 56,
   "metadata": {},
   "outputs": [
    {
     "data": {
      "text/plain": [
       "<span aria-hidden=\"true\" class=\"qa-post-auto-meta\" data-reactid=\".zoekeinsdq.1.0.1.1.1:$post-53279666.0.0.0.1\">18:59 3 juillet 2020</span>"
      ]
     },
     "execution_count": 56,
     "metadata": {},
     "output_type": "execute_result"
    }
   ],
   "source": [
    "datetime_cell = video.find(\"span\", {\"class\": \"qa-post-auto-meta\"})\n",
    "datetime_cell"
   ]
  },
  {
   "cell_type": "markdown",
   "metadata": {},
   "source": [
    "We get date as french string ( '18:59 3 juillet 2020' ), so we conveter it in english and parse it to datetime\n"
   ]
  },
  {
   "cell_type": "code",
   "execution_count": 62,
   "metadata": {},
   "outputs": [
    {
     "data": {
      "text/plain": [
       "datetime.datetime(2020, 7, 3, 18, 59)"
      ]
     },
     "execution_count": 62,
     "metadata": {},
     "output_type": "execute_result"
    }
   ],
   "source": [
    "date = datetime_cell.text.strip().lower().replace('janvier', 'january').replace('février', 'february').replace('mars', 'march').replace('avril', 'april').replace('mai', 'may').replace('juin', 'june').replace('juillet', 'july').replace('août', 'august').replace('septembre', 'september').replace('octobre', 'october').replace('novembre', 'november').replace('décembre', 'december')\n",
    "date = parse(date, fuzzy_with_tokens=True)[0]\n",
    "date"
   ]
  },
  {
   "cell_type": "markdown",
   "metadata": {},
   "source": [
    "##### Get article's Title"
   ]
  },
  {
   "cell_type": "code",
   "execution_count": 60,
   "metadata": {
    "scrolled": true
   },
   "outputs": [
    {
     "data": {
      "text/plain": [
       "<span class=\"lx-stream-post__header-text gs-u-align-middle\" data-reactid=\".zoekeinsdq.1.0.1.1.1:$post-53279666.0.1.1.0.1.0\" id=\"title_53279666\">Rencontre avec l'enfant boxeur le plus rapide du monde</span>"
      ]
     },
     "execution_count": 60,
     "metadata": {},
     "output_type": "execute_result"
    }
   ],
   "source": [
    "title = video.find(\"span\", {\"class\": \"lx-stream-post__header-text gs-u-align-middle\"})\n",
    "title"
   ]
  },
  {
   "cell_type": "code",
   "execution_count": 61,
   "metadata": {
    "scrolled": true
   },
   "outputs": [
    {
     "data": {
      "text/plain": [
       "\"Rencontre avec l'enfant boxeur le plus rapide du monde\""
      ]
     },
     "execution_count": 61,
     "metadata": {},
     "output_type": "execute_result"
    }
   ],
   "source": [
    "title = title.text.strip()\n",
    "title"
   ]
  },
  {
   "cell_type": "markdown",
   "metadata": {},
   "source": [
    "##### Get Video link\n"
   ]
  },
  {
   "cell_type": "code",
   "execution_count": 75,
   "metadata": {},
   "outputs": [],
   "source": [
    "video_page = video.find(\"a\", {\"class\": \"qa-heading-link lx-stream-post__header-link\"})\n",
    "video_page = \"https://www.bbc.com\" + video_page['href']\n",
    "\n",
    "video_response = requests.get(video_page)\n",
    "video_soup = bs(video_response.text)\n",
    "\n",
    "video_cell = video_soup.find(\"figure\", {\"class\": \"Figure-sc-6a3dhy-0 gJUCFc\"})\n"
   ]
  },
  {
   "cell_type": "code",
   "execution_count": 76,
   "metadata": {},
   "outputs": [
    {
     "data": {
      "text/plain": [
       "<figure class=\"Figure-sc-6a3dhy-0 gJUCFc\"><div class=\"StyledVideoContainer-sc-13p1a4d-0 bpuDKK\"><iframe allow=\"autoplay; fullscreen\" allowfullscreen=\"\" class=\"StyledIframe-fuo2ed-0 dIyDYU\" scrolling=\"no\" src=\"https://polling.bbc.co.uk/ws/av-embeds/cps/afrique/media-53279666/p08jsrj3/fr\" title=\"Lecteur média\"></iframe><noscript><div class=\"StyledWrapper-sc-1pnftlt-0 jywlaE\"><img alt=\"\" aria-hidden=\"true\" class=\"StyledImg-sc-7vx2mr-0 hIxkbt\" src=\"https://ichef.bbci.co.uk/images/ic/1024x576/p08jssj5.jpg\" srcset=\"https://ichef.bbci.co.uk/images/ic/1024x576/p08jssj5.jpg 240w, https://ichef.bbci.co.uk/images/ic/1024x576/p08jssj5.jpg 320w, https://ichef.bbci.co.uk/images/ic/1024x576/p08jssj5.jpg 480w, https://ichef.bbci.co.uk/images/ic/1024x576/p08jssj5.jpg 624w, https://ichef.bbci.co.uk/images/ic/1024x576/p08jssj5.jpg 800w\"/><div class=\"MessageWrapper-sc-1pnftlt-1 bHbRwS\"><strong class=\"StyledMessage-sc-1pnftlt-2 iRlUPR\">Pour regarder ce contenu, veuillez activer JavaScript ou essayer un autre navigateur.</strong></div></div></noscript></div></figure>"
      ]
     },
     "execution_count": 76,
     "metadata": {},
     "output_type": "execute_result"
    }
   ],
   "source": [
    "video_cell"
   ]
  },
  {
   "cell_type": "code",
   "execution_count": 79,
   "metadata": {},
   "outputs": [
    {
     "data": {
      "text/plain": [
       "'https://ichef.bbci.co.uk/images/ic/1024x576/p08jssj5.jpg'"
      ]
     },
     "execution_count": 79,
     "metadata": {},
     "output_type": "execute_result"
    }
   ],
   "source": [
    "video_cover_img = video_cell.img['src']"
   ]
  },
  {
   "cell_type": "code",
   "execution_count": 78,
   "metadata": {},
   "outputs": [
    {
     "data": {
      "text/plain": [
       "'https://polling.bbc.co.uk/ws/av-embeds/cps/afrique/media-53279666/p08jsrj3/fr'"
      ]
     },
     "execution_count": 78,
     "metadata": {},
     "output_type": "execute_result"
    }
   ],
   "source": [
    "video_link = video_cell.iframe['src']"
   ]
  },
  {
   "cell_type": "markdown",
   "metadata": {},
   "source": [
    "#### Readable article"
   ]
  },
  {
   "cell_type": "code",
   "execution_count": 80,
   "metadata": {},
   "outputs": [],
   "source": [
    "image = publications_list[1]"
   ]
  },
  {
   "cell_type": "markdown",
   "metadata": {},
   "source": [
    "##### Get Image of article"
   ]
  },
  {
   "cell_type": "code",
   "execution_count": 102,
   "metadata": {},
   "outputs": [
    {
     "data": {
      "text/plain": [
       "{'240w': 'https://ichef.bbci.co.uk/live-experience/cps/240/cpsprodpb/CE90/production/_113108825_whatsubject.jpg',\n",
       " '320w': 'https://ichef.bbci.co.uk/live-experience/cps/320/cpsprodpb/CE90/production/_113108825_whatsubject.jpg',\n",
       " '480w': 'https://ichef.bbci.co.uk/live-experience/cps/480/cpsprodpb/CE90/production/_113108825_whatsubject.jpg'}"
      ]
     },
     "execution_count": 102,
     "metadata": {},
     "output_type": "execute_result"
    }
   ],
   "source": [
    "div_image_cell = image.find(\"div\", {\"class\": \"lx-stream-related-story--index-image-wrapper qa-story-image-wrapper\"})\n",
    "\n",
    "image_cell = div_image_cell.img\n",
    "img_src_list = image_cell['srcset'].split()\n",
    "img_src_dict ={ img_src_list[i+1][:-1] : img_src_list[i]  for i in range( 0, len(img_src_list) // 2, 2) }"
   ]
  },
  {
   "cell_type": "markdown",
   "metadata": {},
   "source": [
    "##### Get article Primer"
   ]
  },
  {
   "cell_type": "code",
   "execution_count": 103,
   "metadata": {
    "scrolled": false
   },
   "outputs": [
    {
     "data": {
      "text/plain": [
       "'Comment le premier titre de première division de Liverpool en Angleterre depuis 30 ans a été alimenté par des joueurs africains.'"
      ]
     },
     "execution_count": 103,
     "metadata": {},
     "output_type": "execute_result"
    }
   ],
   "source": [
    "primer_cell = image.find(\"p\", {\"class\": \"lx-stream-related-story--summary qa-story-summary\"})\n",
    "\n",
    "primer = primer_cell.text # column--primary\n",
    "primer"
   ]
  },
  {
   "cell_type": "markdown",
   "metadata": {},
   "source": [
    "#### Prototypes"
   ]
  },
  {
   "cell_type": "code",
   "execution_count": 111,
   "metadata": {
    "scrolled": true
   },
   "outputs": [
    {
     "data": {
      "text/plain": [
       "0"
      ]
     },
     "execution_count": 111,
     "metadata": {},
     "output_type": "execute_result"
    }
   ],
   "source": [
    "len(video.find_all(\"img\"))"
   ]
  },
  {
   "cell_type": "code",
   "execution_count": 112,
   "metadata": {},
   "outputs": [
    {
     "data": {
      "text/plain": [
       "1"
      ]
     },
     "execution_count": 112,
     "metadata": {},
     "output_type": "execute_result"
    }
   ],
   "source": [
    "len(image.find_all(\"img\"))"
   ]
  },
  {
   "cell_type": "code",
   "execution_count": 116,
   "metadata": {},
   "outputs": [],
   "source": [
    "from dateutil.parser import parse\n",
    "\n",
    "def video(publication_tag):\n",
    "    video = publication_tag\n",
    "        \n",
    "    datetime_cell = video.find(\"span\", {\"class\": \"qa-post-auto-meta\"})\n",
    "    date = datetime_cell.text.strip().lower().replace('janvier', 'january').replace('février', 'february').replace('mars', 'march').replace('avril', 'april').replace('mai', 'may').replace('juin', 'june').replace('juillet', 'july').replace('août', 'august').replace('septembre', 'september').replace('octobre', 'october').replace('novembre', 'november').replace('décembre', 'december')\n",
    "    date = parse(date, fuzzy_with_tokens=True)[0]\n",
    "    \n",
    "    title = video.find(\"span\", {\"class\": \"lx-stream-post__header-text gs-u-align-middle\"})\n",
    "    title = title.text.strip()\n",
    "    \n",
    "    video_page = video.find(\"a\", {\"class\": \"qa-heading-link lx-stream-post__header-link\"})\n",
    "    video_page = \"https://www.bbc.com\" + video_page['href']\n",
    "    video_response = requests.get(video_page)\n",
    "    video_soup = bs(video_response.text)\n",
    "    video_cell = video_soup.find(\"figure\", {\"class\": \"Figure-sc-6a3dhy-0 gJUCFc\"})\n",
    "    video_cover_img = video_cell.img['src']\n",
    "    video_link = video_cell.iframe['src']\n",
    "    \n",
    "    data =  {\n",
    "        \"type\" : 'video', \n",
    "        \"date\" : date, \n",
    "        \"title\" : title, \n",
    "        \"video_cover\" : video_cover_img, \n",
    "        \"video_link\" : video_link, \n",
    "#         \"\" : , \n",
    "    }\n",
    "    return data\n",
    "\n",
    "\n",
    "def image(publication_tag):\n",
    "    image = publication_tag\n",
    "    \n",
    "    datetime_cell = image.find(\"span\", {\"class\": \"qa-post-auto-meta\"})\n",
    "    date = datetime_cell.text.strip().lower().replace('janvier', 'january').replace('février', 'february').replace('mars', 'march').replace('avril', 'april').replace('mai', 'may').replace('juin', 'june').replace('juillet', 'july').replace('août', 'august').replace('septembre', 'september').replace('octobre', 'october').replace('novembre', 'november').replace('décembre', 'december')\n",
    "    date = parse(date, fuzzy_with_tokens=True)[0]\n",
    "    \n",
    "    title = image.find(\"span\", {\"class\": \"lx-stream-post__header-text gs-u-align-middle\"})\n",
    "    title = title.text.strip()\n",
    "    \n",
    "    div_image_cell = image.find(\"div\", {\"class\": \"lx-stream-related-story--index-image-wrapper qa-story-image-wrapper\"})\n",
    "    image_cell = div_image_cell.img\n",
    "    img_src_list = image_cell['srcset'].split()\n",
    "    img_srcs_dict = { img_src_list[i+1][:-1] : img_src_list[i]  for i in range( 0, len(img_src_list) // 2, 2) }\n",
    "    \n",
    "    primer_cell = image.find(\"p\", {\"class\": \"lx-stream-related-story--summary qa-story-summary\"})\n",
    "    primer = primer_cell.text # column--primary\n",
    "\n",
    "    data =  {\n",
    "        \"type\" : 'image', \n",
    "        \"date\" : date, \n",
    "        \"title\" : title, \n",
    "        \"img_srcs_dict\" : img_srcs_dict, \n",
    "        \"primer\" : primer, \n",
    "#         \"\" : , \n",
    "    }\n",
    "    return data"
   ]
  },
  {
   "cell_type": "markdown",
   "metadata": {},
   "source": [
    "### Run a loop over all `<li>` of isolated the `<ol>` "
   ]
  },
  {
   "cell_type": "code",
   "execution_count": 120,
   "metadata": {},
   "outputs": [
    {
     "name": "stdout",
     "output_type": "stream",
     "text": [
      "We got '10' publication(s) on this page\n"
     ]
    }
   ],
   "source": [
    "store = []\n",
    "for publication in publications_list: \n",
    "    if len(publication.find_all(\"img\")) == 1 :\n",
    "        store += [image(publication)]\n",
    "    else:\n",
    "        store += [video(publication)]\n",
    "\n",
    "        \n",
    "print(f\"We got '{len(store)}' publication(s) on this page\")"
   ]
  },
  {
   "cell_type": "code",
   "execution_count": null,
   "metadata": {},
   "outputs": [],
   "source": []
  },
  {
   "cell_type": "code",
   "execution_count": 63,
   "metadata": {},
   "outputs": [],
   "source": [
    "import pandas as pd"
   ]
  },
  {
   "cell_type": "code",
   "execution_count": 119,
   "metadata": {
    "scrolled": false
   },
   "outputs": [
    {
     "data": {
      "text/html": [
       "<div>\n",
       "<style scoped>\n",
       "    .dataframe tbody tr th:only-of-type {\n",
       "        vertical-align: middle;\n",
       "    }\n",
       "\n",
       "    .dataframe tbody tr th {\n",
       "        vertical-align: top;\n",
       "    }\n",
       "\n",
       "    .dataframe thead th {\n",
       "        text-align: right;\n",
       "    }\n",
       "</style>\n",
       "<table border=\"1\" class=\"dataframe\">\n",
       "  <thead>\n",
       "    <tr style=\"text-align: right;\">\n",
       "      <th></th>\n",
       "      <th>type</th>\n",
       "      <th>date</th>\n",
       "      <th>title</th>\n",
       "      <th>video_cover</th>\n",
       "      <th>video_link</th>\n",
       "      <th>img_src_dict</th>\n",
       "      <th>primer</th>\n",
       "    </tr>\n",
       "  </thead>\n",
       "  <tbody>\n",
       "    <tr>\n",
       "      <th>0</th>\n",
       "      <td>video</td>\n",
       "      <td>2020-07-03 18:59:00</td>\n",
       "      <td>Rencontre avec l'enfant boxeur le plus rapide ...</td>\n",
       "      <td>https://ichef.bbci.co.uk/images/ic/1024x576/p0...</td>\n",
       "      <td>https://polling.bbc.co.uk/ws/av-embeds/cps/afr...</td>\n",
       "      <td>NaN</td>\n",
       "      <td>NaN</td>\n",
       "    </tr>\n",
       "    <tr>\n",
       "      <th>1</th>\n",
       "      <td>image</td>\n",
       "      <td>2020-06-26 14:19:00</td>\n",
       "      <td>Liverpool : les Africains qui ont aidé à rempo...</td>\n",
       "      <td>NaN</td>\n",
       "      <td>NaN</td>\n",
       "      <td>{'240w': 'https://ichef.bbci.co.uk/live-experi...</td>\n",
       "      <td>Comment le premier titre de première division ...</td>\n",
       "    </tr>\n",
       "    <tr>\n",
       "      <th>2</th>\n",
       "      <td>image</td>\n",
       "      <td>2020-06-25 18:00:00</td>\n",
       "      <td>Liverpool à deux points du titre de Premier Le...</td>\n",
       "      <td>NaN</td>\n",
       "      <td>NaN</td>\n",
       "      <td>{'240w': 'https://ichef.bbci.co.uk/live-experi...</td>\n",
       "      <td>Mohamed Salah estime que le moment est venu po...</td>\n",
       "    </tr>\n",
       "    <tr>\n",
       "      <th>3</th>\n",
       "      <td>image</td>\n",
       "      <td>2020-06-18 15:47:00</td>\n",
       "      <td>Marcus Rashford: la victoire d’un footballeur ...</td>\n",
       "      <td>NaN</td>\n",
       "      <td>NaN</td>\n",
       "      <td>{'240w': 'https://ichef.bbci.co.uk/live-experi...</td>\n",
       "      <td>Le gouvernement britannique a annoncé qu'il of...</td>\n",
       "    </tr>\n",
       "    <tr>\n",
       "      <th>4</th>\n",
       "      <td>image</td>\n",
       "      <td>2020-06-17 10:36:00</td>\n",
       "      <td>8ème titre consécutif du Bayern de Munich</td>\n",
       "      <td>NaN</td>\n",
       "      <td>NaN</td>\n",
       "      <td>{'240w': 'https://ichef.bbci.co.uk/live-experi...</td>\n",
       "      <td>Une passe décisive de Robert Lewandowski à Jer...</td>\n",
       "    </tr>\n",
       "  </tbody>\n",
       "</table>\n",
       "</div>"
      ],
      "text/plain": [
       "    type                date  \\\n",
       "0  video 2020-07-03 18:59:00   \n",
       "1  image 2020-06-26 14:19:00   \n",
       "2  image 2020-06-25 18:00:00   \n",
       "3  image 2020-06-18 15:47:00   \n",
       "4  image 2020-06-17 10:36:00   \n",
       "\n",
       "                                               title  \\\n",
       "0  Rencontre avec l'enfant boxeur le plus rapide ...   \n",
       "1  Liverpool : les Africains qui ont aidé à rempo...   \n",
       "2  Liverpool à deux points du titre de Premier Le...   \n",
       "3  Marcus Rashford: la victoire d’un footballeur ...   \n",
       "4          8ème titre consécutif du Bayern de Munich   \n",
       "\n",
       "                                         video_cover  \\\n",
       "0  https://ichef.bbci.co.uk/images/ic/1024x576/p0...   \n",
       "1                                                NaN   \n",
       "2                                                NaN   \n",
       "3                                                NaN   \n",
       "4                                                NaN   \n",
       "\n",
       "                                          video_link  \\\n",
       "0  https://polling.bbc.co.uk/ws/av-embeds/cps/afr...   \n",
       "1                                                NaN   \n",
       "2                                                NaN   \n",
       "3                                                NaN   \n",
       "4                                                NaN   \n",
       "\n",
       "                                        img_src_dict  \\\n",
       "0                                                NaN   \n",
       "1  {'240w': 'https://ichef.bbci.co.uk/live-experi...   \n",
       "2  {'240w': 'https://ichef.bbci.co.uk/live-experi...   \n",
       "3  {'240w': 'https://ichef.bbci.co.uk/live-experi...   \n",
       "4  {'240w': 'https://ichef.bbci.co.uk/live-experi...   \n",
       "\n",
       "                                              primer  \n",
       "0                                                NaN  \n",
       "1  Comment le premier titre de première division ...  \n",
       "2  Mohamed Salah estime que le moment est venu po...  \n",
       "3  Le gouvernement britannique a annoncé qu'il of...  \n",
       "4  Une passe décisive de Robert Lewandowski à Jer...  "
      ]
     },
     "execution_count": 119,
     "metadata": {},
     "output_type": "execute_result"
    }
   ],
   "source": [
    "df_store = pd.DataFrame(store)\n",
    "df_store.head()"
   ]
  },
  {
   "cell_type": "code",
   "execution_count": null,
   "metadata": {},
   "outputs": [],
   "source": []
  },
  {
   "cell_type": "markdown",
   "metadata": {},
   "source": [
    "# 💻<span style='color:green'> Authors & Contributors </span>\n",
    "\n",
    "<div align='center'>\n",
    "    <table>\n",
    "        <thead>\n",
    "            <tr>\n",
    "                <th>Name</th>\n",
    "                <th>Zindi ID</th>\n",
    "                <th>Github ID</th>\n",
    "            </tr>\n",
    "        </thead>\n",
    "        <tbody>\n",
    "            <tr>\n",
    "                <td>Muhamed TUO</td>\n",
    "                <td><a href=\"https://zindi.africa/users/Muhamed_Tuo\" target=\"_blank\" rel=\"nofollow\">@Nazario😁</a></td>\n",
    "                <td><a href=\"https://github.com/NazarioR9\" target=\"_blank\" rel=\"nofollow\">@NazarioR9</a></td>\n",
    "            </tr>\n",
    "            <tr>\n",
    "                <td>Cédric MANOUAN</td>\n",
    "                <td><a href=\"https://zindi.africa/users/I_am_Zeus_AI\" target=\"_blank\" rel=\"nofollow\">@I_am_Zeus_AI😆</a></td>\n",
    "                <td><a href=\"https://github.com/dric2018\" target=\"_blank\" rel=\"nofollow\">@dric2018</a></td>\n",
    "            </tr>\n",
    "            <tr>\n",
    "                <td>Emmanuel KOUPOH</td>\n",
    "                <td><a href=\"https://zindi.africa/users/eaedk\" target=\"_blank\" rel=\"nofollow\">@eaedk😂</a></td>\n",
    "                <td><a href=\"https://github.com/eaedk\" target=\"_blank\" rel=\"nofollow\">@eaedk</a></td>\n",
    "            </tr>\n",
    "            <tr>\n",
    "                <td></td>\n",
    "                <td></td>\n",
    "                <td></td>\n",
    "            </tr>\n",
    "        </tbody>\n",
    "    </table>\n",
    "</div>\n"
   ]
  }
 ],
 "metadata": {
  "kernelspec": {
   "display_name": "Python 3",
   "language": "python",
   "name": "python3"
  },
  "language_info": {
   "codemirror_mode": {
    "name": "ipython",
    "version": 3
   },
   "file_extension": ".py",
   "mimetype": "text/x-python",
   "name": "python",
   "nbconvert_exporter": "python",
   "pygments_lexer": "ipython3",
   "version": "3.7.7"
  },
  "toc": {
   "base_numbering": 1,
   "nav_menu": {},
   "number_sections": true,
   "sideBar": true,
   "skip_h1_title": false,
   "title_cell": "Table of Contents",
   "title_sidebar": "Contents",
   "toc_cell": false,
   "toc_position": {
    "height": "calc(100% - 180px)",
    "left": "10px",
    "top": "150px",
    "width": "287.708px"
   },
   "toc_section_display": true,
   "toc_window_display": true
  }
 },
 "nbformat": 4,
 "nbformat_minor": 4
}
