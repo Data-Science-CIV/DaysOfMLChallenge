{
 "cells": [
  {
   "cell_type": "markdown",
   "metadata": {},
   "source": [
    "#  Tâche 2 : Calculs scientifiques & manupulation de jeu de données"
   ]
  },
  {
   "cell_type": "markdown",
   "metadata": {},
   "source": [
    "Description : La tâche des deux prochains jours (04/07/2020 et 05/07/2020) consistera à reproduire les résultats obtenus après une ou pusieurs modifications du jeu de données principal (Automobile dataset). Cette reproduction se fera en repondant à quelques questions simples qui se trouvent à l'intérieur du notebook mis à votre disposition.\n",
    "\n",
    "Ressources disponibles:\n",
    "> * internet (youtube, google etc...)\n",
    "> * Memento_matplotlib_numpy.pdf\n",
    "> * memento_pandas.pdf\n",
    "> * https://pandas.pydata.org/docs/getting_started/10min.html#plotting\n",
    "> * https://numpy.org/doc/stable/user/quickstart.html "
   ]
  },
  {
   "cell_type": "markdown",
   "metadata": {},
   "source": [
    "### Les modules utiles "
   ]
  },
  {
   "cell_type": "code",
   "execution_count": 132,
   "metadata": {},
   "outputs": [
    {
     "name": "stdout",
     "output_type": "stream",
     "text": [
      "Numpy : 1.18.1\n",
      "Pandas : 0.24.2\n",
      "Matplotlib : 3.0.3\n"
     ]
    }
   ],
   "source": [
    "import pandas as pd # pour manipuler les tableaux de données\n",
    "import numpy as np # pour les calculs sciendifiques\n",
    "import matplotlib as mb\n",
    "import matplotlib.pyplot as plt # assez utile pour construire des graphiques et des courbes\n",
    "                                # on a aussi d'autres modules tels que seaborn ou encore plotly \n",
    "                                # qui aident à construire d'autres représentations graphiques\n",
    "\n",
    "# les noms après le mot clé \"as\" sont les alias qu'on utilise le plus (je dirais même toujours)\n",
    "# mais vous avez le droit de les changer en tout ce qui vous plaît\n",
    "\n",
    "# Afficher les version des modules utilisés:\n",
    "print(f\"Numpy : {np.__version__}\")\n",
    "print(f\"Pandas : {pd.__version__}\")\n",
    "print(f\"Matplotlib : {mb.__version__}\")"
   ]
  },
  {
   "cell_type": "markdown",
   "metadata": {},
   "source": [
    "## Calculs scientifiques:\n",
    "Avec numpy il est pssible d'effectuer de nombreuses opérations mathématiques et c'est pour cette raison que ce module\n",
    "est beaucoup répandu dans le monde de la data science. Ce module permet de créer, modifier, supprimer, bref faire toute manipulation désirée sur un tableau de données (multidimentionnel ou non). \n",
    "\n",
    "> Voir : https://numpy.org/doc/stable/user/quickstart.html pour la prise en main. "
   ]
  },
  {
   "cell_type": "markdown",
   "metadata": {},
   "source": [
    "### Task 2.1 : Numpy\n",
    "\n",
    "> 1) Créer une matrice de valeurs aléatoires normales (i.e des valeurs entre 0 et 1). Cette matrice sera de taille (n_cols = 15, n_lines=3)\n",
    "\n",
    "> 2) effectuer un produit matriciel entre deux matrces de tailles respectives (4,3) et (3, 5)\n",
    "\n",
    "> 3) appliquer la fonction sinus sur un tableau de 20 valeurs réelles.\n",
    "\n",
    "> 4) Construire les courbes des fonctions $y = max(x, 0)$ et $y = \\frac{1}{(1+e^{-x})}$ sur l'intervalle [-10; 10]\n",
    "(utiliser np.exp() pour la fonction expoentielle) (Il faudra réaliser deux graphes différents)\n",
    "\n",
    "résultat attendu :\n",
    "<center>\n",
    "    <img src='./q4_numpy.jpg' height='500' width='500' alt='./q4_numpy.jpg'>\n",
    "</center>\n",
    "\n",
    "\n",
    "> 5) Soit le vecteur x = np.array([0, 0, 0, 0,0, 0, 0 , 1, 0, 0, 0, 0]). Quel est lindice de l'élément maximal?\n",
    "\n",
    "PS : il existe une fonction numpy pour le trouver."
   ]
  },
  {
   "cell_type": "markdown",
   "metadata": {},
   "source": [
    "## Manipulation de données et visualisation\n",
    "\n",
    "Pandas est beaucoup utilisé lorsqu'il s'agit de travailler sur un tableau de données. Cette bibliothèque est très\n",
    "utile pour avoir une vue sur les données à analyser, évaluer les tendances statistiques (tendances centrales et de dispersion) mais aussi, elle est compatible avec numpy. Tout rend *pandas* incontournable comme outil. \n",
    "Il est généralement important de commncer son analyse par une exploration du tableau de données et celà se fait principalement à l'aide de numpy.\n",
    "\n",
    "* A savoir\n",
    "\n",
    "> Avec pandas, un tableau de données est souvent sous la forme __individus X variables__.\n",
    "Un individu correspond à une ligne du tableau (on di aussi un enregistrement);\n",
    "Une variable correspond à une colonne du tableau (on dit aussi caractéristique).\n",
    "Les variables peuvent être qualitatives (non numériques) ou quantitatives (numériques).\n",
    "\n",
    "> Voir https://pandas.pydata.org/docs/getting_started/10min.html#plotting pour la prise en main"
   ]
  },
  {
   "cell_type": "markdown",
   "metadata": {},
   "source": [
    "### Task 2.2 : Pandas & matplotlib\n",
    "\n",
    "> 1) Charger le jeu de données __Automobile_data.csv__ et afficher les __5 premières lignes__ et par la suite\n",
    "afficher les __9 dernières lignes__ du tableau\n",
    "\n",
    "> 2) Donner la statistique descriptive du jeu de données; les informations attendues sont __le nombre de lignes, \n",
    "la moyenne des valeurs par variables quantitatives, l'écart-type par colonne, le minimum de chaque colonne, le maximum de chaque colonne, les 1er, 2e et 3e quartiles__\n",
    "\n",
    "> 3) Quel est le nombre de voitures avec __six (06) cylindres__ ? (réponse attendues __11__)\n",
    "\n",
    "> 4) Quels sont les différentes compagnies contenues dans le tableau de données ?\n",
    "\n",
    "    > réponse attendue : ['alfa-romero', 'audi', 'bmw', 'chevrolet', 'dodge', 'honda',\n",
    "       'isuzu', 'jaguar', 'mazda', 'mercedes-benz', 'mitsubishi',\n",
    "       'nissan', 'porsche', 'toyota', 'volkswagen', 'volvo']\n",
    "\n",
    "> 5) Construire une matrice avec uniquement les colonnes et les lignes quantitatives. (taille attendue :(61, 5)) \n",
    "\n",
    "> 6) Combien de valeurs manquantes a-t-on ? (réponse attendue : price 3 et tout le reste à zéro)\n",
    "\n",
    "> 7) afficher l'évolution des prix (price) en fonction de la puissance (horsepower).\n",
    "\n",
    "résultat attendu :\n",
    "<center>\n",
    "    <img src='./q7_pandas.jpg' height='500' width='500' alt='./q7_pandas.jpg'>\n",
    "</center>\n",
    "\n",
    "> 8) Avec la réponse à la question 5, construire deux np.array() (X et Y) avec X.shape == (61, 5) et \n",
    "Y.shape == (61, )"
   ]
  },
  {
   "cell_type": "markdown",
   "metadata": {},
   "source": [
    " Pour être un peu à l'aise avec ces modules que nous venons de voir, vous avez a possibilité de fouiner un peu pour avoir un aperçu des fonctions disponibles. Pour cela, manipulez le tableau de données mis à votre disposition."
   ]
  }
 ],
 "metadata": {
  "kernelspec": {
   "display_name": "Python 3",
   "language": "python",
   "name": "python3"
  },
  "language_info": {
   "codemirror_mode": {
    "name": "ipython",
    "version": 3
   },
   "file_extension": ".py",
   "mimetype": "text/x-python",
   "name": "python",
   "nbconvert_exporter": "python",
   "pygments_lexer": "ipython3",
   "version": "3.7.3"
  }
 },
 "nbformat": 4,
 "nbformat_minor": 2
}
