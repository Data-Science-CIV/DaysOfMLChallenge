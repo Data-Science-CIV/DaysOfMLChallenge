{
 "cells": [
  {
   "cell_type": "markdown",
   "metadata": {
    "colab_type": "text",
    "id": "XOfXOnHqqImO",
    "slideshow": {
     "slide_type": "slide"
    }
   },
   "source": [
    "# BIENVENUE AU PREMIER MEETING DE ***Data Science CI***\n",
    "<div align='center'>\n",
    "\n",
    "<img src=\"https://drive.google.com/uc?export=view&id=1wSyviJUVLG2dWNDek1610Lzs7lJ0m7kj\" alt=\"Data Science CI Logo\" >\n",
    "\n",
    "</div>"
   ]
  },
  {
   "cell_type": "markdown",
   "metadata": {
    "colab_type": "text",
    "id": "FDppacAXwInm",
    "slideshow": {
     "slide_type": "subslide"
    }
   },
   "source": [
    "## 💻<span style='color:green'> Authors & Contributors </span>\n",
    "\n",
    "<div align='center'>\n",
    "<table>\n",
    "<thead>\n",
    "<tr>\n",
    "<th>Name</th>\n",
    "<th>Zindi ID</th>\n",
    "<th>Github ID</th>\n",
    "</tr>\n",
    "</thead>\n",
    "<tbody><tr>\n",
    "<td>Muhamed TUO</td>\n",
    "<td><a href=\"https://zindi.africa/users/Muhamed_Tuo\" target=\"_blank\" rel=\"nofollow\">@Nazario😁</a></td>\n",
    "<td><a href=\"https://github.com/NazarioR9\" target=\"_blank\" rel=\"nofollow\">@NazarioR9</a></td>\n",
    "</tr>\n",
    "<tr>\n",
    "<td>Cédric MANOUAN</td>\n",
    "<td><a href=\"https://zindi.africa/users/I_am_Zeus_AI\" target=\"_blank\" rel=\"nofollow\">@I_am_Zeus_AI😆</a></td>\n",
    "<td><a href=\"https://github.com/dric2018\" target=\"_blank\" rel=\"nofollow\">@dric2018</a></td>\n",
    "</tr>\n",
    "<tr>\n",
    "<td>Emmanuel KOUPOH</td>\n",
    "<td><a href=\"https://zindi.africa/users/eaedk\" target=\"_blank\" rel=\"nofollow\">@eaedk😂</a></td>\n",
    "<td><a href=\"https://github.com/eaedk\" target=\"_blank\" rel=\"nofollow\">@eaedk</a></td>\n",
    "</tr>\n",
    "<tr>\n",
    "<td></td>\n",
    "<td></td>\n",
    "<td></td>\n",
    "</tr>\n",
    "</tbody></table>\n",
    "</div>\n",
    "\n",
    "\n",
    "\n",
    "\n",
    "## 👨🏽‍🎓🚀💻<span style='color:green'> Acknowledgments </span>\n",
    "\n",
    "<div align='center'>\n",
    "<img src=\"data:image/png;base64,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\" alt=\"ZINDI\" id=\"logo\" data-height-percentage=\"90\" data-actual-width=\"320\" data-actual-height=\"91\">\n",
    "</div>\n",
    "\n",
    "<div align='center'>\n",
    "<a href=\"https://zindi.africa/\" style=\"font-weight:bold\"> ZINDI</a>\n",
    "</div>"
   ]
  },
  {
   "cell_type": "markdown",
   "metadata": {
    "colab_type": "text",
    "id": "1mAGyg18rd7o",
    "slideshow": {
     "slide_type": "subslide"
    }
   },
   "source": [
    "## SOMMAIRE\n",
    "\n",
    "Merci de votre présence, et voici les points que nous aborderons :\n",
    "\n",
    "\n",
    "> 1.   Les objectifs du groupe .\n",
    "> 2.   Qu'est-ce que l'algorithmique ?\n",
    "> 3.   Qu'est-ce que Python 3 ?\n",
    "> 4.   Qu'est-ce que la Data Science ?\n",
    "> 5.   Qu'est-ce que le Machine Learning ?\n",
    "> 6.   Quel est le plan 20 Days Challenge ?\n"
   ]
  },
  {
   "cell_type": "markdown",
   "metadata": {
    "colab_type": "text",
    "id": "J-4vyCuS142D",
    "slideshow": {
     "slide_type": "subslide"
    }
   },
   "source": [
    "# 1.   Les objectifs du groupe\n",
    "\n",
    "Les principaux objectifs du groupe sont :\n",
    "\n",
    "> 1.   Créer une communauté forte de Data Scientists Africains capables de rivaliser avec les meilleurs au plan international.\n",
    "\n",
    "> 2.   Réaliser et Collaborer à des projets technologiques utiles pour le continent Africain.\n",
    "\n",
    "> 3.   Transmettre et acquérir des compétences diverses et variées liées aux metiers de la Data.\n",
    "\n",
    "> 4.   Etre un centre d'initiation pour tout jeune desirant se former au monde de la Technologie et de la Data."
   ]
  },
  {
   "cell_type": "markdown",
   "metadata": {
    "colab_type": "text",
    "id": "xlPBM2_MrdoT",
    "slideshow": {
     "slide_type": "slide"
    }
   },
   "source": [
    "# 2.   Qu'est-ce que l'algorithmique ?"
   ]
  },
  {
   "cell_type": "markdown",
   "metadata": {
    "colab_type": "text",
    "id": "QFIqvYQX15xH",
    "slideshow": {
     "slide_type": "subslide"
    }
   },
   "source": [
    "## Définition :\n",
    "\n",
    "> C'est la science qui etudie les ***Algorithmes***.\n",
    "\n"
   ]
  },
  {
   "cell_type": "markdown",
   "metadata": {
    "colab_type": "text",
    "id": "vk7N-kTzT5kE",
    "slideshow": {
     "slide_type": "subslide"
    }
   },
   "source": [
    "## Un Algorithme :\n",
    "\n",
    "> C'est une suite limitée d'étapes qu'un ordinateur suit pour résoudre un probleme précis.\n",
    "\n",
    "\n",
    "> Un peu plus formellement nous dirons qu':\n",
    "> \n",
    "> « un algorithme est une ***suite finie*** et ***non ambiguë*** ***d'opérations ou d'instructions***, qu'un ordinateur ***exécute*** pour ***résoudre*** une ***tâche spécifique***. »\n",
    "\n",
    "\n",
    "\n",
    "\n",
    "\n"
   ]
  },
  {
   "cell_type": "markdown",
   "metadata": {
    "colab_type": "text",
    "id": "MXfSjoklYAnh",
    "slideshow": {
     "slide_type": "subslide"
    }
   },
   "source": [
    "## Remarque sur les Algorithmes :\n",
    "\n",
    "\n",
    "> 1.   Les algorithmes sont scientifiques pas magiques ;\n",
    "\n",
    "> 2.   Il faut décrire entièrement leur fonctionnement ;\n",
    "\n",
    "> 3.   Il faut respecter leur structure ;\n",
    "\n",
    "> 4.   Un logiciel ou programme informatique est la transcription d'un algorithme en langage de programmation .\n",
    "\n"
   ]
  },
  {
   "cell_type": "markdown",
   "metadata": {
    "colab_type": "text",
    "id": "5DNMP_Q6BtW6",
    "slideshow": {
     "slide_type": "subslide"
    }
   },
   "source": [
    "## Structure générale d'un algorithme\n",
    "\n",
    "![Structure generale d'un algorithme](https://apcpedagogie.com/wp-content/uploads/2016/12/al-1.png)"
   ]
  },
  {
   "cell_type": "markdown",
   "metadata": {
    "colab_type": "text",
    "id": "l0Ow7VOtA5pZ",
    "slideshow": {
     "slide_type": "subslide"
    }
   },
   "source": [
    "## Tutoriel pour apprendre l'algorithmique\n",
    "[![Tutoriel](http://img.youtube.com/vi/fgcGdkhtUcE/0.jpg)](http://www.youtube.com/watch?v=fgcGdkhtUcE)\n"
   ]
  },
  {
   "cell_type": "markdown",
   "metadata": {
    "colab_type": "text",
    "id": "xv8lej2IrbCB",
    "slideshow": {
     "slide_type": "slide"
    }
   },
   "source": [
    "# 3.   Qu'est-ce que Python 3 ?"
   ]
  },
  {
   "cell_type": "markdown",
   "metadata": {
    "colab_type": "text",
    "id": "lSc6Gn2j166s",
    "slideshow": {
     "slide_type": "subslide"
    }
   },
   "source": [
    "Python est simplement un langage de programmation. Il est:\n",
    "\n",
    "> *  **Interprété** : par le bias d'un interpreteur. Un interpréteur est un traducteur \"à la volée\", c'est-à-dire un outil qui traduit mot à mot les informations clées. De manière generale, en informatique, un langage de programmation est soit interpreté ou soit compilé.\n",
    "\n",
    "> * **Multi-paradigme** : \n",
    "   Ce qui signifie qu'il existe plusieurs façons d'approcher et de traiter des problèmes de programmation. On citera comme paradigme de programmation:\n",
    "    - La Programmation Impérative\n",
    "    - La Programmation Orientée Objet (POO)\n",
    "    - La Programmation Déclarative\n",
    "\n",
    "> * **Multiplateforme** : fonctionne sur plusieurs OS (système d'exploitation) et noyaux.\n",
    "\n",
    "> * **Doté d'un typage dynamique fort** :  il n'est pas necessaire d'indiquer le type d'une variable.\n",
    "\n"
   ]
  },
  {
   "cell_type": "markdown",
   "metadata": {
    "colab_type": "text",
    "id": "pjnkhzbhB4s8",
    "slideshow": {
     "slide_type": "slide"
    }
   },
   "source": [
    "# 4.   Qu'est-ce que la Data Science ?"
   ]
  },
  {
   "cell_type": "markdown",
   "metadata": {
    "colab_type": "text",
    "id": "cw_iWdhP8BbR",
    "slideshow": {
     "slide_type": "subslide"
    }
   },
   "source": [
    "## Définition :\n",
    "\n",
    "> la ***Data Science*** ou science des données est l'extraction de connaissance à partir d'ensembles de données.\n",
    "\n"
   ]
  },
  {
   "cell_type": "markdown",
   "metadata": {
    "slideshow": {
     "slide_type": "subslide"
    }
   },
   "source": [
    "## La Data Science, un domaine à la croisée des displines :\n",
    "\n",
    "> La Data Science est une discipline qui s'appuie sur des outils mathématiques, de statistiques, d'informatique et de visualisation des données. \n",
    "\n",
    "<div align='center'>\n",
    "<img src=\"https://upload.wikimedia.org/wikipedia/commons/4/44/DataScienceDisciplines.png\" data-height-percentage=\"90\" data-actual-width=\"320\" data-actual-height=\"80\">\n",
    "</div>\n",
    "\n",
    "> Le premier objectif du « data scientist » est de produire des méthodes (automatisées, autant que possible) de tri et d'analyse de données de masse et de sources plus ou moins complexes ou disjointes de données, afin d'en extraire des informations utiles ou potentiellement utiles."
   ]
  },
  {
   "cell_type": "markdown",
   "metadata": {
    "colab_type": "text",
    "id": "JJsLAsobu7E9",
    "slideshow": {
     "slide_type": "slide"
    }
   },
   "source": [
    "# 5.   Qu'est-ce que le Machine Learning ?\n",
    "<center>\n",
    "    <img src = './ML.jpg' alt='ML from zero to hero image' width=650 height=650>\n",
    "    \n",
    "source : <a href= 'https://www.google.com/url?sa=i&url=https%3A%2F%2Ftwitter.com%2Fhashtag%2Fmachinerlearning&psig=AOvVaw0HR5tlXCFZiq1J7srMcYZE&ust=1593741896417000&source=images&cd=vfe&ved=0CAIQjRxqFwoTCNjElby9reoCFQAAAAAdAAAAABAE'>\n",
    "    Link to image\n",
    "    </a>\n",
    "</center>\n"
   ]
  },
  {
   "cell_type": "markdown",
   "metadata": {
    "colab_type": "text",
    "id": "21sTEjmDu7CB",
    "slideshow": {
     "slide_type": "subslide"
    }
   },
   "source": [
    "L’intelligence artificielle est un vaste domaine de recherche qui a pour but de concevoir\n",
    "des machines capables de réaliser des tâches qui, autrefois, étaient uniquement dédiées à\n",
    "l’Homme."
   ]
  },
  {
   "cell_type": "markdown",
   "metadata": {
    "slideshow": {
     "slide_type": "subslide"
    }
   },
   "source": [
    "De manière générale, la machine parvient à cette fin en passant par un processus d’apprentissage : **l’apprentissage automatique** ou en anglais **le machine learning**.\n",
    "Ce processus consiste à programmer la machine de sorte à ce qu’elle apprenne d’elle-même les règles qui permettent à un agent humain de réaliser une tâche bien déterminée. "
   ]
  },
  {
   "cell_type": "markdown",
   "metadata": {
    "slideshow": {
     "slide_type": "subslide"
    }
   },
   "source": [
    "Cet apprentissage peut alors prendre plusieurs formes selon le domaine dans lequel il est \n",
    "appliqué. \n",
    "Ainsi, l’on peut distinguer entre autres trois (03) principaux types d’apprentissage automatique à savoir \n",
    "**l’apprentissage supervisé**, **l’apprentissage non supervisé** et **l’apprentissage par renforcement**.\n"
   ]
  },
  {
   "cell_type": "markdown",
   "metadata": {
    "colab_type": "text",
    "id": "n41W1J1DvGFi",
    "slideshow": {
     "slide_type": "slide"
    }
   },
   "source": [
    "# 6.   Quel est le plan du #DaysOfMLChallenge ?"
   ]
  },
  {
   "cell_type": "markdown",
   "metadata": {
    "colab_type": "text",
    "id": "irumNdlgvNrt",
    "slideshow": {
     "slide_type": "subslide"
    }
   },
   "source": [
    "Il s'agit d'une introduction à l'utilisation de quelques outils de la science des données avec le langage de programmation **python** (version 3.x). Toutes les informations du challenge sont consignées dans le document suivant avec les thématiques chaque deux (02) jours. Les tâches seront données le jour J (à partir de la tâche 2) avec les ressources nécesaires. Tout y est sauf vos préoccupations et vos éventuels bugs 😁 😁 😁!\n",
    "\n",
    "   > Documents du challenge :\n",
    "   - DSCI_20DaysChallenge_eng.pdf\n",
    "   - DSCI_20DaysChallenge_frv.pdf"
   ]
  }
 ],
 "metadata": {
  "celltoolbar": "Diaporama",
  "colab": {
   "collapsed_sections": [
    "pjnkhzbhB4s8"
   ],
   "name": "FirstMeeting.ipynb",
   "provenance": []
  },
  "kernelspec": {
   "display_name": "Python 3",
   "language": "python",
   "name": "python3"
  },
  "language_info": {
   "codemirror_mode": {
    "name": "ipython",
    "version": 3
   },
   "file_extension": ".py",
   "mimetype": "text/x-python",
   "name": "python",
   "nbconvert_exporter": "python",
   "pygments_lexer": "ipython3",
   "version": "3.7.6"
  },
  "toc": {
   "base_numbering": 1,
   "nav_menu": {},
   "number_sections": true,
   "sideBar": true,
   "skip_h1_title": false,
   "title_cell": "Table of Contents",
   "title_sidebar": "Contents",
   "toc_cell": false,
   "toc_position": {},
   "toc_section_display": true,
   "toc_window_display": false
  }
 },
 "nbformat": 4,
 "nbformat_minor": 1
}